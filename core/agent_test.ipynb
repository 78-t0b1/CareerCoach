{
 "cells": [
  {
   "cell_type": "code",
   "execution_count": 2,
   "metadata": {},
   "outputs": [
    {
     "name": "stderr",
     "output_type": "stream",
     "text": [
      "USER_AGENT environment variable not set, consider setting it to identify your requests.\n"
     ]
    }
   ],
   "source": [
    "from langchain_chroma import Chroma\n",
    "from langchain_community.document_loaders import WebBaseLoader, PyPDFDirectoryLoader\n",
    "from langchain_core.prompts import ChatPromptTemplate\n",
    "from langchain_text_splitters import RecursiveCharacterTextSplitter\n",
    "from langchain.chains import create_retrieval_chain\n",
    "from langchain.chains.combine_documents import create_stuff_documents_chain\n",
    "from langchain.output_parsers import PydanticOutputParser\n",
    "from langchain_core.prompts import PromptTemplate\n",
    "from pydantic import BaseModel, Field"
   ]
  },
  {
   "cell_type": "code",
   "execution_count": 3,
   "metadata": {},
   "outputs": [
    {
     "data": {
      "text/plain": [
       "ChatGroq(client=<groq.resources.chat.completions.Completions object at 0x000002015A1E4B90>, async_client=<groq.resources.chat.completions.AsyncCompletions object at 0x000002015A1E5730>, model_name='Llama3-8b-8192', model_kwargs={}, groq_api_key=SecretStr('**********'))"
      ]
     },
     "execution_count": 3,
     "metadata": {},
     "output_type": "execute_result"
    }
   ],
   "source": [
    "import os\n",
    "from dotenv import load_dotenv\n",
    "load_dotenv()\n",
    "from langchain_groq import ChatGroq\n",
    "\n",
    "groq_api_key=os.getenv(\"GROQ_API_KEY\")\n",
    "\n",
    "llm=ChatGroq(groq_api_key=groq_api_key,model_name=\"Llama3-8b-8192\")\n",
    "\n",
    "llm"
   ]
  },
  {
   "cell_type": "code",
   "execution_count": 4,
   "metadata": {},
   "outputs": [
    {
     "name": "stderr",
     "output_type": "stream",
     "text": [
      "c:\\Programming Work\\CareerCoach\\cc_venv\\Lib\\site-packages\\sentence_transformers\\cross_encoder\\CrossEncoder.py:13: TqdmWarning: IProgress not found. Please update jupyter and ipywidgets. See https://ipywidgets.readthedocs.io/en/stable/user_install.html\n",
      "  from tqdm.autonotebook import tqdm, trange\n"
     ]
    }
   ],
   "source": [
    "os.environ['HUGGINGFACE_API_KEY']=os.getenv(\"HUGGINGFACE_API_KEY\")\n",
    "from langchain_huggingface import HuggingFaceEmbeddings\n",
    "embeddings=HuggingFaceEmbeddings(model_name=\"all-MiniLM-L6-v2\")"
   ]
  },
  {
   "cell_type": "code",
   "execution_count": 6,
   "metadata": {},
   "outputs": [
    {
     "data": {
      "text/plain": [
       "[Document(metadata={'source': 'https://www.accenture.com/ie-en/careers/jobdetails?id=R00243560_en&title=Machine%20Learning%20Engineer#accordion-54c4da3570-item-cc64175c33', 'title': 'Machine Learning Engineer', 'description': 'Learn more about applying for Machine Learning Engineer position at Accenture.', 'language': 'en'}, page_content=\"\\n\\n\\n\\n\\nMachine Learning Engineer\\n\\n\\n\\n\\n\\n\\n\\n\\n\\n\\n\\n\\n\\n\\n\\n\\n\\n\\n\\n\\n\\n\\n\\n\\n\\n\\n\\n\\n\\n\\n\\n\\n\\n\\n\\n\\n\\n\\n\\n\\n\\n\\n\\n\\n\\n\\n\\n\\n\\n\\n\\n\\n\\n\\n\\n\\n\\n\\n\\n\\n\\n\\n\\n\\n\\n\\n\\n\\n\\n\\n\\n\\n\\n\\n\\n\\n\\nSkip to main content\\nSkip to footer\\n\\n\\n\\n\\n\\n\\n\\n\\n\\n\\n\\n\\n\\n\\n\\n\\n\\n\\n\\n\\n\\n\\n\\n\\n\\n\\n\\n\\nInsights\\n\\n\\nServices\\n\\n\\n\\n\\n\\n\\n\\n\\n\\n\\n\\n\\n\\n\\n\\n\\n\\n\\nCloud\\n\\t\\t\\t  \\n\\t\\t  \\n\\n\\nCybersecurity\\n\\t\\t\\t  \\n\\t\\t  \\n\\n\\nData and Artificial Intelligence\\n\\t\\t\\t  \\n\\t\\t  \\n\\n\\nDigital Engineering and Manufacturing\\n\\t\\t\\t  \\n\\t\\t  \\n\\n\\nEmerging Technology\\n\\t\\t\\t  \\n\\t\\t  \\n\\n\\nEcosystem Partners\\n\\t\\t\\t  \\n\\t\\t  \\n\\n\\nFinance and Risk Management\\n\\t\\t\\t  \\n\\t\\t  \\n\\n\\nInfrastructure and Capital Projects\\n\\t\\t\\t  \\n\\t\\t  \\n\\n\\nLearning\\n\\t\\t\\t  \\n\\t\\t  \\n\\n\\nMarketing and Experience\\n\\t\\t\\t  \\n\\t\\t  \\n\\n\\nMetaverse\\n\\t\\t\\t  \\n\\t\\t  \\n\\n\\nSales and Commerce\\n\\t\\t\\t  \\n\\t\\t  \\n\\n\\nStrategic Managed Services\\n\\t\\t\\t  \\n\\t\\t  \\n\\n\\nStrategy\\n\\t\\t\\t  \\n\\t\\t  \\n\\n\\nSupply Chain\\n\\t\\t\\t  \\n\\t\\t  \\n\\n\\nSustainability\\n\\t\\t\\t  \\n\\t\\t  \\n\\n\\nTalent and Organization\\n\\t\\t\\t  \\n\\t\\t  \\n\\n\\nTechnology Transformation\\n\\t\\t\\t  \\n\\t\\t  \\n\\n\\n\\n\\n\\n\\n\\n\\n\\n\\n\\n\\n\\n\\n\\n\\n\\n\\n\\n\\nIndustries\\n\\n\\n\\n\\n\\n\\n\\n\\n\\n\\n\\n\\n\\n\\n\\n\\n\\n\\nAerospace and Defense\\n\\t\\t\\t  \\n\\t\\t  \\n\\n\\nAutomotive\\n\\t\\t\\t  \\n\\t\\t  \\n\\n\\n Banking\\n\\t\\t\\t  \\n\\t\\t  \\n\\n\\n Capital Markets\\n\\t\\t\\t  \\n\\t\\t  \\n\\n\\nChemicals\\n\\t\\t\\t  \\n\\t\\t  \\n\\n\\n Communications and Media\\n\\t\\t\\t  \\n\\t\\t  \\n\\n\\n Consumer Goods and Services\\n\\t\\t\\t  \\n\\t\\t  \\n\\n\\n Energy\\n\\t\\t\\t  \\n\\t\\t  \\n\\n\\nHealth\\n\\t\\t\\t  \\n\\t\\t  \\n\\n\\n High Tech\\n\\t\\t\\t  \\n\\t\\t  \\n\\n\\n Industrial\\n\\t\\t\\t  \\n\\t\\t  \\n\\n\\n Insurance\\n\\t\\t\\t  \\n\\t\\t  \\n\\n\\nLife Sciences\\n\\t\\t\\t  \\n\\t\\t  \\n\\n\\nNatural Resources\\n\\t\\t\\t  \\n\\t\\t  \\n\\n\\n Public Service\\n\\t\\t\\t  \\n\\t\\t  \\n\\n\\nPrivate Equity\\n\\t\\t\\t  \\n\\t\\t  \\n\\n\\n Retail\\n\\t\\t\\t  \\n\\t\\t  \\n\\n\\nSoftware and Platforms\\n\\t\\t\\t  \\n\\t\\t  \\n\\n\\n Travel\\n\\t\\t\\t  \\n\\t\\t  \\n\\n\\nUtilities\\n\\t\\t\\t  \\n\\t\\t  \\n\\n\\n\\n\\n\\n\\n\\n\\n\\n\\n\\n\\n\\n\\n\\n\\n\\n\\n\\n\\nCareers\\n\\n\\n\\n\\n\\n\\n\\n\\n\\n\\n\\n\\n\\n\\n\\n\\n\\n\\nCareers Home\\n\\t\\t\\t  \\n\\t\\t  \\n\\n\\nSearch Jobs\\n\\t\\t\\t  \\n\\t\\t  \\n\\n\\n\\n\\n\\n\\n\\n\\nJoin Us\\nJoin Us\\n\\nCareers\\n\\n\\nExecutive Leaders\\n\\t\\t\\t  \\n\\t\\t  \\n\\n\\nExperienced Professionals\\n\\t\\t\\t  \\n\\t\\t  \\n\\n\\nEntry Level Jobs\\n\\t\\t\\t  \\n\\t\\t  \\n\\n\\nStudents\\n\\t\\t\\t  \\n\\t\\t  \\n\\n\\nInternships\\n\\t\\t\\t  \\n\\t\\t  \\n\\n\\nTraining & Development\\n\\t\\t\\t  \\n\\t\\t  \\n\\n\\nWork Environment\\n\\t\\t\\t  \\n\\t\\t  \\n\\n\\n\\n\\n\\n\\n\\n\\nExplore Jobs\\nExplore Jobs\\n\\nCareers\\n\\n\\nSearch Jobs by Areas of Expertise\\n\\t\\t\\t  \\n\\t\\t  \\n\\n\\nConsulting Jobs\\n\\t\\t\\t  \\n\\t\\t  \\n\\n\\nCorporate Jobs\\n\\t\\t\\t  \\n\\t\\t  \\n\\n\\nDigital Jobs\\n\\t\\t\\t  \\n\\t\\t  \\n\\n\\nOperations Jobs\\n\\t\\t\\t  \\n\\t\\t  \\n\\n\\nStrategy Jobs\\n\\t\\t\\t  \\n\\t\\t  \\n\\n\\nTechnology Jobs\\n\\t\\t\\t  \\n\\t\\t  \\n\\n\\n\\n\\n\\n\\n\\n\\n\\n\\n\\n\\n\\n\\n\\n\\n\\n\\n\\n\\nAbout Accenture\\n\\n\\n\\n\\n\\n\\n\\n\\n\\n\\n\\n\\n\\n\\n\\nWho We Are\\nWho We Are\\n\\nAbout Accenture\\n\\n\\nAbout Accenture\\n\\t\\t\\t  \\n\\t\\t  \\n\\n\\nLeadership\\n\\t\\t\\t  \\n\\t\\t  \\n\\n\\nHow We Work with Clients\\n\\t\\t\\t  \\n\\t\\t  \\n\\n\\nCase Studies\\n\\t\\t\\t  \\n\\t\\t  \\n\\n\\nNewsroom\\n\\t\\t\\t  \\n\\t\\t  \\n\\n\\nInvestor Relations\\n\\t\\t\\t  \\n\\t\\t  \\n\\n\\nInclusion & Diversity\\n\\t\\t\\t  \\n\\t\\t  \\n\\n\\n\\n\\n\\n\\n\\n\\nHow We're Organized\\nHow We're Organized\\n\\nAbout Accenture\\n\\n\\nStrategy and Consulting\\n\\t\\t\\t  \\n\\t\\t  \\n\\n\\nSong\\n\\t\\t\\t  \\n\\t\\t  \\n\\n\\nTechnology\\n\\t\\t\\t  \\n\\t\\t  \\n\\n\\nOperations\\n\\t\\t\\t  \\n\\t\\t  \\n\\n\\nIndustry X\\n\\t\\t\\t  \\n\\t\\t  \\n\\n\\n\\n\\n\\n\\n\\n\\nIn Ireland\\nIn Ireland\\n\\nAbout Accenture\\n\\n\\nExploring Ireland's Digital Divide\\n\\t\\t\\t  \\n\\t\\t  \\n\\n\\nInclusion & Diversity in Ireland\\n\\t\\t\\t  \\n\\t\\t  \\n\\n\\n\\n\\n\\n\\n\\n\\n\\n\\n\\n\\n\\n\\n\\n\\n\\n\\n\\n\\n\\n\\n\\n\\n\\nContact Us\\n\\n\\nCareers\\n\\n\\nLocations\\n\\n\\nAccess Application\\n\\n\\nSaved Jobs\\n\\n\\n\\n\\n\\n\\nYour browser does not support JavaScript. Some\\n\\tcomponents may not be visible.\\n\\n\\n\\n\\n\\n\\n\\n\\n\\n\\n\\n\\n\\n\\n\\n\\n\\n\\n\\n\\n\\n\\n\\n\\n\\n\\n\\n\\n\\n\\nYour browser does not support JavaScript. Some\\n\\tcomponents may not be visible.\\n\\n\\n\\n\\n\\n\\nIreland\\n\\n\\n\\n\\n\\nDefault (English)\\nAll COUNTRIES & LANGUAGES\\n\\nArgentina (Spanish)\\n\\n\\nAustralia (English)\\n\\n\\nAustria (German) \\n\\n\\nBelgium (English)\\n\\n\\nBrazil (Portuguese)\\n\\n\\nBulgaria (English)\\n\\n\\nCanada (English)\\n\\n\\nCanada (French) \\n\\n\\nChile (Spanish)\\n\\n\\nChina/Hong Kong SAR (English)\\n\\n\\nChina/Mainland (Chinese)\\n\\n\\nChina/Mainland (English)\\n\\n\\nColombia (Spanish)\\n\\n\\nCosta Rica (English)\\n\\n\\nCzech Republic (English)\\n\\n\\nDenmark (English)\\n\\n\\nFinland (English)\\n\\n\\nFrance (French)\\n\\n\\nGermany (German)\\n\\n\\nGreece (English)\\n\\n\\nHungary (English)\\n\\n\\nIndia (English)\\n\\n\\nIndonesia (English)\\n\\n\\nIreland  (English)\\n\\n\\nIsrael (English)\\n\\n\\nItaly (Italian)\\n\\n\\nJapan (Japanese)\\n\\n\\nLatvia (English)\\n\\n\\nLuxembourg (English)\\n\\n\\nMalaysia (English)\\n\\n\\nMauritius (English)\\n\\n\\nMexico (Spanish)\\n\\n\\nNetherlands (English)\\n\\n\\nNew Zealand (English)\\n\\n\\nNorway (English)\\n\\n\\nPhilippines (English)\\n\\n\\nPoland (English)\\n\\n\\nPoland (Polish)\\n\\n\\nPortugal (Portuguese)\\n\\n\\nRomania (English)\\n\\n\\nSaudi Arabia (English)\\n\\n\\nSingapore (English)\\n\\n\\nSlovakia (Slovak)\\n\\n\\nSlovakia (English)\\n\\n\\nSouth Africa (English)\\n\\n\\nSpain (Spanish)\\n\\n\\nSweden (English)\\n\\n\\nSwitzerland (English)\\n\\n\\nSwitzerland (German)\\n\\n\\nThailand (English)\\n\\n\\nUAE (English)\\n\\n\\nUnited Kingdom (English)\\n\\n\\nUSA (English)\\n\\n\\n\\n\\n\\n\\n\\n\\n\\n\\n\\n\\n\\n\\n\\n\\n\\n\\n\\n\\n\\n\\n\\n\\n\\n\\n\\nBack to Previous Job\\n\\n\\n\\n\\n\\nNew Job Search\\n\\n\\n\\n\\n\\n\\n\\n\\nMachine Learning Engineer\\n\\n\\nDublin\\n\\nJob No. r00243560\\n\\nFull-time\\n\\n\\n\\n\\nApply Now\\n\\n\\n\\n\\n\\n\\n\\n\\nSave Job\\n\\n\\nSaved Job\\n\\n\\n\\nRegister for Job Alerts\\n\\n\\n\\n\\n\\nShare\\n\\n\\n\\n\\n\\n\\n\\n\\n\\nShare\\n\\n\\n\\n\\n\\n\\n\\n\\n\\n\\n\\n\\n\\n\\n\\n\\n\\n\\nJob Link:\\n\\n\\nCopy\\n\\n\\n\\n\\n\\n\\n\\n\\n\\n\\ngo back to referred job\\n\\n\\n\\n\\n\\n\\n\\n\\n\\n\\n\\n\\n\\n\\n\\n\\n\\n\\n\\n\\n\\n\\n\\n\\n\\n\\n\\n\\n\\n\\n\\n\\n\\n\\n\\n\\n\\xa0 \\xa0 \\xa0 \\xa0 \\xa0\\xa0\\n\\n\\n\\n\\n\\n\\n\\n\\nThis job is no longer available. Continue your job search here.\\n\\n\\n\\n\\n\\n\\n\\n\\nOK\\n\\n\\n\\n\\n\\n\\n\\n\\n\\n\\n\\n\\n\\n\\n\\n\\n\\n\\n\\n\\n\\n\\n\\n\\n\\n\\n\\n\\n\\n\\n\\n\\n\\n\\n\\n\\n\\n\\n\\n\\n\\n\\n\\n\\n\\nJob Description\\n\\n\\n\\n\\n\\nAbout Accenture & Accenture SongAccenture is a leading professional services company that provides a wide range of services including strategy and consulting, data and analytics, technology and operation services worldwide. With our thought leadership and culture of innovation, we apply industry expertise, diverse skill sets and next-generation technology to each business challenge.Accenture Song is our customer organization and works with clients across their marketing, sales and services functions. We create growth through relevance for our clients and provide a creative playground of imagination and technology. The Data & Intelligence team is part of Accenture Song and is dedicated to leveraging data to drive customer-centric experiences and business growth including:Customer Data Strategy: Developing data-driven approaches for strategic decision-making.Performance Measurement: Improving customer experiences through feedback and trend analysis.Digital Analytics: Optimizing marketing spend and campaign effectiveness.Personalisation: Enhancing customer journeys with AI-driven personalisation.Data Orchestration: Integrating data seamlessly across platforms.Audience Insights: Analysing customer data to inform marketing strategiesGenerative AI Innovation: Drive new customer experiences and solutions using generative AIAbout the RoleYou will be part of high-performing teams tasked with driving business growth and enhancing customer experiences through data and AI. You should have demonstrable experience in the following areas;Exploring and analysing our data to identify trends and predictive models that will optimise performanceSupporting delivery of Generative projects for clientsBuilding Interactive Dashboards for Data Visualisation and AnalysisFine-tuning large language models (e.g. GPT 4), and working with script writers to automate content generationProactively suggesting ways in which technology can be applied to client problemsIdentifying transformation opportunities and developing strategies and roadmaps to deliverLeading / facilitating design workshopsWorking with a diverse set of cross-functional stakeholdersAbility to operate at all stages of a project lifecycle, from proposal to deliverySupporting client strategic sessions, pitches and proposalsExperience working with senior stakeholdersStrong analytical, problem-solving skillsCommunication skills, the ability to influence senior stakeholders and explain technical concepts to a non-tech audienceBringing creativity and design thinking to client problemsIndustry expertise\\n\\n\\n\\n\\n\\n\\nshow more\\n\\n\\nshow less\\n\\n\\n\\n\\n\\n\\n\\n\\n\\nQualifications\\n\\n\\n\\n\\n\\n\\n\\n3+ years of relevant industry experience in AI and Machine Learning\\nPrevious experience in building machine learning solutions in a commercial setting\\nThorough knowledge of implementing supervised and unsupervised machine learning techniques\\nProduction level Python, including building backend and command line tools\\nExperience with LLM models\\nCommercial Experience with Tensorflow / Keras\\nDeveloping cloud native systems\\nBachelor’s degree or equivalent experience in a related discipline\\nExperience in management consulting is highly regarded\\n\\n\\n\\nDoes this appeal to you? If so, we wish to hear from you.\\nAt Accenture Ireland, in addition to a competitive base salary, you will also have an extensive benefits package which includes pension, private health insurance, , emergency caring facilities, and 2 days’ leave per year for charitable work of your choice! Flexible working arrangements can be discussed depending on the position.\\nPlease advise if you have any particular requirements, so we can look into arranging reasonable adjustments to the recruitment process. You can contact us at\\xa0accessIErecruitment@accenture.com\\nAccenture is a global professional services company with leading capabilities in digital, cloud and security. Combining unmatched experience and specialised skills across more than 40 industries, we offer Strategy and Consulting, Interactive, Technology and Operations services—all powered by the world’s largest network of Advanced Technology and Intelligent Operations centres. Our 721,000 people deliver on the promise of technology and human ingenuity every day, serving clients in more than 120 countries. We embrace the power of change to create value and shared success for our clients, people, shareholders, partners, and communities. Visit us at\\xa0www.accenture.com. #LI-EU\\n\\n\\n\\n\\n\\n\\n\\n\\n\\n\\n\\n\\nEqual Employment Opportunity Statement\\n\\n\\n\\n\\n\\n\\n\\n\\nAll employment decisions shall be made without regard to age, race, creed, colour, religion, sex, national origin, ancestry, disability status, veteran status, sexual orientation, gender identity or expression, genetic information, marital status, citizenship status or any other basis as applicable by law.\\n\\xa0\\nJob candidates will not be obligated to disclose sealed or expunged records of conviction or arrest as part of the hiring process.\\n\\xa0\\nPlease read Accenture’s\\xa0Recruiting and Hiring Statement\\xa0for more information on how we process your data during the Recruiting and Hiring process.\\n\\n\\n\\n\\n\\n\\n\\n\\n\\n\\n\\n\\n\\nApply Now\\n\\n\\n\\nRegister for Job Alerts\\n\\n\\n\\n\\n\\nShare\\n\\n\\n\\n\\n\\n\\n\\n\\n\\nShare\\n\\n\\n\\n\\n\\n\\n\\n\\n\\n\\n\\n\\n\\n\\n\\n\\n\\n\\nJob Link:\\n\\n\\nCopy\\n\\n\\n\\n\\n\\n\\n\\n\\n\\n\\n\\n\\n\\n\\n\\n\\n\\n\\n\\n\\n\\n\\n\\n\\n\\n\\n\\n\\n\\n\\nYour browser does not support JavaScript. Some\\n\\tcomponents may not be visible.\\n\\n\\n\\n\\n\\n\\n\\n\\n\\n\\n\\n\\n\\n\\n\\n\\n\\n\\n\\n\\n\\n\\n\\n\\n\\n\\n\\n\\n\\n\\nLife at Accenture\\n\\n\\n\\n\\nWork where you're inspired to explore your passions and where your talents are nurtured and cultivated. Innovate with leading-edge technologies on some of the coolest projects you can imagine.\\n\\n\\n\\n\\n\\n\\n\\n\\n\\n\\n\\n\\n\\n\\n\\n\\n\\n\\n\\n\\n\\n\\n\\n\\n\\n\\n\\t\\t\\n        Training and Development\\n    \\nTake time away to learn and learn all the time in our regional learning hubs, connected classrooms, online courses and learning boards.\\n\\n\\nLEARN MORE\\n\\n\\n\\n\\n\\n\\n\\n\\n\\n\\n\\n\\n\\n\\n\\n\\t\\t\\n        Work Environment\\n    \\nBe your best every day in a work environment that helps drive innovation in everything you do.\\n\\n\\nLEARN MORE\\n\\n\\n\\n\\n\\n\\n\\n\\n\\n\\n\\n\\n\\n\\n\\n\\n\\n\\n\\n\\n\\n\\n\\n\\n\\n\\n\\n\\nLearn more about Accenture\\n\\n\\n\\n\\nOur more than 742,000 people in more than 120 countries, combine unmatched experience and specialized skills across more than 40 industries. We embrace the power of change to create value and shared success for our clients, people, shareholders, partners and communities.\\n\\n\\n\\n\\n\\n\\n\\n\\n\\n\\n\\n\\n\\n\\n\\n\\n\\n\\n\\n\\n\\n\\n\\n\\n\\n\\n\\n\\nOur Expertise\\n\\nSee how we embrace the power of change to create value and shared success for our clients, people, shareholders, partners and communities.\\n\\nFIND OUT MORE\\n\\n\\n\\n\\n\\n\\n\\n\\n\\n\\n\\n\\n\\n\\n\\n\\n\\nMeet Our People\\n\\nFrom entry-level to leadership, across all business and industry segments, get to know our people harnessing technology to make a difference, every day.\\n\\nFIND OUT MORE\\n\\n\\n\\n\\n\\n\\n\\n\\n\\n\\n\\n\\n\\n\\n\\n\\n\\n\\n\\n\\n\\n\\n\\n\\n\\n\\n\\n\\n\\n\\n\\n\\n\\nStay connected\\n\\n\\n\\n\\n\\n\\n\\n\\n\\n\\n\\n\\n\\n\\n\\n\\n\\n\\n\\n\\n\\n\\n\\n\\n\\n\\n\\n\\n\\t\\t\\n        Join Our Team\\n    \\nSearch open positions that match your skills and interest. We look for passionate, curious, creative and solution-driven team players.\\n\\n\\nSEARCH ACCENTURE JOBS\\n\\n\\n\\n\\n\\n\\n\\n\\n\\n\\n\\n\\n\\n\\n\\n\\n\\n\\t\\t\\n        Keep Up to Date\\n    \\nStay ahead with careers tips, insider perspectives, and industry-leading insights you can put to use today–all from the people who work here.\\n\\n\\nREAD CAREERS BLOG\\n\\n\\n\\n\\n\\n\\n\\n\\n\\n\\n\\n\\n\\n\\n\\n\\n\\n\\t\\t\\n        Job Alert Emails\\n    \\nPersonalize your subscription to receive job alerts, latest news and insider tips tailored to your preferences. See what exciting and rewarding opportunities await.\\n\\n\\nREGISTER FOR JOB ALERTS\\n\\n\\n\\n\\n\\n\\n\\n\\n\\n\\n\\n\\n\\n\\n\\n\\n\\n\\n\\n\\n\\n\\n\\n\\n\\n\\n\\n\\n\\n\\n\\n\\n\\n\\n\\nPlease enable Advertising and Social Media Cookies to be able to see this content.\\r\\nClick here to update your cookie settings.\\n\\n\\n\\n\\n\\n\\n\\n\\n\\n\\n\\n\\n\\n\\n\\n\\t        \\t\\t\\tAbout US\\n\\t        \\t\\t\\n\\n\\n\\n\\t        \\t\\t\\tContact US\\n\\t        \\t\\t\\n\\n\\n\\n\\t        \\t\\t\\tAlumni\\n\\t        \\t\\t\\n\\n\\n\\n\\t        \\t\\t\\tPRIVACY STATEMENT\\n\\t        \\t\\t\\n\\n\\n\\n\\n\\n\\n\\n\\n\\n\\n\\n\\n\\n\\n\\n\\n\\n\\n\\n\\n\\n\\n\\n\\n\\n\\t        \\t\\t\\tRecruiting and Hiring Privacy Statement\\n\\t        \\t\\t\\n\\n\\n\\n\\t        \\t\\t\\tTerms & Conditions\\n\\t        \\t\\t\\n\\n\\n\\n\\t        \\t\\t\\tCookie Policy\\n\\t        \\t\\t\\n\\n\\n\\n\\t        \\t\\t\\tAccessibility Statement\\n\\t        \\t\\t\\n\\n\\n\\n\\t        \\t\\t\\tSitemap\\n\\t        \\t\\t\\n\\n\\n\\n\\t        \\t\\t\\tGlobal Meritocracy\\n\\t        \\t\\t\\n\\n\\n\\n\\t\\t\\t\\t    © 2024 Accenture. All Rights Reserved.\\n\\t\\t\\t\\t    \\n\\n\\n\\n\\n\\n\\n\\n\\n\\n\\n\\n\\n\\n\\n\\n\\n\\n\\n\\n\")]"
      ]
     },
     "execution_count": 6,
     "metadata": {},
     "output_type": "execute_result"
    }
   ],
   "source": [
    "import bs4\n",
    "loader = WebBaseLoader(\n",
    "    web_paths=(\"https://www.accenture.com/ie-en/careers/jobdetails?id=R00243560_en&title=Machine%20Learning%20Engineer#accordion-54c4da3570-item-cc64175c33\",)\n",
    "    # ,\n",
    "    # bs_kwargs=dict(\n",
    "    #     parse_only=bs4.SoupStrainer(\n",
    "    #         class_=(\"post-content\", \"post-title\", \"post-header\")\n",
    "    #     )\n",
    "    # ),\n",
    ")\n",
    "\n",
    "web_docs=loader.load()\n",
    "web_docs"
   ]
  },
  {
   "cell_type": "code",
   "execution_count": 7,
   "metadata": {},
   "outputs": [],
   "source": [
    "from typing import List, Optional\n",
    "from pydantic import BaseModel, Field\n",
    "\n",
    "class Job(BaseModel):\n",
    "    title: str = Field(description=\"Job title or position.\")\n",
    "    company: str = Field(description=\"The company name.\")\n",
    "    location: Optional[str] = Field(description=\"Location of the job.\")\n",
    "    salary: Optional[str] = Field(description=\"Salary range for the job.\")\n",
    "    description: str = Field(description=\"Detailed job description.\")\n",
    "    responsibilities: List[str] = Field(description=\"List of job responsibilities.\")\n",
    "    benefits: Optional[List[str]] = Field(description=\"List of job benefits.\")\n",
    "    employment_type: Optional[str] = Field(description=\"Type of employment (e.g., full-time, part-time).\")\n",
    "    posted_date: Optional[str] = Field(description=\"Date when the job was posted.\")\n"
   ]
  },
  {
   "cell_type": "code",
   "execution_count": 8,
   "metadata": {},
   "outputs": [],
   "source": [
    "parser = PydanticOutputParser(pydantic_object=Job)\n",
    "primary_system_prompt = (\n",
    "    \"You have to extract all the field values from job description.\"\n",
    "    \"Fields: {fields}\"\n",
    "    \n",
    ")\n",
    "\n",
    "prompt = ChatPromptTemplate.from_messages(\n",
    "    [\n",
    "        (\"system\", primary_system_prompt),\n",
    "        (\"human\", \"{input}\")\n",
    "    ]\n",
    ")\n",
    "\n",
    "input_dict = {\"input\":web_docs.__str__(), \"fields\":parser.get_format_instructions()}\n"
   ]
  },
  {
   "cell_type": "code",
   "execution_count": 9,
   "metadata": {},
   "outputs": [
    {
     "data": {
      "text/plain": [
       "'The output should be formatted as a JSON instance that conforms to the JSON schema below.\\n\\nAs an example, for the schema {\"properties\": {\"foo\": {\"title\": \"Foo\", \"description\": \"a list of strings\", \"type\": \"array\", \"items\": {\"type\": \"string\"}}}, \"required\": [\"foo\"]}\\nthe object {\"foo\": [\"bar\", \"baz\"]} is a well-formatted instance of the schema. The object {\"properties\": {\"foo\": [\"bar\", \"baz\"]}} is not well-formatted.\\n\\nHere is the output schema:\\n```\\n{\"properties\": {\"title\": {\"description\": \"Job title or position.\", \"title\": \"Title\", \"type\": \"string\"}, \"company\": {\"description\": \"The company name.\", \"title\": \"Company\", \"type\": \"string\"}, \"location\": {\"anyOf\": [{\"type\": \"string\"}, {\"type\": \"null\"}], \"description\": \"Location of the job.\", \"title\": \"Location\"}, \"salary\": {\"anyOf\": [{\"type\": \"string\"}, {\"type\": \"null\"}], \"description\": \"Salary range for the job.\", \"title\": \"Salary\"}, \"description\": {\"description\": \"Detailed job description.\", \"title\": \"Description\", \"type\": \"string\"}, \"responsibilities\": {\"description\": \"List of job responsibilities.\", \"items\": {\"type\": \"string\"}, \"title\": \"Responsibilities\", \"type\": \"array\"}, \"benefits\": {\"anyOf\": [{\"items\": {\"type\": \"string\"}, \"type\": \"array\"}, {\"type\": \"null\"}], \"description\": \"List of job benefits.\", \"title\": \"Benefits\"}, \"employment_type\": {\"anyOf\": [{\"type\": \"string\"}, {\"type\": \"null\"}], \"description\": \"Type of employment (e.g., full-time, part-time).\", \"title\": \"Employment Type\"}, \"posted_date\": {\"anyOf\": [{\"type\": \"string\"}, {\"type\": \"null\"}], \"description\": \"Date when the job was posted.\", \"title\": \"Posted Date\"}}, \"required\": [\"title\", \"company\", \"location\", \"salary\", \"description\", \"responsibilities\", \"benefits\", \"employment_type\", \"posted_date\"]}\\n```'"
      ]
     },
     "execution_count": 9,
     "metadata": {},
     "output_type": "execute_result"
    }
   ],
   "source": [
    "parser.get_format_instructions()"
   ]
  },
  {
   "cell_type": "code",
   "execution_count": 10,
   "metadata": {},
   "outputs": [
    {
     "data": {
      "text/plain": [
       "{'title': 'Machine Learning Engineer',\n",
       " 'company': 'Accenture',\n",
       " 'location': 'Dublin',\n",
       " 'salary': None,\n",
       " 'description': 'Learn more about applying for Machine Learning Engineer position at Accenture.',\n",
       " 'responsibilities': ['Exploring and analysing our data to identify trends and predictive models that will optimise performance',\n",
       "  'Supporting delivery of Generative projects for clients',\n",
       "  'Building Interactive Dashboards for Data Visualisation and Analysis',\n",
       "  'Fine-tuning large language models (e.g. GPT 4), and working with script writers to automate content generation',\n",
       "  'Proactively suggesting ways in which technology can be applied to client problems',\n",
       "  'Identifying transformation opportunities and developing strategies and roadmaps to deliver',\n",
       "  'Leading / facilitating design workshops',\n",
       "  'Working with a diverse set of cross-functional stakeholders'],\n",
       " 'benefits': ['Pension',\n",
       "  'Private health insurance',\n",
       "  'Employee assistance programme',\n",
       "  \"2 days' leave per year for charitable work of your choice\",\n",
       "  'Flexible working arrangements'],\n",
       " 'employment_type': 'Full-time',\n",
       " 'posted_date': None}"
      ]
     },
     "execution_count": 10,
     "metadata": {},
     "output_type": "execute_result"
    }
   ],
   "source": [
    "chain = prompt|llm|parser\n",
    "job = chain.invoke(input_dict)\n",
    "job_data = job.dict()\n",
    "job_data"
   ]
  },
  {
   "cell_type": "code",
   "execution_count": 71,
   "metadata": {},
   "outputs": [
    {
     "data": {
      "text/plain": [
       "Job(title='Machine Learning Engineer', company='Accenture', location='Dublin', salary=None, description='Learn more about applying for Machine Learning Engineer position at Accenture.', responsibilities=['Exploring and analysing our data to identify trends and predictive models that will optimise performance', 'Supporting delivery of Generative projects for clients', 'Building Interactive Dashboards for Data Visualisation and Analysis', 'Fine-tuning large language models (e.g. GPT 4), and working with script writers to automate content generation', 'Proactively suggesting ways in which technology can be applied to client problems', 'Identifying transformation opportunities and developing strategies and roadmaps to deliver', 'Leading / facilitating design workshops', 'Working with a diverse set of cross-functional stakeholders'], benefits=None, employment_type=None, posted_date=None)"
      ]
     },
     "execution_count": 71,
     "metadata": {},
     "output_type": "execute_result"
    }
   ],
   "source": [
    "job"
   ]
  },
  {
   "cell_type": "code",
   "execution_count": 76,
   "metadata": {},
   "outputs": [],
   "source": [
    "from typing import List, Optional\n",
    "from pydantic import BaseModel, Field, field_validator\n",
    "\n",
    "class WorkExperience(BaseModel):\n",
    "    job_title: str = Field(description=\"Job title or position.\")\n",
    "    company: str = Field(description=\"The company name.\")\n",
    "    experience: str = Field(description=\"Years of experience in the job.\")\n",
    "    responsibilities: List[str] = Field(description=\"List of responsibilities in the job.\")\n",
    "    @field_validator('*')\n",
    "    def not_found(cls, v):\n",
    "        if v is None:\n",
    "            return ''\n",
    "        return v\n",
    "\n",
    "class Education(BaseModel):\n",
    "    degree: str = Field(description=\"Degree obtained.\")\n",
    "    school: str = Field(description=\"The university name.\")\n",
    "    major: str = Field(description=\"Major subject.\")\n",
    "    year: Optional[str] = Field(description=\"Year of graduation.\")\n",
    "\n",
    "    \n",
    "    @field_validator('*')\n",
    "    def not_found(cls, v):\n",
    "        if v is None:\n",
    "            return ''\n",
    "        return v\n",
    "\n",
    "class Resume(BaseModel):\n",
    "    \"\"\"Structured resume data.\"\"\"\n",
    "\n",
    "    name: str = Field(description=\"Name of the person\")\n",
    "    professional_summary: str = Field(description=\"Professional summary of the person.\")\n",
    "    work_experience: List[WorkExperience] = Field(description=\"List of work experiences held by the person.\")\n",
    "    education: List[Education] = Field(description=\"List of educational qualifications of the person.\")\n",
    "    skills: List[str] = Field(description=\"List of skills relevant to the jobs.\")\n"
   ]
  },
  {
   "cell_type": "code",
   "execution_count": 77,
   "metadata": {},
   "outputs": [],
   "source": [
    "loader = PyPDFDirectoryLoader(\"../resume\")\n",
    "resume_docs = loader.load()\n"
   ]
  },
  {
   "cell_type": "code",
   "execution_count": 78,
   "metadata": {},
   "outputs": [
    {
     "data": {
      "text/plain": [
       "\"Tanmay Suhas Jagtap \\nGalway, Ireland | Stamp 1G | +353874852825 | tanmayjagtap78@gmail.com | LinkedIn | GitHub | Portfolio  \\n \\nSUMMARY  \\n \\nData Scientist with over 5 years of experience in machine learning  and data science . Proven track record of building \\nscalable data pipelines, deploying machine learning models, and leading high -impact projects in industries ranging from \\nfinancial services to AI -driven innovation. Skilled in collaborating with cross -functional teams to dr ive business growth \\nthrough data-driven insights. Holding a Stamp 1G work permit and eligible to take up full-time employment in Ireland. \\n \\nTECHNICAL SKILLS \\n \\nLanguages:  Python, SQL, HTML, CSS, JS, R, C# \\nAI/ML:  TensorFlow–Keras, SK-learn, Langchain , FastAPI, Firebase, Streamlit, Git, PowerBI, Spacy, GCP, OpenAI \\nAnalytics:  PostgreSQL, PowerBI, SQLite3, Pandas, Apache Spark, Excel \\n   \\nPROFESSIONAL EXPERIENCE \\n \\nAITON                             Galway, Ireland  \\nData Scientist-Intern                        June 2024- Present \\n• Developed a product recommendation model utilizing OpenAI embeddings based on user activity, enhancing \\npersonalized customer experiences improving monthly sales by 12%. \\n• Deployed the recommendation solution across multiple Shopify websites  using Firebase and Flas k, streamlining \\nimplementation for e-commerce clients. \\n•  Built an AI chatbot for customer support with Voiceflow, reducing human intervention by 10 hours weekly. \\n \\nMorningstar      Mumbai, India \\nAssociate Manager - Data Science                     Oct 2022 – Aug 2023 \\n• Worked on a Large Language Model (LLM)  project, using the GPT-3 embeddings to extract KPIs from over 500 \\ncompany sustainability reports, which resulted in a 37% increase in the accuracy and automation of KPI extraction. \\n• Developed predictive model [Random Forest, XGBoost] to predict the Environmental, social and governance (ESG) \\nratings of companies based on extracted KPIs and historical ratings. \\n• Integrated a new ML solution using Python into 3 existing solutions, using KPIs to achieve a 18% efficiency  \\nimprovement. \\n• Led 5 POCs to extract data from ESG documents, demonstrating advanced data handling. \\n• Performed A/B testing for model selection as which model is more helpful for analysts. \\n• Created Power BI dashboards and SQL reports to track performance metrics, supporting data-driven decisions. \\n \\n Research and Innovation, TCS                  Mumbai, India \\n Machine Learning Engineer                                                                                                                                       Jan 2020 – Oct 2022 \\n• Leveraged AI/ML algorithms in Python to enhance product performance, achieving an up to 5x efficiency boost and \\nreducing processing time. \\n• Filed a patent for background removal in ID card scanning for KYC ( PATENT), reducing processing time by 99% from \\n48 hours to 2 minutes. \\n• Designed and maintained relational databases for storing extracted metadata from legal documents, streamlining \\ndata storage and retrieval, and making the process 5x faster. \\n• Developed a core library for information extraction from legal documents (images/text). Integrated Word2Vec with \\nNER using transfer learning, improving accuracy by 12%. Tools: Spacy, NLTK. \\n• Exposed APIs and deployed models using Flask, FastAPI and Firebase. \\n \\nAniruddha Telemetry System                     Mumbai, India \\n   Computer Vision Engineer                                                                                                                                           April 2019 – November 2019 \\n• Developed a predictive system to detect and classify outlier capsule batches, using OpenCV and machine learning \\nalgorithms to improve sorting accuracy and efficiency. \\n• Designed computer vision system for vehicle Speed Detection using surveillance cameras. \\n \\nEDUCATION    \\n \\nUniversity of Galway                         Galway, Ireland  \\nMasters in Business Analytics                                                                                                                       Sept 2023 - June 2024 \\nVivekanand Education Society Institute of Technology                                    Mumbai, India  \\nBachelor of Engineering in Electronics & Telecommunication                                                                                                         July 2015 - May 2018  \\n \\n \\n /n \\nPROJECTS \\n \\nRAG based Data Analyst [Langchain, JS, GPT 4o, SQLite3, FastAPI] \\nImplemented a chatbot powered by ChatGPT for Interacting with multiple datasets and getting answers of business \\nquestions which help to make business decisions. \\nChat with PDF using LLMs [Langchain, Streamlit, GPT, BERT] \\nImplemented a chatbot powered by ChatGPT for interactive PDF document interaction, utilizing Huggingface models \\nfor enhanced performance. \\nFace Mask Detection Using RetinaNet and TF-2.1 [TensorFlow, OpenCV] \\nDeveloped a predictive computer vision model with 95% accuracy using RetinaNet to detect face masks, helping to \\nenforce mask-wearing protocols in real-time workplace environments during the COVID-19 pandemic. \\nCOVID-19 Open Research Dataset Challenge[Pandas, Numpy, SK-learn]  \\nIn response to the COVID-19 pandemic, the White House and a coalition of leading research groups have prepared the \\nCOVID-19 Open Research Dataset. I tried to visualize this data to verify its spray pattern. \\nDiamond Price Predictor[Pandas, Linear regression] \\n Created a predictive model using Linear Regression to estimate the price of diamonds based on attributes such as \\ncolor, cut, clarity, and carat weight. The model accurately predicted diamond prices, achieving an R-squared score of \\n85%, making it a reliable tool for pricing estimation in the jewelry industry. \\nSpotify Music Predictor [Pandas, Numpy, SK-learn, XGBoost] \\nDeveloped a classification model to predict users' music preferences using features from Spotify’s music library, \\nachieving a 78% prediction accuracy. \\n \\nACCOMPLISHMENTS \\n \\n1st Prize, Datathon 2024, University of Galway \\nRecognized for innovative data solutions and outstanding performance in the Datathon 2024 at the University of Galway. \\nLed a team to win the top prize for developing advanced data analytics models. \\n \\nIP Creation Award - Award for Excellence in Patent Filing \\nHonored for excellence in innovation and intellectual property creation . Awarded for successfully filing a patent, \\nrecognizing significant contributions to novel technology development. \\n \\n1st Prize, Data Science Hackathon by GreyAtom \\nSecured first place in GreyAtom’s Data Science Hackathon by developing an insurance claim prediction model for travel \\ninsurance. Demonstrated expertise in predictive modeling and data analysis. \\n \\nOn The Spot Award (August 2021), TCS Research and Innovation  \\nAwarded by TCS Research and Innovation for exceptional performance and immediate impact in delivering research-\\nbased solutions. Recognized for contributing to key projects. \\n \\nCleared TCS Digital Capability Assessment \\nSuccessfully passed the TCS Digital Capability Assessment, demonstrating advanced technical and digital skills  in areas \\ncritical to the organization's innovation and growth. \\n \\nCERTIFICATIONS \\n \\nData Science Masterclass, GreyAtom School of Data Science       \\nApplied AI with Deep Learning and Signal Processing (IBM), Coursera      \\nAdvance Machine learning and signal processing, Coursera       /n\""
      ]
     },
     "execution_count": 78,
     "metadata": {},
     "output_type": "execute_result"
    }
   ],
   "source": [
    "content = \"\"\n",
    "for i in resume_docs:\n",
    "    content+=i.page_content+'/n'\n",
    "\n",
    "content"
   ]
  },
  {
   "cell_type": "code",
   "execution_count": 79,
   "metadata": {},
   "outputs": [],
   "source": [
    "parser = PydanticOutputParser(pydantic_object=Resume)\n",
    "primary_system_prompt = (\n",
    "    \"You have to extract all the field values from Resume.\"\n",
    "    \"Fields: {fields}\"\n",
    "    \n",
    ")\n",
    "\n",
    "prompt = ChatPromptTemplate.from_messages(\n",
    "    [\n",
    "        (\"system\", primary_system_prompt),\n",
    "        (\"human\", \"{input}\")\n",
    "    ]\n",
    ")\n",
    "\n",
    "input_dict = {\"input\":content, \"fields\":parser.get_format_instructions()}\n"
   ]
  },
  {
   "cell_type": "code",
   "execution_count": 1,
   "metadata": {},
   "outputs": [
    {
     "ename": "NameError",
     "evalue": "name 'parser' is not defined",
     "output_type": "error",
     "traceback": [
      "\u001b[1;31m---------------------------------------------------------------------------\u001b[0m",
      "\u001b[1;31mNameError\u001b[0m                                 Traceback (most recent call last)",
      "Cell \u001b[1;32mIn[1], line 1\u001b[0m\n\u001b[1;32m----> 1\u001b[0m \u001b[43mparser\u001b[49m\u001b[38;5;241m.\u001b[39mget_format_instructions()\n",
      "\u001b[1;31mNameError\u001b[0m: name 'parser' is not defined"
     ]
    }
   ],
   "source": [
    "parser.get_format_instructions()"
   ]
  },
  {
   "cell_type": "code",
   "execution_count": 80,
   "metadata": {},
   "outputs": [
    {
     "data": {
      "text/plain": [
       "Resume(name='Tanmay Suhas Jagtap', professional_summary='Data Scientist with over 5 years of experience in machine learning  and data science . Proven track record of building scalable data pipelines, deploying machine learning models, and leading high -impact projects in industries ranging from financial services to AI -driven innovation. Skilled in collaborating with cross -functional teams to drive business growth through data-driven insights. Holding a Stamp 1G work permit and eligible to take up full-time employment in Ireland.', work_experience=[WorkExperience(job_title='Data Scientist-Intern', company='AITON', experience='June 2024- Present', responsibilities=['Developed a product recommendation model utilizing OpenAI embeddings based on user activity, enhancing personalized customer experiences improving monthly sales by 12%.', 'Deployed the recommendation solution across multiple Shopify websites using Firebase and Flask, streamlining implementation for e-commerce clients.', 'Built an AI chatbot for customer support with Voiceflow, reducing human intervention by 10 hours weekly.']), WorkExperience(job_title='Associate Manager - Data Science', company='Morningstar', experience='Oct 2022 – Aug 2023', responsibilities=['Worked on a Large Language Model (LLM) project, using the GPT-3 embeddings to extract KPIs from over 500 company sustainability reports, which resulted in a 37% increase in the accuracy and automation of KPI extraction.', 'Developed predictive model [Random Forest, XGBoost] to predict the Environmental, social and governance (ESG) ratings of companies based on extracted KPIs and historical ratings.', 'Integrated a new ML solution using Python into 3 existing solutions, using KPIs to achieve a 18% efficiency improvement.', 'Led 5 POCs to extract data from ESG documents, demonstrating advanced data handling.', 'Performed A/B testing for model selection as which model is more helpful for analysts.', 'Created Power BI dashboards and SQL reports to track performance metrics, supporting data-driven decisions.']), WorkExperience(job_title='Machine Learning Engineer', company='Research and Innovation, TCS', experience='Jan 2020 – Oct 2022', responsibilities=['Leveraged AI/ML algorithms in Python to enhance product performance, achieving an up to 5x efficiency boost and reducing processing time.', 'Filed a patent for background removal in ID card scanning for KYC (PATENT), reducing processing time by 99% from 48 hours to 2 minutes.', 'Designed and maintained relational databases for storing extracted metadata from legal documents, streamlining data storage and retrieval, and making the process 5x faster.', 'Developed a core library for information extraction from legal documents (images/text). Integrated Word2Vec with NER using transfer learning, improving accuracy by 12%.', 'Exposed APIs and deployed models using Flask, FastAPI, and Firebase.']), WorkExperience(job_title='Computer Vision Engineer', company='Aniruddha Telemetry System', experience='April 2019 – November 2019', responsibilities=['Developed a predictive system to detect and classify outlier capsule batches, using OpenCV and machine learning algorithms to improve sorting accuracy and efficiency.', 'Designed computer vision system for vehicle Speed Detection using surveillance cameras.'])], education=[Education(degree='Masters in Business Analytics', school='University of Galway', major='', year='Sept 2023 - June 2024'), Education(degree='Bachelor of Engineering in Electronics & Telecommunication', school='Vivekanand Education Society Institute of Technology', major='', year='July 2015 - May 2018')], skills=['Python', 'SQL', 'HTML', 'CSS', 'JS', 'R', 'C#', 'TensorFlow–Keras', 'SK-learn', 'Langchain', 'FastAPI', 'Firebase', 'Streamlit', 'Git', 'PowerBI', 'Spacy', 'GCP', 'OpenAI', 'PostgreSQL', 'PowerBI', 'SQLite3', 'Pandas', 'Apache Spark', 'Excel'])"
      ]
     },
     "execution_count": 80,
     "metadata": {},
     "output_type": "execute_result"
    }
   ],
   "source": [
    "chain = prompt|llm|parser\n",
    "resume = chain.invoke(input_dict)\n",
    "resume_data = resume.dict()\n",
    "resume"
   ]
  },
  {
   "cell_type": "code",
   "execution_count": 81,
   "metadata": {},
   "outputs": [],
   "source": [
    "from typing import Optional, Literal\n",
    "from langchain_core.tools import tool\n",
    "\n",
    "@tool\n",
    "def get_job(field: Optional[Literal['title', 'company', 'location', 'salary', 'description', 'responsibilities', 'benefits', 'employment_type', 'posted_date']] = None) -> str:\n",
    "    \"\"\"Get job data.\"\"\"\n",
    "    \n",
    "    if field:\n",
    "        return getattr(job, field)\n",
    "    return job.dict()\n",
    "\n",
    "@tool\n",
    "def get_resume(field: Optional[Literal['name', 'professional_summary', 'work_experience', 'education', 'skills']] = None) -> str:\n",
    "    \"\"\"Get resume data.\"\"\"\n",
    "    \n",
    "    if field:\n",
    "        return getattr(resume, field)\n",
    "    return resume.dict()"
   ]
  },
  {
   "cell_type": "code",
   "execution_count": 82,
   "metadata": {},
   "outputs": [
    {
     "data": {
      "text/plain": [
       "{'name': 'Tanmay Suhas Jagtap',\n",
       " 'professional_summary': 'Data Scientist with over 5 years of experience in machine learning  and data science . Proven track record of building scalable data pipelines, deploying machine learning models, and leading high -impact projects in industries ranging from financial services to AI -driven innovation. Skilled in collaborating with cross -functional teams to drive business growth through data-driven insights. Holding a Stamp 1G work permit and eligible to take up full-time employment in Ireland.',\n",
       " 'work_experience': [{'job_title': 'Data Scientist-Intern',\n",
       "   'company': 'AITON',\n",
       "   'experience': 'June 2024- Present',\n",
       "   'responsibilities': ['Developed a product recommendation model utilizing OpenAI embeddings based on user activity, enhancing personalized customer experiences improving monthly sales by 12%.',\n",
       "    'Deployed the recommendation solution across multiple Shopify websites using Firebase and Flask, streamlining implementation for e-commerce clients.',\n",
       "    'Built an AI chatbot for customer support with Voiceflow, reducing human intervention by 10 hours weekly.']},\n",
       "  {'job_title': 'Associate Manager - Data Science',\n",
       "   'company': 'Morningstar',\n",
       "   'experience': 'Oct 2022 – Aug 2023',\n",
       "   'responsibilities': ['Worked on a Large Language Model (LLM) project, using the GPT-3 embeddings to extract KPIs from over 500 company sustainability reports, which resulted in a 37% increase in the accuracy and automation of KPI extraction.',\n",
       "    'Developed predictive model [Random Forest, XGBoost] to predict the Environmental, social and governance (ESG) ratings of companies based on extracted KPIs and historical ratings.',\n",
       "    'Integrated a new ML solution using Python into 3 existing solutions, using KPIs to achieve a 18% efficiency improvement.',\n",
       "    'Led 5 POCs to extract data from ESG documents, demonstrating advanced data handling.',\n",
       "    'Performed A/B testing for model selection as which model is more helpful for analysts.',\n",
       "    'Created Power BI dashboards and SQL reports to track performance metrics, supporting data-driven decisions.']},\n",
       "  {'job_title': 'Machine Learning Engineer',\n",
       "   'company': 'Research and Innovation, TCS',\n",
       "   'experience': 'Jan 2020 – Oct 2022',\n",
       "   'responsibilities': ['Leveraged AI/ML algorithms in Python to enhance product performance, achieving an up to 5x efficiency boost and reducing processing time.',\n",
       "    'Filed a patent for background removal in ID card scanning for KYC (PATENT), reducing processing time by 99% from 48 hours to 2 minutes.',\n",
       "    'Designed and maintained relational databases for storing extracted metadata from legal documents, streamlining data storage and retrieval, and making the process 5x faster.',\n",
       "    'Developed a core library for information extraction from legal documents (images/text). Integrated Word2Vec with NER using transfer learning, improving accuracy by 12%.',\n",
       "    'Exposed APIs and deployed models using Flask, FastAPI, and Firebase.']},\n",
       "  {'job_title': 'Computer Vision Engineer',\n",
       "   'company': 'Aniruddha Telemetry System',\n",
       "   'experience': 'April 2019 – November 2019',\n",
       "   'responsibilities': ['Developed a predictive system to detect and classify outlier capsule batches, using OpenCV and machine learning algorithms to improve sorting accuracy and efficiency.',\n",
       "    'Designed computer vision system for vehicle Speed Detection using surveillance cameras.']}],\n",
       " 'education': [{'degree': 'Masters in Business Analytics',\n",
       "   'school': 'University of Galway',\n",
       "   'major': '',\n",
       "   'year': 'Sept 2023 - June 2024'},\n",
       "  {'degree': 'Bachelor of Engineering in Electronics & Telecommunication',\n",
       "   'school': 'Vivekanand Education Society Institute of Technology',\n",
       "   'major': '',\n",
       "   'year': 'July 2015 - May 2018'}],\n",
       " 'skills': ['Python',\n",
       "  'SQL',\n",
       "  'HTML',\n",
       "  'CSS',\n",
       "  'JS',\n",
       "  'R',\n",
       "  'C#',\n",
       "  'TensorFlow–Keras',\n",
       "  'SK-learn',\n",
       "  'Langchain',\n",
       "  'FastAPI',\n",
       "  'Firebase',\n",
       "  'Streamlit',\n",
       "  'Git',\n",
       "  'PowerBI',\n",
       "  'Spacy',\n",
       "  'GCP',\n",
       "  'OpenAI',\n",
       "  'PostgreSQL',\n",
       "  'PowerBI',\n",
       "  'SQLite3',\n",
       "  'Pandas',\n",
       "  'Apache Spark',\n",
       "  'Excel']}"
      ]
     },
     "execution_count": 82,
     "metadata": {},
     "output_type": "execute_result"
    }
   ],
   "source": [
    "resume.dict()"
   ]
  },
  {
   "cell_type": "code",
   "execution_count": 85,
   "metadata": {},
   "outputs": [],
   "source": [
    "import os\n",
    "from dotenv import load_dotenv\n",
    "\n",
    "from typing import Annotated, Literal\n",
    "from typing_extensions import TypedDict\n",
    "from langgraph.prebuilt import ToolNode\n",
    "from langchain_core.messages import HumanMessage\n",
    "from langgraph.graph import StateGraph, MessagesState, START, END\n",
    "from langgraph.checkpoint.memory import MemorySaver\n",
    "from langchain_openai import ChatOpenAI\n"
   ]
  },
  {
   "cell_type": "code",
   "execution_count": 86,
   "metadata": {},
   "outputs": [
    {
     "data": {
      "text/plain": [
       "RunnableBinding(bound=ChatGroq(client=<groq.resources.chat.completions.Completions object at 0x00000283C917B290>, async_client=<groq.resources.chat.completions.AsyncCompletions object at 0x00000283C91788C0>, model_name='Llama3-8b-8192', model_kwargs={}, groq_api_key=SecretStr('**********')), kwargs={'tools': [{'type': 'function', 'function': {'name': 'get_job', 'description': 'Get job data.', 'parameters': {'properties': {'field': {'anyOf': [{'enum': ['title', 'company', 'location', 'salary', 'description', 'responsibilities', 'benefits', 'employment_type', 'posted_date'], 'type': 'string'}, {'type': 'null'}], 'default': None}}, 'type': 'object'}}}, {'type': 'function', 'function': {'name': 'get_resume', 'description': 'Get resume data.', 'parameters': {'properties': {'field': {'anyOf': [{'enum': ['name', 'professional_summary', 'work_experience', 'education', 'skills'], 'type': 'string'}, {'type': 'null'}], 'default': None}}, 'type': 'object'}}}]}, config={}, config_factories=[])"
      ]
     },
     "execution_count": 86,
     "metadata": {},
     "output_type": "execute_result"
    }
   ],
   "source": [
    "tools = [get_job, get_resume]\n",
    "llm=ChatGroq(groq_api_key=groq_api_key,model_name=\"Llama3-8b-8192\").bind_tools(tools)\n",
    "\n",
    "llm"
   ]
  },
  {
   "cell_type": "code",
   "execution_count": 87,
   "metadata": {},
   "outputs": [],
   "source": [
    "def expert(state: MessagesState):\n",
    "    system_message = \"\"\"\n",
    "        You are a resume expert. You are tasked with improving the user resume based on a job description.\n",
    "        You can access the resume and job data using the provided tools.\n",
    "\n",
    "        You must NEVER provide information that the user does not have.\n",
    "        These include, skills or experiences that are not in the resume. Do not make things up.\n",
    "    \"\"\"\n",
    "    messages = state[\"messages\"]\n",
    "    response = llm.invoke([system_message] + messages)\n",
    "    return {\"messages\": [response]}\n",
    "\n",
    "tool_node = ToolNode(tools)"
   ]
  },
  {
   "cell_type": "code",
   "execution_count": 88,
   "metadata": {},
   "outputs": [],
   "source": [
    "def should_continue(state: MessagesState) -> Literal[\"tools\", END]:\n",
    "    messages = state['messages']\n",
    "    last_message = messages[-1]\n",
    "    if last_message.tool_calls:\n",
    "        return \"tools\"\n",
    "    return END"
   ]
  },
  {
   "cell_type": "code",
   "execution_count": null,
   "metadata": {},
   "outputs": [],
   "source": [
    "graph = StateGraph(MessagesState)\n",
    "\n",
    "graph.add_node(\"expert\", expert)\n",
    "graph.add_node(\"tools\", tool_node)\n",
    "\n",
    "graph.add_edge(START, \"expert\")\n",
    "graph.add_conditional_edges(\"expert\", should_continue)\n",
    "graph.add_edge(\"tools\", \"expert\")\n"
   ]
  },
  {
   "cell_type": "code",
   "execution_count": null,
   "metadata": {},
   "outputs": [],
   "source": []
  },
  {
   "cell_type": "code",
   "execution_count": 93,
   "metadata": {},
   "outputs": [],
   "source": [
    "checkpointer = MemorySaver()\n",
    "\n",
    "app = graph.compile(checkpointer=checkpointer)"
   ]
  },
  {
   "cell_type": "code",
   "execution_count": 94,
   "metadata": {},
   "outputs": [
    {
     "data": {
      "image/png": "[encoded data removed]",
      "text/plain": [
       "<IPython.core.display.Image object>"
      ]
     },
     "metadata": {},
     "output_type": "display_data"
    }
   ],
   "source": [
    "from IPython.display import Image, display\n",
    "\n",
    "display(Image(app.get_graph(xray=True).draw_mermaid_png()))"
   ]
  },
  {
   "cell_type": "code",
   "execution_count": 96,
   "metadata": {},
   "outputs": [
    {
     "name": "stdout",
     "output_type": "stream",
     "text": [
      "================================\u001b[1m Human Message \u001b[0m=================================\n",
      "\n",
      "Is tanmay good for this job?\n",
      "==================================\u001b[1m Ai Message \u001b[0m==================================\n",
      "Tool Calls:\n",
      "  get_job (call_2m7m)\n",
      " Call ID: call_2m7m\n",
      "  Args:\n",
      "    field: title\n",
      "  get_job (call_gwt8)\n",
      " Call ID: call_gwt8\n",
      "  Args:\n",
      "    field: description\n",
      "  get_resume (call_pf59)\n",
      " Call ID: call_pf59\n",
      "  Args:\n",
      "    field: name\n",
      "=================================\u001b[1m Tool Message \u001b[0m=================================\n",
      "Name: get_job\n",
      "\n",
      "Machine Learning Engineer\n",
      "=================================\u001b[1m Tool Message \u001b[0m=================================\n",
      "Name: get_job\n",
      "\n",
      "Learn more about applying for Machine Learning Engineer position at Accenture.\n",
      "=================================\u001b[1m Tool Message \u001b[0m=================================\n",
      "Name: get_resume\n",
      "\n",
      "Tanmay Suhas Jagtap\n",
      "==================================\u001b[1m Ai Message \u001b[0m==================================\n",
      "Tool Calls:\n",
      "  get_resume (call_gx1q)\n",
      " Call ID: call_gx1q\n",
      "  Args:\n",
      "    field: work_experience\n",
      "=================================\u001b[1m Tool Message \u001b[0m=================================\n",
      "Name: get_resume\n",
      "\n",
      "[WorkExperience(job_title='Data Scientist-Intern', company='AITON', experience='June 2024- Present', responsibilities=['Developed a product recommendation model utilizing OpenAI embeddings based on user activity, enhancing personalized customer experiences improving monthly sales by 12%.', 'Deployed the recommendation solution across multiple Shopify websites using Firebase and Flask, streamlining implementation for e-commerce clients.', 'Built an AI chatbot for customer support with Voiceflow, reducing human intervention by 10 hours weekly.']), WorkExperience(job_title='Associate Manager - Data Science', company='Morningstar', experience='Oct 2022 – Aug 2023', responsibilities=['Worked on a Large Language Model (LLM) project, using the GPT-3 embeddings to extract KPIs from over 500 company sustainability reports, which resulted in a 37% increase in the accuracy and automation of KPI extraction.', 'Developed predictive model [Random Forest, XGBoost] to predict the Environmental, social and governance (ESG) ratings of companies based on extracted KPIs and historical ratings.', 'Integrated a new ML solution using Python into 3 existing solutions, using KPIs to achieve a 18% efficiency improvement.', 'Led 5 POCs to extract data from ESG documents, demonstrating advanced data handling.', 'Performed A/B testing for model selection as which model is more helpful for analysts.', 'Created Power BI dashboards and SQL reports to track performance metrics, supporting data-driven decisions.']), WorkExperience(job_title='Machine Learning Engineer', company='Research and Innovation, TCS', experience='Jan 2020 – Oct 2022', responsibilities=['Leveraged AI/ML algorithms in Python to enhance product performance, achieving an up to 5x efficiency boost and reducing processing time.', 'Filed a patent for background removal in ID card scanning for KYC (PATENT), reducing processing time by 99% from 48 hours to 2 minutes.', 'Designed and maintained relational databases for storing extracted metadata from legal documents, streamlining data storage and retrieval, and making the process 5x faster.', 'Developed a core library for information extraction from legal documents (images/text). Integrated Word2Vec with NER using transfer learning, improving accuracy by 12%.', 'Exposed APIs and deployed models using Flask, FastAPI, and Firebase.']), WorkExperience(job_title='Computer Vision Engineer', company='Aniruddha Telemetry System', experience='April 2019 – November 2019', responsibilities=['Developed a predictive system to detect and classify outlier capsule batches, using OpenCV and machine learning algorithms to improve sorting accuracy and efficiency.', 'Designed computer vision system for vehicle Speed Detection using surveillance cameras.'])]\n",
      "==================================\u001b[1m Ai Message \u001b[0m==================================\n",
      "\n",
      "Based on the job description and Tanmay's work experience, I would say that Tanmay has some relevant experience for the Machine Learning Engineer position at Accenture.\n"
     ]
    }
   ],
   "source": [
    "config = {\"configurable\": {\"thread_id\": \"1\"}}\n",
    "messages = [HumanMessage(content=\"Is tanmay good for this job?\")]\n",
    "messages = app.invoke({\"messages\": messages},config)\n",
    "for m in messages['messages']:\n",
    "    m.pretty_print()"
   ]
  },
  {
   "cell_type": "code",
   "execution_count": 97,
   "metadata": {},
   "outputs": [
    {
     "name": "stdout",
     "output_type": "stream",
     "text": [
      "================================\u001b[1m Human Message \u001b[0m=================================\n",
      "\n",
      "Is tanmay good for this job?\n",
      "==================================\u001b[1m Ai Message \u001b[0m==================================\n",
      "Tool Calls:\n",
      "  get_job (call_2m7m)\n",
      " Call ID: call_2m7m\n",
      "  Args:\n",
      "    field: title\n",
      "  get_job (call_gwt8)\n",
      " Call ID: call_gwt8\n",
      "  Args:\n",
      "    field: description\n",
      "  get_resume (call_pf59)\n",
      " Call ID: call_pf59\n",
      "  Args:\n",
      "    field: name\n",
      "=================================\u001b[1m Tool Message \u001b[0m=================================\n",
      "Name: get_job\n",
      "\n",
      "Machine Learning Engineer\n",
      "=================================\u001b[1m Tool Message \u001b[0m=================================\n",
      "Name: get_job\n",
      "\n",
      "Learn more about applying for Machine Learning Engineer position at Accenture.\n",
      "=================================\u001b[1m Tool Message \u001b[0m=================================\n",
      "Name: get_resume\n",
      "\n",
      "Tanmay Suhas Jagtap\n",
      "==================================\u001b[1m Ai Message \u001b[0m==================================\n",
      "Tool Calls:\n",
      "  get_resume (call_gx1q)\n",
      " Call ID: call_gx1q\n",
      "  Args:\n",
      "    field: work_experience\n",
      "=================================\u001b[1m Tool Message \u001b[0m=================================\n",
      "Name: get_resume\n",
      "\n",
      "[WorkExperience(job_title='Data Scientist-Intern', company='AITON', experience='June 2024- Present', responsibilities=['Developed a product recommendation model utilizing OpenAI embeddings based on user activity, enhancing personalized customer experiences improving monthly sales by 12%.', 'Deployed the recommendation solution across multiple Shopify websites using Firebase and Flask, streamlining implementation for e-commerce clients.', 'Built an AI chatbot for customer support with Voiceflow, reducing human intervention by 10 hours weekly.']), WorkExperience(job_title='Associate Manager - Data Science', company='Morningstar', experience='Oct 2022 – Aug 2023', responsibilities=['Worked on a Large Language Model (LLM) project, using the GPT-3 embeddings to extract KPIs from over 500 company sustainability reports, which resulted in a 37% increase in the accuracy and automation of KPI extraction.', 'Developed predictive model [Random Forest, XGBoost] to predict the Environmental, social and governance (ESG) ratings of companies based on extracted KPIs and historical ratings.', 'Integrated a new ML solution using Python into 3 existing solutions, using KPIs to achieve a 18% efficiency improvement.', 'Led 5 POCs to extract data from ESG documents, demonstrating advanced data handling.', 'Performed A/B testing for model selection as which model is more helpful for analysts.', 'Created Power BI dashboards and SQL reports to track performance metrics, supporting data-driven decisions.']), WorkExperience(job_title='Machine Learning Engineer', company='Research and Innovation, TCS', experience='Jan 2020 – Oct 2022', responsibilities=['Leveraged AI/ML algorithms in Python to enhance product performance, achieving an up to 5x efficiency boost and reducing processing time.', 'Filed a patent for background removal in ID card scanning for KYC (PATENT), reducing processing time by 99% from 48 hours to 2 minutes.', 'Designed and maintained relational databases for storing extracted metadata from legal documents, streamlining data storage and retrieval, and making the process 5x faster.', 'Developed a core library for information extraction from legal documents (images/text). Integrated Word2Vec with NER using transfer learning, improving accuracy by 12%.', 'Exposed APIs and deployed models using Flask, FastAPI, and Firebase.']), WorkExperience(job_title='Computer Vision Engineer', company='Aniruddha Telemetry System', experience='April 2019 – November 2019', responsibilities=['Developed a predictive system to detect and classify outlier capsule batches, using OpenCV and machine learning algorithms to improve sorting accuracy and efficiency.', 'Designed computer vision system for vehicle Speed Detection using surveillance cameras.'])]\n",
      "==================================\u001b[1m Ai Message \u001b[0m==================================\n",
      "\n",
      "Based on the job description and Tanmay's work experience, I would say that Tanmay has some relevant experience for the Machine Learning Engineer position at Accenture.\n",
      "================================\u001b[1m Human Message \u001b[0m=================================\n",
      "\n",
      "please elaborate\n",
      "==================================\u001b[1m Ai Message \u001b[0m==================================\n",
      "Tool Calls:\n",
      "  get_resume (call_6c4v)\n",
      " Call ID: call_6c4v\n",
      "  Args:\n",
      "    field: skills\n",
      "=================================\u001b[1m Tool Message \u001b[0m=================================\n",
      "Name: get_resume\n",
      "\n",
      "[\"Python\", \"SQL\", \"HTML\", \"CSS\", \"JS\", \"R\", \"C#\", \"TensorFlow–Keras\", \"SK-learn\", \"Langchain\", \"FastAPI\", \"Firebase\", \"Streamlit\", \"Git\", \"PowerBI\", \"Spacy\", \"GCP\", \"OpenAI\", \"PostgreSQL\", \"PowerBI\", \"SQLite3\", \"Pandas\", \"Apache Spark\", \"Excel\"]\n",
      "==================================\u001b[1m Ai Message \u001b[0m==================================\n",
      "Tool Calls:\n",
      "  get_job (call_0q02)\n",
      " Call ID: call_0q02\n",
      "  Args:\n",
      "    field: description\n",
      "=================================\u001b[1m Tool Message \u001b[0m=================================\n",
      "Name: get_job\n",
      "\n",
      "Learn more about applying for Machine Learning Engineer position at Accenture.\n",
      "==================================\u001b[1m Ai Message \u001b[0m==================================\n",
      "\n",
      "Based on the job description and Tanmay's skills, it seems that he has a strong foundation in programming languages such as Python and R, as well as machine learning libraries like TensorFlow–Keras and SK-learn. He also has experience with data storage and processing using PostgreSQL, SQLite3, and Apache Spark. Additionally, he has experience with data visualization using PowerBI.\n",
      "\n",
      "Given Tanmay's skills and experience, it seems that he may be a good fit for the Machine Learning Engineer position at Accenture, as he has a strong background in machine learning and data analysis.\n"
     ]
    }
   ],
   "source": [
    "messages = [HumanMessage(content=\"please elaborate\")]\n",
    "messages = app.invoke({\"messages\": messages},config)\n",
    "for m in messages['messages']:\n",
    "    m.pretty_print()"
   ]
  },
  {
   "cell_type": "code",
   "execution_count": 98,
   "metadata": {},
   "outputs": [
    {
     "name": "stdout",
     "output_type": "stream",
     "text": [
      "================================\u001b[1m Human Message \u001b[0m=================================\n",
      "\n",
      "Is tanmay good for this job?\n",
      "==================================\u001b[1m Ai Message \u001b[0m==================================\n",
      "Tool Calls:\n",
      "  get_job (call_2m7m)\n",
      " Call ID: call_2m7m\n",
      "  Args:\n",
      "    field: title\n",
      "  get_job (call_gwt8)\n",
      " Call ID: call_gwt8\n",
      "  Args:\n",
      "    field: description\n",
      "  get_resume (call_pf59)\n",
      " Call ID: call_pf59\n",
      "  Args:\n",
      "    field: name\n",
      "=================================\u001b[1m Tool Message \u001b[0m=================================\n",
      "Name: get_job\n",
      "\n",
      "Machine Learning Engineer\n",
      "=================================\u001b[1m Tool Message \u001b[0m=================================\n",
      "Name: get_job\n",
      "\n",
      "Learn more about applying for Machine Learning Engineer position at Accenture.\n",
      "=================================\u001b[1m Tool Message \u001b[0m=================================\n",
      "Name: get_resume\n",
      "\n",
      "Tanmay Suhas Jagtap\n",
      "==================================\u001b[1m Ai Message \u001b[0m==================================\n",
      "Tool Calls:\n",
      "  get_resume (call_gx1q)\n",
      " Call ID: call_gx1q\n",
      "  Args:\n",
      "    field: work_experience\n",
      "=================================\u001b[1m Tool Message \u001b[0m=================================\n",
      "Name: get_resume\n",
      "\n",
      "[WorkExperience(job_title='Data Scientist-Intern', company='AITON', experience='June 2024- Present', responsibilities=['Developed a product recommendation model utilizing OpenAI embeddings based on user activity, enhancing personalized customer experiences improving monthly sales by 12%.', 'Deployed the recommendation solution across multiple Shopify websites using Firebase and Flask, streamlining implementation for e-commerce clients.', 'Built an AI chatbot for customer support with Voiceflow, reducing human intervention by 10 hours weekly.']), WorkExperience(job_title='Associate Manager - Data Science', company='Morningstar', experience='Oct 2022 – Aug 2023', responsibilities=['Worked on a Large Language Model (LLM) project, using the GPT-3 embeddings to extract KPIs from over 500 company sustainability reports, which resulted in a 37% increase in the accuracy and automation of KPI extraction.', 'Developed predictive model [Random Forest, XGBoost] to predict the Environmental, social and governance (ESG) ratings of companies based on extracted KPIs and historical ratings.', 'Integrated a new ML solution using Python into 3 existing solutions, using KPIs to achieve a 18% efficiency improvement.', 'Led 5 POCs to extract data from ESG documents, demonstrating advanced data handling.', 'Performed A/B testing for model selection as which model is more helpful for analysts.', 'Created Power BI dashboards and SQL reports to track performance metrics, supporting data-driven decisions.']), WorkExperience(job_title='Machine Learning Engineer', company='Research and Innovation, TCS', experience='Jan 2020 – Oct 2022', responsibilities=['Leveraged AI/ML algorithms in Python to enhance product performance, achieving an up to 5x efficiency boost and reducing processing time.', 'Filed a patent for background removal in ID card scanning for KYC (PATENT), reducing processing time by 99% from 48 hours to 2 minutes.', 'Designed and maintained relational databases for storing extracted metadata from legal documents, streamlining data storage and retrieval, and making the process 5x faster.', 'Developed a core library for information extraction from legal documents (images/text). Integrated Word2Vec with NER using transfer learning, improving accuracy by 12%.', 'Exposed APIs and deployed models using Flask, FastAPI, and Firebase.']), WorkExperience(job_title='Computer Vision Engineer', company='Aniruddha Telemetry System', experience='April 2019 – November 2019', responsibilities=['Developed a predictive system to detect and classify outlier capsule batches, using OpenCV and machine learning algorithms to improve sorting accuracy and efficiency.', 'Designed computer vision system for vehicle Speed Detection using surveillance cameras.'])]\n",
      "==================================\u001b[1m Ai Message \u001b[0m==================================\n",
      "\n",
      "Based on the job description and Tanmay's work experience, I would say that Tanmay has some relevant experience for the Machine Learning Engineer position at Accenture.\n",
      "================================\u001b[1m Human Message \u001b[0m=================================\n",
      "\n",
      "please elaborate\n",
      "==================================\u001b[1m Ai Message \u001b[0m==================================\n",
      "Tool Calls:\n",
      "  get_resume (call_6c4v)\n",
      " Call ID: call_6c4v\n",
      "  Args:\n",
      "    field: skills\n",
      "=================================\u001b[1m Tool Message \u001b[0m=================================\n",
      "Name: get_resume\n",
      "\n",
      "[\"Python\", \"SQL\", \"HTML\", \"CSS\", \"JS\", \"R\", \"C#\", \"TensorFlow–Keras\", \"SK-learn\", \"Langchain\", \"FastAPI\", \"Firebase\", \"Streamlit\", \"Git\", \"PowerBI\", \"Spacy\", \"GCP\", \"OpenAI\", \"PostgreSQL\", \"PowerBI\", \"SQLite3\", \"Pandas\", \"Apache Spark\", \"Excel\"]\n",
      "==================================\u001b[1m Ai Message \u001b[0m==================================\n",
      "Tool Calls:\n",
      "  get_job (call_0q02)\n",
      " Call ID: call_0q02\n",
      "  Args:\n",
      "    field: description\n",
      "=================================\u001b[1m Tool Message \u001b[0m=================================\n",
      "Name: get_job\n",
      "\n",
      "Learn more about applying for Machine Learning Engineer position at Accenture.\n",
      "==================================\u001b[1m Ai Message \u001b[0m==================================\n",
      "\n",
      "Based on the job description and Tanmay's skills, it seems that he has a strong foundation in programming languages such as Python and R, as well as machine learning libraries like TensorFlow–Keras and SK-learn. He also has experience with data storage and processing using PostgreSQL, SQLite3, and Apache Spark. Additionally, he has experience with data visualization using PowerBI.\n",
      "\n",
      "Given Tanmay's skills and experience, it seems that he may be a good fit for the Machine Learning Engineer position at Accenture, as he has a strong background in machine learning and data analysis.\n",
      "================================\u001b[1m Human Message \u001b[0m=================================\n",
      "\n",
      "please write cover letter for tanmay so he can apply for this job\n",
      "==================================\u001b[1m Ai Message \u001b[0m==================================\n",
      "Tool Calls:\n",
      "  get_resume (call_vw8a)\n",
      " Call ID: call_vw8a\n",
      "  Args:\n",
      "    field: name\n",
      "=================================\u001b[1m Tool Message \u001b[0m=================================\n",
      "Name: get_resume\n",
      "\n",
      "Tanmay Suhas Jagtap\n",
      "==================================\u001b[1m Ai Message \u001b[0m==================================\n",
      "\n",
      "Dear Hiring Manager,\n",
      "\n",
      "I am excited to apply for the Machine Learning Engineer position at Accenture. With my strong background in machine learning and data analysis, I am confident that I would be a great fit for this role.\n",
      "\n",
      "In my current role as a Data Scientist-Intern at Aiton, I have developed a product recommendation model using OpenAI embeddings, which resulted in a 12% increase in monthly sales. I have also deployed the recommendation solution across multiple Shopify websites using Firebase and Flask, streamlining implementation for e-commerce clients. Additionally, I built an AI chatbot for customer support using Voiceflow, reducing human intervention by 10 hours weekly.\n",
      "\n",
      "As an Associate Manager - Data Science at Morningstar, I worked on a Large Language Model (LLM) project, using the GPT-3 embeddings to extract KPIs from over 500 company sustainability reports, which resulted in a 37% increase in the accuracy and automation of KPI extraction. I also developed predictive models using Random Forest and XGBoost to predict Environmental, social and governance (ESG) ratings of companies based on extracted KPIs and historical ratings.\n",
      "\n",
      "As a Machine Learning Engineer at Research and Innovation, TCS, I leveraged AI/ML algorithms in Python to enhance product performance, achieving an up to 5x efficiency boost and reducing processing time. I also designed and maintained relational databases for storing extracted metadata from legal documents, streamlining data storage and retrieval, and making the process 5x faster.\n",
      "\n",
      "I possess a strong foundation in programming languages such as Python and R, as well as machine learning libraries like TensorFlow–Keras and SK-learn. I have experience with data storage and processing using PostgreSQL, SQLite3, and Apache Spark. Additionally, I have experience with data visualization using PowerBI.\n",
      "\n",
      "I am excited about the opportunity to join Accenture and contribute my skills and experience to the Machine Learning Engineer position. Thank you for considering my application.\n",
      "\n",
      "Sincerely,\n",
      "Tanmay Suhas Jagtap\n"
     ]
    }
   ],
   "source": [
    "messages = [HumanMessage(content=\"please write cover letter for tanmay so he can apply for this job\")]\n",
    "messages = app.invoke({\"messages\": messages},config)\n",
    "for m in messages['messages']:\n",
    "    m.pretty_print()"
   ]
  },
  {
   "cell_type": "code",
   "execution_count": 99,
   "metadata": {},
   "outputs": [
    {
     "name": "stdout",
     "output_type": "stream",
     "text": [
      "================================\u001b[1m Human Message \u001b[0m=================================\n",
      "\n",
      "Is tanmay good for this job?\n",
      "==================================\u001b[1m Ai Message \u001b[0m==================================\n",
      "Tool Calls:\n",
      "  get_job (call_2m7m)\n",
      " Call ID: call_2m7m\n",
      "  Args:\n",
      "    field: title\n",
      "  get_job (call_gwt8)\n",
      " Call ID: call_gwt8\n",
      "  Args:\n",
      "    field: description\n",
      "  get_resume (call_pf59)\n",
      " Call ID: call_pf59\n",
      "  Args:\n",
      "    field: name\n",
      "=================================\u001b[1m Tool Message \u001b[0m=================================\n",
      "Name: get_job\n",
      "\n",
      "Machine Learning Engineer\n",
      "=================================\u001b[1m Tool Message \u001b[0m=================================\n",
      "Name: get_job\n",
      "\n",
      "Learn more about applying for Machine Learning Engineer position at Accenture.\n",
      "=================================\u001b[1m Tool Message \u001b[0m=================================\n",
      "Name: get_resume\n",
      "\n",
      "Tanmay Suhas Jagtap\n",
      "==================================\u001b[1m Ai Message \u001b[0m==================================\n",
      "Tool Calls:\n",
      "  get_resume (call_gx1q)\n",
      " Call ID: call_gx1q\n",
      "  Args:\n",
      "    field: work_experience\n",
      "=================================\u001b[1m Tool Message \u001b[0m=================================\n",
      "Name: get_resume\n",
      "\n",
      "[WorkExperience(job_title='Data Scientist-Intern', company='AITON', experience='June 2024- Present', responsibilities=['Developed a product recommendation model utilizing OpenAI embeddings based on user activity, enhancing personalized customer experiences improving monthly sales by 12%.', 'Deployed the recommendation solution across multiple Shopify websites using Firebase and Flask, streamlining implementation for e-commerce clients.', 'Built an AI chatbot for customer support with Voiceflow, reducing human intervention by 10 hours weekly.']), WorkExperience(job_title='Associate Manager - Data Science', company='Morningstar', experience='Oct 2022 – Aug 2023', responsibilities=['Worked on a Large Language Model (LLM) project, using the GPT-3 embeddings to extract KPIs from over 500 company sustainability reports, which resulted in a 37% increase in the accuracy and automation of KPI extraction.', 'Developed predictive model [Random Forest, XGBoost] to predict the Environmental, social and governance (ESG) ratings of companies based on extracted KPIs and historical ratings.', 'Integrated a new ML solution using Python into 3 existing solutions, using KPIs to achieve a 18% efficiency improvement.', 'Led 5 POCs to extract data from ESG documents, demonstrating advanced data handling.', 'Performed A/B testing for model selection as which model is more helpful for analysts.', 'Created Power BI dashboards and SQL reports to track performance metrics, supporting data-driven decisions.']), WorkExperience(job_title='Machine Learning Engineer', company='Research and Innovation, TCS', experience='Jan 2020 – Oct 2022', responsibilities=['Leveraged AI/ML algorithms in Python to enhance product performance, achieving an up to 5x efficiency boost and reducing processing time.', 'Filed a patent for background removal in ID card scanning for KYC (PATENT), reducing processing time by 99% from 48 hours to 2 minutes.', 'Designed and maintained relational databases for storing extracted metadata from legal documents, streamlining data storage and retrieval, and making the process 5x faster.', 'Developed a core library for information extraction from legal documents (images/text). Integrated Word2Vec with NER using transfer learning, improving accuracy by 12%.', 'Exposed APIs and deployed models using Flask, FastAPI, and Firebase.']), WorkExperience(job_title='Computer Vision Engineer', company='Aniruddha Telemetry System', experience='April 2019 – November 2019', responsibilities=['Developed a predictive system to detect and classify outlier capsule batches, using OpenCV and machine learning algorithms to improve sorting accuracy and efficiency.', 'Designed computer vision system for vehicle Speed Detection using surveillance cameras.'])]\n",
      "==================================\u001b[1m Ai Message \u001b[0m==================================\n",
      "\n",
      "Based on the job description and Tanmay's work experience, I would say that Tanmay has some relevant experience for the Machine Learning Engineer position at Accenture.\n",
      "================================\u001b[1m Human Message \u001b[0m=================================\n",
      "\n",
      "please elaborate\n",
      "==================================\u001b[1m Ai Message \u001b[0m==================================\n",
      "Tool Calls:\n",
      "  get_resume (call_6c4v)\n",
      " Call ID: call_6c4v\n",
      "  Args:\n",
      "    field: skills\n",
      "=================================\u001b[1m Tool Message \u001b[0m=================================\n",
      "Name: get_resume\n",
      "\n",
      "[\"Python\", \"SQL\", \"HTML\", \"CSS\", \"JS\", \"R\", \"C#\", \"TensorFlow–Keras\", \"SK-learn\", \"Langchain\", \"FastAPI\", \"Firebase\", \"Streamlit\", \"Git\", \"PowerBI\", \"Spacy\", \"GCP\", \"OpenAI\", \"PostgreSQL\", \"PowerBI\", \"SQLite3\", \"Pandas\", \"Apache Spark\", \"Excel\"]\n",
      "==================================\u001b[1m Ai Message \u001b[0m==================================\n",
      "Tool Calls:\n",
      "  get_job (call_0q02)\n",
      " Call ID: call_0q02\n",
      "  Args:\n",
      "    field: description\n",
      "=================================\u001b[1m Tool Message \u001b[0m=================================\n",
      "Name: get_job\n",
      "\n",
      "Learn more about applying for Machine Learning Engineer position at Accenture.\n",
      "==================================\u001b[1m Ai Message \u001b[0m==================================\n",
      "\n",
      "Based on the job description and Tanmay's skills, it seems that he has a strong foundation in programming languages such as Python and R, as well as machine learning libraries like TensorFlow–Keras and SK-learn. He also has experience with data storage and processing using PostgreSQL, SQLite3, and Apache Spark. Additionally, he has experience with data visualization using PowerBI.\n",
      "\n",
      "Given Tanmay's skills and experience, it seems that he may be a good fit for the Machine Learning Engineer position at Accenture, as he has a strong background in machine learning and data analysis.\n",
      "================================\u001b[1m Human Message \u001b[0m=================================\n",
      "\n",
      "please write cover letter for tanmay so he can apply for this job\n",
      "==================================\u001b[1m Ai Message \u001b[0m==================================\n",
      "Tool Calls:\n",
      "  get_resume (call_vw8a)\n",
      " Call ID: call_vw8a\n",
      "  Args:\n",
      "    field: name\n",
      "=================================\u001b[1m Tool Message \u001b[0m=================================\n",
      "Name: get_resume\n",
      "\n",
      "Tanmay Suhas Jagtap\n",
      "==================================\u001b[1m Ai Message \u001b[0m==================================\n",
      "\n",
      "Dear Hiring Manager,\n",
      "\n",
      "I am excited to apply for the Machine Learning Engineer position at Accenture. With my strong background in machine learning and data analysis, I am confident that I would be a great fit for this role.\n",
      "\n",
      "In my current role as a Data Scientist-Intern at Aiton, I have developed a product recommendation model using OpenAI embeddings, which resulted in a 12% increase in monthly sales. I have also deployed the recommendation solution across multiple Shopify websites using Firebase and Flask, streamlining implementation for e-commerce clients. Additionally, I built an AI chatbot for customer support using Voiceflow, reducing human intervention by 10 hours weekly.\n",
      "\n",
      "As an Associate Manager - Data Science at Morningstar, I worked on a Large Language Model (LLM) project, using the GPT-3 embeddings to extract KPIs from over 500 company sustainability reports, which resulted in a 37% increase in the accuracy and automation of KPI extraction. I also developed predictive models using Random Forest and XGBoost to predict Environmental, social and governance (ESG) ratings of companies based on extracted KPIs and historical ratings.\n",
      "\n",
      "As a Machine Learning Engineer at Research and Innovation, TCS, I leveraged AI/ML algorithms in Python to enhance product performance, achieving an up to 5x efficiency boost and reducing processing time. I also designed and maintained relational databases for storing extracted metadata from legal documents, streamlining data storage and retrieval, and making the process 5x faster.\n",
      "\n",
      "I possess a strong foundation in programming languages such as Python and R, as well as machine learning libraries like TensorFlow–Keras and SK-learn. I have experience with data storage and processing using PostgreSQL, SQLite3, and Apache Spark. Additionally, I have experience with data visualization using PowerBI.\n",
      "\n",
      "I am excited about the opportunity to join Accenture and contribute my skills and experience to the Machine Learning Engineer position. Thank you for considering my application.\n",
      "\n",
      "Sincerely,\n",
      "Tanmay Suhas Jagtap\n",
      "================================\u001b[1m Human Message \u001b[0m=================================\n",
      "\n",
      "based on the resume what changes will tanmay have to make in his resume so that he is in the top 1 percent of candidates for this role \n",
      "==================================\u001b[1m Ai Message \u001b[0m==================================\n",
      "\n",
      "Based on the provided resume, I would recommend the following changes for Tanmay to enhance his chances of being in the top 1 percent of candidates for the Machine Learning Engineer position at Accenture:\n",
      "\n",
      "1. **Quantify achievements**: Tanmay's resume lacks specific, measurable, and impactful achievements that demonstrate the value he brought to his previous roles. For example, instead of saying \"developed a product recommendation model,\" he could say \"developed a product recommendation model that increased monthly sales by 12%.\"\n",
      "2. **Highlight technical skills**: While Tanmay has a strong foundation in programming languages and machine learning libraries, his resume does not explicitly highlight his technical skills. He should emphasize his proficiency in Python, R, TensorFlow–Keras, SK-learn, and other relevant technologies.\n",
      "3. **Emphasize data-driven accomplishments**: As a Machine Learning Engineer, data-driven accomplishments are crucial. Tanmay should highlight his experience with data storage and processing using PostgreSQL, SQLite3, and Apache Spark, as well as his ability to extract insights from large datasets.\n",
      "4. **Include relevant certifications or training**: Having relevant certifications or training in machine learning, data science, or related fields can be a significant advantage. Tanmay should consider obtaining certifications like Certified Data Scientist or Certified Machine Learning Engineer.\n",
      "5. **Reorganize and prioritize sections**: The current resume structure is not optimized for machine learning engineering roles. Tanmay should reorganize his sections to prioritize his technical skills, achievements, and relevant experience.\n",
      "6. **Remove irrelevant sections**: Tanmay's resume includes a section for \"Computer Vision Engineer,\" which is not directly relevant to the Machine Learning Engineer position. He should remove this section and focus on highlighting his machine learning and data science experience.\n",
      "7. **Use action verbs and specific language**: Tanmay's resume uses generic language and lacks action verbs. He should use action verbs like \"developed,\" \"designed,\" \"implemented,\" and \"optimized\" to describe his achievements.\n",
      "\n",
      "By implementing these changes, Tanmay can enhance his resume and increase his chances of being in the top 1 percent of candidates for the Machine Learning Engineer position at Accenture.\n"
     ]
    }
   ],
   "source": [
    "messages = [HumanMessage(content=\"\"\"based on the resume what changes will tanmay have to make in his resume so that he is in the top 1 percent of candidates for this role \"\"\")]\n",
    "messages = app.invoke({\"messages\": messages},config)\n",
    "for m in messages['messages']:\n",
    "    m.pretty_print()"
   ]
  },
  {
   "cell_type": "code",
   "execution_count": null,
   "metadata": {},
   "outputs": [],
   "source": []
  }
 ],
 "metadata": {
  "kernelspec": {
   "display_name": "cc_venv",
   "language": "python",
   "name": "python3"
  },
  "language_info": {
   "codemirror_mode": {
    "name": "ipython",
    "version": 3
   },
   "file_extension": ".py",
   "mimetype": "text/x-python",
   "name": "python",
   "nbconvert_exporter": "python",
   "pygments_lexer": "ipython3",
   "version": "3.12.4"
  }
 },
 "nbformat": 4,
 "nbformat_minor": 2
}
