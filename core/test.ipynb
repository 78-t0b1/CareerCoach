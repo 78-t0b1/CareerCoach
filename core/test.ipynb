{
 "cells": [
  {
   "cell_type": "markdown",
   "metadata": {},
   "source": [
    "### Creating vector space\n"
   ]
  },
  {
   "cell_type": "code",
   "execution_count": 1,
   "metadata": {},
   "outputs": [
    {
     "name": "stderr",
     "output_type": "stream",
     "text": [
      "USER_AGENT environment variable not set, consider setting it to identify your requests.\n"
     ]
    }
   ],
   "source": [
    "from langchain_chroma import Chroma\n",
    "from langchain_community.document_loaders import WebBaseLoader, PyPDFDirectoryLoader\n",
    "from langchain_core.prompts import ChatPromptTemplate\n",
    "from langchain_text_splitters import RecursiveCharacterTextSplitter\n",
    "from langchain.chains import create_retrieval_chain\n",
    "from langchain.chains.combine_documents import create_stuff_documents_chain\n",
    "from langchain.output_parsers import PydanticOutputParser\n",
    "from langchain_core.prompts import PromptTemplate\n",
    "from pydantic import BaseModel, Field\n",
    "# from langchain import Aggregator"
   ]
  },
  {
   "cell_type": "code",
   "execution_count": 2,
   "metadata": {},
   "outputs": [
    {
     "data": {
      "text/plain": [
       "ChatGroq(client=<groq.resources.chat.completions.Completions object at 0x000002755A7B5DF0>, async_client=<groq.resources.chat.completions.AsyncCompletions object at 0x000002755A7B6A50>, model_name='Llama3-8b-8192', model_kwargs={}, groq_api_key=SecretStr('**********'))"
      ]
     },
     "execution_count": 2,
     "metadata": {},
     "output_type": "execute_result"
    }
   ],
   "source": [
    "import os\n",
    "from dotenv import load_dotenv\n",
    "load_dotenv()\n",
    "from langchain_groq import ChatGroq\n",
    "\n",
    "groq_api_key=os.getenv(\"GROQ_API_KEY\")\n",
    "\n",
    "llm=ChatGroq(groq_api_key=groq_api_key,model_name=\"Llama3-8b-8192\")\n",
    "\n",
    "llm"
   ]
  },
  {
   "cell_type": "code",
   "execution_count": 3,
   "metadata": {},
   "outputs": [
    {
     "name": "stderr",
     "output_type": "stream",
     "text": [
      "c:\\Programming Work\\CareerCoach\\cc_venv\\Lib\\site-packages\\sentence_transformers\\cross_encoder\\CrossEncoder.py:13: TqdmWarning: IProgress not found. Please update jupyter and ipywidgets. See https://ipywidgets.readthedocs.io/en/stable/user_install.html\n",
      "  from tqdm.autonotebook import tqdm, trange\n"
     ]
    }
   ],
   "source": [
    "os.environ['HUGGINGFACE_API_KEY']=os.getenv(\"HUGGINGFACE_API_KEY\")\n",
    "from langchain_huggingface import HuggingFaceEmbeddings\n",
    "embeddings=HuggingFaceEmbeddings(model_name=\"all-MiniLM-L6-v2\")"
   ]
  },
  {
   "cell_type": "code",
   "execution_count": 134,
   "metadata": {},
   "outputs": [
    {
     "data": {
      "text/plain": [
       "[Document(metadata={'source': 'https://careers.ey.com/ey/job/Dublin-2-Data-Analytics-&-AI-Manager-Data-Analytics/1088849901/?feedId=337401', 'title': 'Data Analytics & AI - Manager - Data Analytics Job Details | EY', 'description': 'Dublin 2 Data Analytics & AI - Manager - Data Analytics', 'language': 'en-US'}, page_content='\\n\\n\\n\\n\\n\\n\\n\\n\\n\\n\\n\\n\\nData Analytics & AI - Manager - Data Analytics Job Details | EY\\n\\n\\n\\n\\n\\n\\n\\n\\n\\n\\n\\n\\n\\n\\n\\n\\n\\n\\n\\n\\n\\n\\n\\n\\n\\n\\n\\n\\n\\n\\nCookie information\\nWelcome to the EY careers job search site. This website is based on the SuccessFactors software provided by SAP. On this page, functional and optional cookies are used to improve your experience and design our careers site more user-friendly and in line with your needs. In this context, cookies from providers in third countries may also be used and data may be transmitted to providers such as social media services outside the EU. For this we require your consent. By clicking \"Accept All Cookies\", you agree to these. This also includes your consent to the transmission of certain personal data to third countries, including the USA, in accordance with Art. 49 (1) (a) GDPR. You can select your settings by clicking “Modify Cookie Preferences” to confirm your choices from the optional cookie tracking and selecting the required cookies required to remain on the site. You can change your selection at any time by clicking the link at the bottom of the page.\\n\\n                Modify Cookie Preferences\\n\\n\\n                    Reject All Cookies\\n\\n                Accept All Cookies\\n\\n\\n\\n\\n\\n\\nPress Tab to Move to Skip to Content Link\\nSkip to main content\\n\\n\\n\\n\\n\\n\\n\\n\\n\\n\\n\\n\\n\\n\\n\\n\\n\\n\\n\\n\\nLanguage \\n\\n\\nDeutsch (Deutschland)\\n\\n\\nEnglish (United Kingdom)\\n\\n\\nEnglish (United States)\\n\\n\\nEspañol (México)\\n\\n\\nFrançais (Canada)\\n\\n\\nFrançais (France)\\n\\n\\nעִבְרִית (יִשְׂרָאֵל)\\n\\n\\n日本語 (日本)\\n\\n\\n한국어 (대한민국)\\n\\n\\nPortuguês (Brasil)\\n\\n\\n简体中文\\n\\n\\n繁體中文\\n\\n\\n\\n\\n\\nView profile\\n\\n\\n\\n\\n\\n\\n\\n\\n\\n\\n\\n\\n\\n\\n\\n\\n\\n\\n\\n\\n\\n\\n\\n\\n\\n\\n\\n\\n\\n\\n\\n\\n\\nCareers at EY\\nWhat you can do here\\nWhat it\\'s like to work here\\nHow to join us\\n\\n\\n                Job search \\n\\n\\nExperienced jobs\\nStudent jobs\\n\\n\\n\\n\\n\\n\\n\\n\\n\\n\\n\\n\\n\\n\\n\\n\\n\\n\\n\\n\\n\\n\\n\\n\\n\\n\\n\\nLanguage \\n\\n\\nDeutsch (Deutschland)\\n\\n\\nEnglish (United Kingdom)\\n\\n\\nEnglish (United States)\\n\\n\\nEspañol (México)\\n\\n\\nFrançais (Canada)\\n\\n\\nFrançais (France)\\n\\n\\nעִבְרִית (יִשְׂרָאֵל)\\n\\n\\n日本語 (日本)\\n\\n\\n한국어 (대한민국)\\n\\n\\nPortuguês (Brasil)\\n\\n\\n简体中文\\n\\n\\n繁體中文\\n\\n\\n\\n\\n\\nView profile\\n\\n\\n\\n\\n\\n\\n\\n\\n\\n\\n\\n\\n\\n\\n\\n\\n\\n\\n\\n\\n\\n\\n\\n\\n\\n\\n\\n\\n\\n\\n\\n\\n\\n\\n\\nCareers at EY\\nWhat you can do here\\nWhat it\\'s like to work here\\nHow to join us\\n\\n\\n                Job search \\n\\n\\nExperienced jobs\\nStudent jobs\\n\\n\\n\\n\\n\\n\\n\\n\\n\\n\\n\\n\\n\\n\\n\\n\\n\\n\\n\\n\\n\\n\\n\\n\\n\\n\\n\\n\\n\\n\\n\\n\\nLanguage \\n\\n\\nDeutsch (Deutschland)\\n\\n\\nEnglish (United Kingdom)\\n\\n\\nEnglish (United States)\\n\\n\\nEspañol (México)\\n\\n\\nFrançais (Canada)\\n\\n\\nFrançais (France)\\n\\n\\nעִבְרִית (יִשְׂרָאֵל)\\n\\n\\n日本語 (日本)\\n\\n\\n한국어 (대한민국)\\n\\n\\nPortuguês (Brasil)\\n\\n\\n简体中文\\n\\n\\n繁體中文\\n\\n\\n\\n\\n\\nView profile\\n\\n\\n\\n\\n\\n\\n\\n\\n\\n\\n\\n\\n\\n\\n\\n\\n\\n\\n\\n\\nCareers at EY\\nWhat you can do here\\nWhat it\\'s like to work here\\nHow to join us\\n\\n\\n                Job search \\n\\n\\nExperienced jobs\\nStudent jobs\\n\\n\\n\\n\\n\\n\\n\\n\\n\\n\\n\\n\\n\\n\\n\\n\\n\\n\\n\\n\\n\\n\\n\\n\\n\\n\\n\\nSearch by keyword and/or location\\n\\n\\n\\n\\nSearch by location\\n\\n\\n\\n\\n\\n\\nMore options\\n\\n\\n\\n\\n\\nLoading...\\n\\n\\n\\n\\n\\n\\n\\n                                            Country/Region\\n                                        \\n\\n\\nAll\\n\\n\\n\\n\\n\\n                                            Business Area\\n                                        \\n\\n\\nAll\\n\\n\\n\\n\\n\\n\\n\\n\\n\\n                                \\xa0\\n                            \\n\\n\\n\\n\\n\\nClear\\n\\n\\n\\n\\n\\n\\n\\n\\n\\n\\n\\n\\n\\n\\n\\n\\nSelect how often (in days) to receive an alert:\\n\\n\\n\\n Create Alert\\n\\n\\n\\n\\n\\n\\n\\n×\\n\\n\\n\\nSelect how often (in days) to receive an alert:\\n\\n\\n\\n\\n\\n\\n\\n\\n\\n\\n\\n\\n\\nApply now »\\n\\n\\nApply now\\n                            \\n\\n\\n\\n\\n                                Start applying with LinkedIn\\n                            \\n\\n\\n\\n\\n\\n\\n\\n\\n\\n                            Apply Now\\n                        \\n\\n\\n\\n\\n\\n\\n\\n\\n\\n\\nStart\\n\\n\\n\\n\\n\\n\\n\\n\\n\\nPlease wait...\\n\\n\\n\\n\\n\\n\\n\\n\\n\\n\\n\\n\\n\\n\\n\\n\\n\\n\\n\\n\\n\\n\\nData Analytics & AI - Manager - Data Analytics\\n    \\n\\n\\n\\n\\n\\n\\n\\n\\n\\nLocation:\\xa0\\n        \\nDublin 2\\n    \\n\\n\\n\\n\\n\\n\\n\\n\\nOther locations:\\xa0\\n        \\nPrimary Location Only\\n    \\n\\n\\n\\n\\n\\n\\n\\n\\nSalary:\\nCompetitive\\n\\n\\n\\n\\n\\n\\n\\n\\n\\nDate:\\xa0\\n        \\nOct 17, 2024\\n    \\n\\n\\n\\n\\n\\n\\nJob description\\n\\n\\n\\n\\n\\n\\n\\nRequisition ID:\\xa0\\n        \\n1517341\\n    \\n\\n\\n\\n\\n\\n\\n\\n\\n\\nManager – Data Analytics\\nGeneral Information\\nLocation: Dublin\\nBusiness Area: EY Data, Analytics & AI Ireland\\nContract Type: Permanent, Full-Time\\n\\xa0\\nEY exists to build a better working world, helping to create long-term value for clients, people and society and build trust in the capital markets. This role can be located in our offices across the Republic of Ireland.\\n\\xa0\\nAt EY, you’ll have the chance to build a career as unique as you are, with the global scale, support, inclusive culture, and technology to become the best version of you, we are counting on your unique voice and perspective to help EY become even better, too.\\xa0Working across assurance, consulting, law, strategy, tax and transactions, EY teams ask better questions to find new answers for the complex issues facing our world today.\\n\\xa0\\nWe believe that the highest-performing teams maximize the power of different perspectives and backgrounds. These teams are both diverse and inclusive and are willing to invite and learn from other perspectives. Our ability to include various viewpoints into our mindsets, behaviours and operations is fundamental to driving innovation, building strong relationships, and delivering the best solutions for our clients.\\n\\xa0\\nThe opportunity\\n\\xa0\\nOur data and analytics team focuses on helping our clients unlock value from their information assets by embedding innovative data analytics solutions in existing business areas.\\n\\xa0\\nData Analytics is one of the most exciting fields in today’s digital world.\\xa0It offers challenging work, career development and great job satisfaction.\\xa0EY’s mission is to build a better working world by asking better questions and finding better answers – this is what data analytics is all about.\\xa0What better way to help us achieve our mission than by working with our data science, analytics, engineering, and architecture teams as we continue this journey.\\xa0\\n\\xa0\\nIn response to strong market demand, we are seeking additional individuals to enhance our existing team. We are transforming our business by embedding analytics in everything we do.\\xa0We are helping our clients transform their businesses by doing the same, across industry sectors and lines of business. We are growing and so are our people.\\xa0We are hiring experienced professionals in a variety of roles, this is a fantastic opportunity to contribute to the Data Analytics team who are not only changing how we deliver services to our clients but are also committed to creating a diverse environment where EY people are valued, where they feel they belong and can contribute their best in every encounter.\\n\\xa0\\nYour key responsibilities\\xa0\\u202f\\xa0\\n\\xa0\\nThe nature of this role means no two projects will be the same. That means you’ll need to think on your feet and challenge existing practices to develop solutions for complex problems. You’ll also be collaborating with colleagues across multiple service lines, so you will be expected to build relationships and identify opportunities for our clients to benefit from our expertise in other areas. Occasional travel may be necessary as you will be meeting with key clients, some of whom are the most respected in their fields.\\n\\xa0\\n\\nLeading diverse teams with varying skillsets, who use different Data and Analytics technologies.\\nAdapting your leadership style to fit team, client, and cultural needs, they will look to you to anticipate and identify risks and escalate issues as appropriate.\\nAs an influential member of the team, you’ll create a positive learning culture and will coach and counsel junior members of the team and help them develop.\\nWorking in multi-disciplinary teams across a range of industries helping our clients, using our analytics to transform and improve their business.\\nDrawing on your knowledge and experience, you’ll create innovative insights which will add value to both our clients and to the broader society.\\nChampion operational efficiency improvements on projects and internal initiatives and will consistently drive projects to completion, and ensure the work is of high quality.\\nContribute to the development of the wider Data & Analytics team’s future by building our brand, attending relevant events, collaborating with other internal teams, and producing thought leadership.\\nActively establish, maintain, and strengthen internal and external relationships. With guidance from partners, directors, and other senior managers, you’ll identify potential business opportunities for EY to incubate or drive new solutions and services.\\n\\n\\xa0\\nSkills and attributes for success\\n\\xa0\\n\\nA completed degree (bachelors, masters, or PhD)\\nProven experience, 5+ years as a Data Analytics professional, or similar role in a consulting environment or equivalent.\\nDemonstrated ability to supervise and develop others, effectively communicate, managing client expectations, delivering quality projects, working to timelines, growth of the team, bringing energy, enthusiasm, and the courage to lead and develop others.\\nAbility to communicate technical information to non-technical colleagues and clients.\\nAmbition to continuously develop your skills and abilities.\\nAnalytically minded and, have the ability to assimilate and apply new techniques and knowledge, to deliver insights and solve problems.\\nProfessional with ability to work in diverse, evolving, and dynamic client environments.\\nWorking knowledge of key analytics tools such as:\\n\\nReporting and visualisation: PowerBI, Tableau, Qlik\\nProgramming languages: SQL, Python, R\\nCloud computing platforms: Azure, AWS, GCP\\n\\n\\nExperience in any aspects of the data analytics lifecycle, for example:\\n\\nData Strategy\\nData Manipulation and ETL\\nData Analysis & Visualization\\nApplying machine learning statistical analysis and other advanced analytics techniques to key business issues faced by our clients that can transform and improve their entire organisation.\\n\\n\\n\\n\\nA passion to contribute to the growth of the team, bringing energy, enthusiasm, and the courage to lead and develop others.\\nRelevant experience in Agile Delivery.\\n\\n\\xa0\\nAbout EY\\n\\xa0\\nAs a global leader in Assurance, Tax, Transaction and Advisory Services, we’re using the finance products, expertise, and systems we’ve developed to build a better working world. That starts with a culture that believes in giving you the training, opportunities, and creative freedom to make things better. Whenever you join, however long you stay, the exceptional EY experience lasts a lifetime.\\n\\xa0\\nWhat working at EY offers\\n\\xa0\\nWe offer a competitive remuneration package. Our comprehensive benefits package includes support for flexible working and career development, and with FlexEY you can select benefits that suit your needs: covering holidays, health and well-being, insurance, savings and a wide range of discounts, offers and promotions.\\n\\xa0Plus, we offer:\\n\\xa0\\n\\nSupport and coaching from some of the most engaging colleagues around.\\nOpportunities to develop new skills and progress your career.\\nThe freedom and flexibility to handle your role in a way that’s right for you.\\n\\n\\xa0\\nAll our employees are given a benefits package which they can tailor to suit their individual preferences. Our range of benefits include:\\n\\xa0\\n\\nHybrid Working\\nPension/Discounted Health Insurance\\nWeb Doctor\\nPurchase of Additional Annual Leave\\nFree Gym Membership\\nTravel Pass\\nMaternity & Paternity Leave\\nBike to Work Scheme\\nReferral Bonuses & Recognition Awards\\nTech MBA paid by EY\\n\\n\\xa0\\nEY is committed to being an inclusive employer and we are happy to consider flexible working arrangements. We strive to achieve the right balance for our people, enabling us to deliver excellent client service whilst allowing you to build your career without sacrificing your personal priorities. While our client-facing professionals can be required to travel regularly, and at times be based at client sites, our flexible working arrangements can help you to achieve a lifestyle balance.\\n\\xa0\\nCareer Progression\\n\\xa0\\n\\nWhen you join EY, you will be supported to ensure that you are enhancing your skills from day one.\\nContinuous learning, where you can develop the mindset and skills to navigate whatever comes next.\\nAs you grow and develop here, you’ll discover opportunities to help customise your career journey, so that it’s as unique as you are - success is defined by you, we will provide the tools and flexibility, so you can make a meaningful impact, your way.\\nTransformative leadership, we will give you the insights, coaching and confidence to be the leader the world needs.\\nDiverse and inclusive culture, you will be embraced for who you are and empowered to use your voice to help others find theirs.\\nWe have embraced Hybrid working at EY adding greater flexibility and autonomy to the roles of our employees.\\n\\n\\xa0\\nInclusion & Diversity\\n\\xa0\\nWe hold a collective commitment to foster an environment where all differences are valued and respected, practices are equitable and everyone experiences a sense of belonging: Inclusion, diversity, and equity are part of who we are at EY. We believe that the highest-performing teams maximize the power of different perspectives and backgrounds. These teams are both diverse and inclusive and are willing to invite and learn from other perspectives. Our ability to include various viewpoints into our mindsets, behaviours and operations is fundamental to driving innovation, building strong relationships, and delivering the best solutions for our clients.\\n\\xa0\\nWe recognise the strength that comes from having a diverse workforce and building a culture where we support all our people to achieve their potential. You’ll be embraced for who you are and empowered to use your voice to help others find theirs. As an equal opportunities’ employer, we welcome applications from people of all backgrounds. Reasonable accommodations are offered at every stage of our recruitment process.\\n\\xa0\\nIf you can confidently demonstrate that you meet the criteria above, please contact us as soon as possible.\\n\\xa0\\nJoin us in building a better working world.\\xa0That’s Why, EY.\\n\\xa0\\nApply now.\\n\\xa0\\nIMPORTANT: Where Agency assistance is required, our Talent Team will engage directly with suppliers. CVs / Profiles should not be shared directly with Hiring Managers. Unsolicited CVs / Profiles supplied to EY by Recruitment Agencies will not be accepted for this role.\\n\\xa0\\n\\n\\n\\n\\n\\n\\n\\n\\n\\n\\n\\n\\nApply now »\\n\\n\\nApply now\\n                            \\n\\n\\n\\n\\n                                Start applying with LinkedIn\\n                            \\n\\n\\n\\n\\n\\n\\n\\n\\n\\n                            Apply Now\\n                        \\n\\n\\n\\n\\n\\n\\n\\n\\n\\n\\nStart\\n\\n\\n\\n\\n\\n\\n\\n\\n\\nPlease wait...\\n\\n\\n\\n\\n\\n\\n\\n\\n\\n\\n\\nFind similar jobs: \\n\\n\\n\\n\\n\\n\\n\\n\\n\\n\\n\\n\\nConnect with us\\nOur locations\\nMy EY\\nSite map\\nLegal and privacy\\nLabor condition applications\\nCookie Consent Manager\\n\\n\\n\\n\\n\\n\\n\\n\\n\\n\\n\\n\\n\\n\\n\\n\\n\\n\\n\\n\\n\\n\\n\\n\\n\\n\\n\\n\\n\\n\\n\\n\\n\\n\\n\\n\\n\\n\\nEY refers to the global organization, and may refer to one or more, of the member firms of Ernst & Young Global Limited, each of which is a separate legal entity. Ernst & Young Global Limited, a UK company limited by guarantee, does not provide services to clients.\\n\\n\\n\\n\\n\\n\\n\\n\\n\\n\\n×\\nCookie Consent Manager\\n\\n\\nWhen you visit any website, it may store or retrieve information on your browser, mostly in the form of cookies. Because we respect your right to privacy, you can choose not to allow some types of cookies. However, blocking some types of cookies may impact your experience of the site and the services we are able to offer.\\n\\n\\n\\n\\n\\n\\nRequired Cookies\\n\\nThese cookies are required to use this website and can\\'t be turned off.\\n\\n\\n\\n\\n\\n\\n\\n\\n\\n\\n\\n\\n\\n\\n\\n\\n\\n\\n\\n\\n\\n                                            Show More Details\\n                                        \\n\\n\\nRequired Cookies\\n\\n\\nProvider\\nDescription\\nEnabled\\n\\n\\n\\n\\nSAP as service provider\\n\\nWe use the following session cookies, which are all required to enable the website to function:\"route\" is used for session stickiness\"careerSiteCompanyId\" is used to send the request to the correct data center\"JSESSIONID\" is placed on the visitor\\'s device during the session so the server can identify the visitor\"Load balancer cookie\" (actual cookie name may vary)  prevents a visitor from bouncing from one instance to another\\n\\n\\n\\n\\n\\n\\n\\n\\n\\n\\n\\n\\n\\n\\n\\n\\n\\n\\n\\n\\n\\n\\n\\n\\n\\n\\nAdvertising Cookies\\n\\nThese cookies serve ads that are relevant to your interests. You may freely choose to accept or decline these cookies at any time. Note that certain functionality that these third parties make available may be impacted if you do not accept these cookies.\\n\\n\\n\\n\\n\\n\\n\\n\\n\\n\\n\\n\\n\\n\\n\\n\\n\\n\\n\\n\\n\\n                                                Show More Details\\n                                            \\n\\n\\nAdvertising Cookies\\n\\n\\nProvider\\nDescription\\nEnabled\\n\\n\\n\\n\\nAddThis\\n\\nGoogle Analytics is a web analytics service offered by Google that tracks and reports website traffic.Cookie InformationPrivacy PolicyTerms and Conditions\\n\\n\\n\\n\\n\\n\\n\\n\\n\\n\\n\\n\\n\\n\\n\\n\\nLinkedIn\\n\\nLinkedIn is an employment-oriented social networking service. We use the Apply with LinkedIn feature to allow you to apply for jobs using your LinkedIn profile. Opting out of LinkedIn cookies will disable your ability to use Apply with LinkedIn.Cookie PolicyCookie TablePrivacy PolicyTerms and Conditions\\n\\n\\n\\n\\n\\n\\n\\n\\n\\n\\n\\n\\n\\n\\n\\n\\nGoogle Analytics\\n\\nGoogle Analytics is a web analytics service offered by Google that tracks and reports website traffic.Cookie InformationPrivacy PolicyTerms and Conditions\\n\\n\\n\\n\\n\\n\\n\\n\\n\\n\\n\\n\\n\\n\\n\\n\\nGoogle Tag Manager\\n\\nGoogle Tag Manager is a tag management system for conversion tracking, site analytics, remarketing, and more.Privacy PolicyTerms and Conditions\\n\\n\\n\\n\\n\\n\\n\\n\\n\\n\\n\\n\\n\\n\\n\\n\\n\\n\\n\\n\\n\\n\\n\\n\\nConfirm My Choices\\n                        \\n\\nReject All Cookies\\nAccept All Cookies\\n\\n\\n\\n\\n\\n\\n\\n\\n\\n\\n\\n\\n\\n\\n\\n\\n\\n\\n\\n\\n\\n\\n\\n\\n\\n\\n\\n\\n\\n\\n\\n\\n\\n\\n\\n\\n\\n\\n\\n\\n\\n\\n\\n')]"
      ]
     },
     "execution_count": 134,
     "metadata": {},
     "output_type": "execute_result"
    }
   ],
   "source": [
    "# 1. Load, chunk and index the contents of the blog to create a retriever.\n",
    "import bs4\n",
    "loader = WebBaseLoader(\n",
    "    web_paths=(\"https://careers.ey.com/ey/job/Dublin-2-Data-Analytics-&-AI-Manager-Data-Analytics/1088849901/?feedId=337401\",)\n",
    "    # ,\n",
    "    # bs_kwargs=dict(\n",
    "    #     parse_only=bs4.SoupStrainer(\n",
    "    #         class_=(\"post-content\", \"post-title\", \"post-header\")\n",
    "    #     )\n",
    "    # ),\n",
    ")\n",
    "\n",
    "web_docs=loader.load()\n",
    "web_docs"
   ]
  },
  {
   "cell_type": "code",
   "execution_count": null,
   "metadata": {},
   "outputs": [
    {
     "data": {
      "text/plain": [
       "VectorStoreRetriever(tags=['Chroma', 'HuggingFaceEmbeddings'], vectorstore=<langchain_chroma.vectorstores.Chroma object at 0x0000016DBBCE3680>, search_kwargs={})"
      ]
     },
     "execution_count": 135,
     "metadata": {},
     "output_type": "execute_result"
    }
   ],
   "source": [
    "text_splitter=RecursiveCharacterTextSplitter(chunk_size=3000,chunk_overlap=500)\n",
    "web_splits=text_splitter.split_documents(web_docs)\n",
    "vectorstore=Chroma.from_documents(documents=web_splits,embedding=embeddings)\n",
    "retriever=vectorstore.as_retriever()\n",
    "retriever"
   ]
  },
  {
   "cell_type": "code",
   "execution_count": 137,
   "metadata": {},
   "outputs": [
    {
     "data": {
      "text/plain": [
       "[Document(metadata={'source': 'https://careers.ey.com/ey/job/Dublin-2-Data-Analytics-&-AI-Manager-Data-Analytics/1088849901/?feedId=337401', 'title': 'Data Analytics & AI - Manager - Data Analytics Job Details | EY', 'description': 'Dublin 2 Data Analytics & AI - Manager - Data Analytics', 'language': 'en-US'}, page_content='Data Analytics & AI - Manager - Data Analytics Job Details | EY'),\n",
       " Document(metadata={'source': 'https://careers.ey.com/ey/job/Dublin-2-Data-Analytics-&-AI-Manager-Data-Analytics/1088849901/?feedId=337401', 'title': 'Data Analytics & AI - Manager - Data Analytics Job Details | EY', 'description': 'Dublin 2 Data Analytics & AI - Manager - Data Analytics', 'language': 'en-US'}, page_content='Cookie information\\nWelcome to the EY careers job search site. This website is based on the SuccessFactors software provided by SAP. On this page, functional and optional cookies are used to improve your experience and design our careers site more user-friendly and in line with your needs. In this context, cookies from providers in third countries may also be used and data may be transmitted to providers such as social media services outside the EU. For this we require your consent. By clicking \"Accept All Cookies\", you agree to these. This also includes your consent to the transmission of certain personal data to third countries, including the USA, in accordance with Art. 49 (1) (a) GDPR. You can select your settings by clicking “Modify Cookie Preferences” to confirm your choices from the optional cookie tracking and selecting the required cookies required to remain on the site. You can change your selection at any time by clicking the link at the bottom of the page.'),\n",
       " Document(metadata={'source': 'https://careers.ey.com/ey/job/Dublin-2-Data-Analytics-&-AI-Manager-Data-Analytics/1088849901/?feedId=337401', 'title': 'Data Analytics & AI - Manager - Data Analytics Job Details | EY', 'description': 'Dublin 2 Data Analytics & AI - Manager - Data Analytics', 'language': 'en-US'}, page_content=\"Modify Cookie Preferences\\n\\n\\n                    Reject All Cookies\\n\\n                Accept All Cookies\\n\\n\\n\\n\\n\\n\\nPress Tab to Move to Skip to Content Link\\nSkip to main content\\n\\n\\n\\n\\n\\n\\n\\n\\n\\n\\n\\n\\n\\n\\n\\n\\n\\n\\n\\n\\nLanguage \\n\\n\\nDeutsch (Deutschland)\\n\\n\\nEnglish (United Kingdom)\\n\\n\\nEnglish (United States)\\n\\n\\nEspañol (México)\\n\\n\\nFrançais (Canada)\\n\\n\\nFrançais (France)\\n\\n\\nעִבְרִית (יִשְׂרָאֵל)\\n\\n\\n日本語 (日本)\\n\\n\\n한국어 (대한민국)\\n\\n\\nPortuguês (Brasil)\\n\\n\\n简体中文\\n\\n\\n繁體中文\\n\\n\\n\\n\\n\\nView profile\\n\\n\\n\\n\\n\\n\\n\\n\\n\\n\\n\\n\\n\\n\\n\\n\\n\\n\\n\\n\\n\\n\\n\\n\\n\\n\\n\\n\\n\\n\\n\\n\\n\\nCareers at EY\\nWhat you can do here\\nWhat it's like to work here\\nHow to join us\\n\\n\\n                Job search \\n\\n\\nExperienced jobs\\nStudent jobs\\n\\n\\n\\n\\n\\n\\n\\n\\n\\n\\n\\n\\n\\n\\n\\n\\n\\n\\n\\n\\n\\n\\n\\n\\n\\n\\n\\nLanguage \\n\\n\\nDeutsch (Deutschland)\\n\\n\\nEnglish (United Kingdom)\\n\\n\\nEnglish (United States)\\n\\n\\nEspañol (México)\\n\\n\\nFrançais (Canada)\\n\\n\\nFrançais (France)\\n\\n\\nעִבְרִית (יִשְׂרָאֵל)\\n\\n\\n日本語 (日本)\\n\\n\\n한국어 (대한민국)\\n\\n\\nPortuguês (Brasil)\\n\\n\\n简体中文\\n\\n\\n繁體中文\\n\\n\\n\\n\\n\\nView profile\"),\n",
       " Document(metadata={'source': 'https://careers.ey.com/ey/job/Dublin-2-Data-Analytics-&-AI-Manager-Data-Analytics/1088849901/?feedId=337401', 'title': 'Data Analytics & AI - Manager - Data Analytics Job Details | EY', 'description': 'Dublin 2 Data Analytics & AI - Manager - Data Analytics', 'language': 'en-US'}, page_content=\"Español (México)\\n\\n\\nFrançais (Canada)\\n\\n\\nFrançais (France)\\n\\n\\nעִבְרִית (יִשְׂרָאֵל)\\n\\n\\n日本語 (日本)\\n\\n\\n한국어 (대한민국)\\n\\n\\nPortuguês (Brasil)\\n\\n\\n简体中文\\n\\n\\n繁體中文\\n\\n\\n\\n\\n\\nView profile\\n\\n\\n\\n\\n\\n\\n\\n\\n\\n\\n\\n\\n\\n\\n\\n\\n\\n\\n\\n\\n\\n\\n\\n\\n\\n\\n\\n\\n\\n\\n\\n\\n\\n\\n\\nCareers at EY\\nWhat you can do here\\nWhat it's like to work here\\nHow to join us\\n\\n\\n                Job search \\n\\n\\nExperienced jobs\\nStudent jobs\\n\\n\\n\\n\\n\\n\\n\\n\\n\\n\\n\\n\\n\\n\\n\\n\\n\\n\\n\\n\\n\\n\\n\\n\\n\\n\\n\\n\\n\\n\\n\\n\\nLanguage \\n\\n\\nDeutsch (Deutschland)\\n\\n\\nEnglish (United Kingdom)\\n\\n\\nEnglish (United States)\\n\\n\\nEspañol (México)\\n\\n\\nFrançais (Canada)\\n\\n\\nFrançais (France)\\n\\n\\nעִבְרִית (יִשְׂרָאֵל)\\n\\n\\n日本語 (日本)\\n\\n\\n한국어 (대한민국)\\n\\n\\nPortuguês (Brasil)\\n\\n\\n简体中文\\n\\n\\n繁體中文\\n\\n\\n\\n\\n\\nView profile\\n\\n\\n\\n\\n\\n\\n\\n\\n\\n\\n\\n\\n\\n\\n\\n\\n\\n\\n\\n\\nCareers at EY\\nWhat you can do here\\nWhat it's like to work here\\nHow to join us\\n\\n\\n                Job search \\n\\n\\nExperienced jobs\\nStudent jobs\\n\\n\\n\\n\\n\\n\\n\\n\\n\\n\\n\\n\\n\\n\\n\\n\\n\\n\\n\\n\\n\\n\\n\\n\\n\\n\\n\\nSearch by keyword and/or location\\n\\n\\n\\n\\nSearch by location\\n\\n\\n\\n\\n\\n\\nMore options\\n\\n\\n\\n\\n\\nLoading...\\n\\n\\n\\n\\n\\n\\n\\n                                            Country/Region\"),\n",
       " Document(metadata={'source': 'https://careers.ey.com/ey/job/Dublin-2-Data-Analytics-&-AI-Manager-Data-Analytics/1088849901/?feedId=337401', 'title': 'Data Analytics & AI - Manager - Data Analytics Job Details | EY', 'description': 'Dublin 2 Data Analytics & AI - Manager - Data Analytics', 'language': 'en-US'}, page_content='Search by keyword and/or location\\n\\n\\n\\n\\nSearch by location\\n\\n\\n\\n\\n\\n\\nMore options\\n\\n\\n\\n\\n\\nLoading...\\n\\n\\n\\n\\n\\n\\n\\n                                            Country/Region\\n                                        \\n\\n\\nAll\\n\\n\\n\\n\\n\\n                                            Business Area\\n                                        \\n\\n\\nAll\\n\\n\\n\\n\\n\\n\\n\\n\\n\\n                                \\xa0\\n                            \\n\\n\\n\\n\\n\\nClear\\n\\n\\n\\n\\n\\n\\n\\n\\n\\n\\n\\n\\n\\n\\n\\n\\nSelect how often (in days) to receive an alert:\\n\\n\\n\\n Create Alert\\n\\n\\n\\n\\n\\n\\n\\n×\\n\\n\\n\\nSelect how often (in days) to receive an alert:\\n\\n\\n\\n\\n\\n\\n\\n\\n\\n\\n\\n\\n\\nApply now »\\n\\n\\nApply now\\n                            \\n\\n\\n\\n\\n                                Start applying with LinkedIn\\n                            \\n\\n\\n\\n\\n\\n\\n\\n\\n\\n                            Apply Now\\n                        \\n\\n\\n\\n\\n\\n\\n\\n\\n\\n\\nStart\\n\\n\\n\\n\\n\\n\\n\\n\\n\\nPlease wait...\\n\\n\\n\\n\\n\\n\\n\\n\\n\\n\\n\\n\\n\\n\\n\\n\\n\\n\\n\\n\\n\\n\\nData Analytics & AI - Manager - Data Analytics\\n    \\n\\n\\n\\n\\n\\n\\n\\n\\n\\nLocation:\\xa0\\n        \\nDublin 2\\n    \\n\\n\\n\\n\\n\\n\\n\\n\\nOther locations:\\xa0\\n        \\nPrimary Location Only'),\n",
       " Document(metadata={'source': 'https://careers.ey.com/ey/job/Dublin-2-Data-Analytics-&-AI-Manager-Data-Analytics/1088849901/?feedId=337401', 'title': 'Data Analytics & AI - Manager - Data Analytics Job Details | EY', 'description': 'Dublin 2 Data Analytics & AI - Manager - Data Analytics', 'language': 'en-US'}, page_content='Data Analytics & AI - Manager - Data Analytics\\n    \\n\\n\\n\\n\\n\\n\\n\\n\\n\\nLocation:\\xa0\\n        \\nDublin 2\\n    \\n\\n\\n\\n\\n\\n\\n\\n\\nOther locations:\\xa0\\n        \\nPrimary Location Only\\n    \\n\\n\\n\\n\\n\\n\\n\\n\\nSalary:\\nCompetitive\\n\\n\\n\\n\\n\\n\\n\\n\\n\\nDate:\\xa0\\n        \\nOct 17, 2024\\n    \\n\\n\\n\\n\\n\\n\\nJob description\\n\\n\\n\\n\\n\\n\\n\\nRequisition ID:\\xa0\\n        \\n1517341'),\n",
       " Document(metadata={'source': 'https://careers.ey.com/ey/job/Dublin-2-Data-Analytics-&-AI-Manager-Data-Analytics/1088849901/?feedId=337401', 'title': 'Data Analytics & AI - Manager - Data Analytics Job Details | EY', 'description': 'Dublin 2 Data Analytics & AI - Manager - Data Analytics', 'language': 'en-US'}, page_content='Manager – Data Analytics\\nGeneral Information\\nLocation: Dublin\\nBusiness Area: EY Data, Analytics & AI Ireland\\nContract Type: Permanent, Full-Time\\n\\xa0\\nEY exists to build a better working world, helping to create long-term value for clients, people and society and build trust in the capital markets. This role can be located in our offices across the Republic of Ireland.\\n\\xa0\\nAt EY, you’ll have the chance to build a career as unique as you are, with the global scale, support, inclusive culture, and technology to become the best version of you, we are counting on your unique voice and perspective to help EY become even better, too.\\xa0Working across assurance, consulting, law, strategy, tax and transactions, EY teams ask better questions to find new answers for the complex issues facing our world today.'),\n",
       " Document(metadata={'source': 'https://careers.ey.com/ey/job/Dublin-2-Data-Analytics-&-AI-Manager-Data-Analytics/1088849901/?feedId=337401', 'title': 'Data Analytics & AI - Manager - Data Analytics Job Details | EY', 'description': 'Dublin 2 Data Analytics & AI - Manager - Data Analytics', 'language': 'en-US'}, page_content='We believe that the highest-performing teams maximize the power of different perspectives and backgrounds. These teams are both diverse and inclusive and are willing to invite and learn from other perspectives. Our ability to include various viewpoints into our mindsets, behaviours and operations is fundamental to driving innovation, building strong relationships, and delivering the best solutions for our clients.\\n\\xa0\\nThe opportunity\\n\\xa0\\nOur data and analytics team focuses on helping our clients unlock value from their information assets by embedding innovative data analytics solutions in existing business areas.'),\n",
       " Document(metadata={'source': 'https://careers.ey.com/ey/job/Dublin-2-Data-Analytics-&-AI-Manager-Data-Analytics/1088849901/?feedId=337401', 'title': 'Data Analytics & AI - Manager - Data Analytics Job Details | EY', 'description': 'Dublin 2 Data Analytics & AI - Manager - Data Analytics', 'language': 'en-US'}, page_content='The opportunity\\n\\xa0\\nOur data and analytics team focuses on helping our clients unlock value from their information assets by embedding innovative data analytics solutions in existing business areas.\\n\\xa0\\nData Analytics is one of the most exciting fields in today’s digital world.\\xa0It offers challenging work, career development and great job satisfaction.\\xa0EY’s mission is to build a better working world by asking better questions and finding better answers – this is what data analytics is all about.\\xa0What better way to help us achieve our mission than by working with our data science, analytics, engineering, and architecture teams as we continue this journey.'),\n",
       " Document(metadata={'source': 'https://careers.ey.com/ey/job/Dublin-2-Data-Analytics-&-AI-Manager-Data-Analytics/1088849901/?feedId=337401', 'title': 'Data Analytics & AI - Manager - Data Analytics Job Details | EY', 'description': 'Dublin 2 Data Analytics & AI - Manager - Data Analytics', 'language': 'en-US'}, page_content='In response to strong market demand, we are seeking additional individuals to enhance our existing team. We are transforming our business by embedding analytics in everything we do.\\xa0We are helping our clients transform their businesses by doing the same, across industry sectors and lines of business. We are growing and so are our people.\\xa0We are hiring experienced professionals in a variety of roles, this is a fantastic opportunity to contribute to the Data Analytics team who are not only changing how we deliver services to our clients but are also committed to creating a diverse environment where EY people are valued, where they feel they belong and can contribute their best in every encounter.\\n\\xa0\\nYour key responsibilities'),\n",
       " Document(metadata={'source': 'https://careers.ey.com/ey/job/Dublin-2-Data-Analytics-&-AI-Manager-Data-Analytics/1088849901/?feedId=337401', 'title': 'Data Analytics & AI - Manager - Data Analytics Job Details | EY', 'description': 'Dublin 2 Data Analytics & AI - Manager - Data Analytics', 'language': 'en-US'}, page_content='Your key responsibilities\\xa0\\u202f\\xa0\\n\\xa0\\nThe nature of this role means no two projects will be the same. That means you’ll need to think on your feet and challenge existing practices to develop solutions for complex problems. You’ll also be collaborating with colleagues across multiple service lines, so you will be expected to build relationships and identify opportunities for our clients to benefit from our expertise in other areas. Occasional travel may be necessary as you will be meeting with key clients, some of whom are the most respected in their fields.'),\n",
       " Document(metadata={'source': 'https://careers.ey.com/ey/job/Dublin-2-Data-Analytics-&-AI-Manager-Data-Analytics/1088849901/?feedId=337401', 'title': 'Data Analytics & AI - Manager - Data Analytics Job Details | EY', 'description': 'Dublin 2 Data Analytics & AI - Manager - Data Analytics', 'language': 'en-US'}, page_content='Leading diverse teams with varying skillsets, who use different Data and Analytics technologies.\\nAdapting your leadership style to fit team, client, and cultural needs, they will look to you to anticipate and identify risks and escalate issues as appropriate.\\nAs an influential member of the team, you’ll create a positive learning culture and will coach and counsel junior members of the team and help them develop.\\nWorking in multi-disciplinary teams across a range of industries helping our clients, using our analytics to transform and improve their business.\\nDrawing on your knowledge and experience, you’ll create innovative insights which will add value to both our clients and to the broader society.\\nChampion operational efficiency improvements on projects and internal initiatives and will consistently drive projects to completion, and ensure the work is of high quality.'),\n",
       " Document(metadata={'source': 'https://careers.ey.com/ey/job/Dublin-2-Data-Analytics-&-AI-Manager-Data-Analytics/1088849901/?feedId=337401', 'title': 'Data Analytics & AI - Manager - Data Analytics Job Details | EY', 'description': 'Dublin 2 Data Analytics & AI - Manager - Data Analytics', 'language': 'en-US'}, page_content='Champion operational efficiency improvements on projects and internal initiatives and will consistently drive projects to completion, and ensure the work is of high quality.\\nContribute to the development of the wider Data & Analytics team’s future by building our brand, attending relevant events, collaborating with other internal teams, and producing thought leadership.\\nActively establish, maintain, and strengthen internal and external relationships. With guidance from partners, directors, and other senior managers, you’ll identify potential business opportunities for EY to incubate or drive new solutions and services.'),\n",
       " Document(metadata={'source': 'https://careers.ey.com/ey/job/Dublin-2-Data-Analytics-&-AI-Manager-Data-Analytics/1088849901/?feedId=337401', 'title': 'Data Analytics & AI - Manager - Data Analytics Job Details | EY', 'description': 'Dublin 2 Data Analytics & AI - Manager - Data Analytics', 'language': 'en-US'}, page_content='Skills and attributes for success\\n\\xa0\\n\\nA completed degree (bachelors, masters, or PhD)\\nProven experience, 5+ years as a Data Analytics professional, or similar role in a consulting environment or equivalent.\\nDemonstrated ability to supervise and develop others, effectively communicate, managing client expectations, delivering quality projects, working to timelines, growth of the team, bringing energy, enthusiasm, and the courage to lead and develop others.\\nAbility to communicate technical information to non-technical colleagues and clients.\\nAmbition to continuously develop your skills and abilities.\\nAnalytically minded and, have the ability to assimilate and apply new techniques and knowledge, to deliver insights and solve problems.\\nProfessional with ability to work in diverse, evolving, and dynamic client environments.\\nWorking knowledge of key analytics tools such as:'),\n",
       " Document(metadata={'source': 'https://careers.ey.com/ey/job/Dublin-2-Data-Analytics-&-AI-Manager-Data-Analytics/1088849901/?feedId=337401', 'title': 'Data Analytics & AI - Manager - Data Analytics Job Details | EY', 'description': 'Dublin 2 Data Analytics & AI - Manager - Data Analytics', 'language': 'en-US'}, page_content='Reporting and visualisation: PowerBI, Tableau, Qlik\\nProgramming languages: SQL, Python, R\\nCloud computing platforms: Azure, AWS, GCP\\n\\n\\nExperience in any aspects of the data analytics lifecycle, for example:\\n\\nData Strategy\\nData Manipulation and ETL\\nData Analysis & Visualization\\nApplying machine learning statistical analysis and other advanced analytics techniques to key business issues faced by our clients that can transform and improve their entire organisation.\\n\\n\\n\\n\\nA passion to contribute to the growth of the team, bringing energy, enthusiasm, and the courage to lead and develop others.\\nRelevant experience in Agile Delivery.'),\n",
       " Document(metadata={'source': 'https://careers.ey.com/ey/job/Dublin-2-Data-Analytics-&-AI-Manager-Data-Analytics/1088849901/?feedId=337401', 'title': 'Data Analytics & AI - Manager - Data Analytics Job Details | EY', 'description': 'Dublin 2 Data Analytics & AI - Manager - Data Analytics', 'language': 'en-US'}, page_content='A passion to contribute to the growth of the team, bringing energy, enthusiasm, and the courage to lead and develop others.\\nRelevant experience in Agile Delivery.\\n\\n\\xa0\\nAbout EY\\n\\xa0\\nAs a global leader in Assurance, Tax, Transaction and Advisory Services, we’re using the finance products, expertise, and systems we’ve developed to build a better working world. That starts with a culture that believes in giving you the training, opportunities, and creative freedom to make things better. Whenever you join, however long you stay, the exceptional EY experience lasts a lifetime.\\n\\xa0\\nWhat working at EY offers\\n\\xa0\\nWe offer a competitive remuneration package. Our comprehensive benefits package includes support for flexible working and career development, and with FlexEY you can select benefits that suit your needs: covering holidays, health and well-being, insurance, savings and a wide range of discounts, offers and promotions.\\n\\xa0Plus, we offer:'),\n",
       " Document(metadata={'source': 'https://careers.ey.com/ey/job/Dublin-2-Data-Analytics-&-AI-Manager-Data-Analytics/1088849901/?feedId=337401', 'title': 'Data Analytics & AI - Manager - Data Analytics Job Details | EY', 'description': 'Dublin 2 Data Analytics & AI - Manager - Data Analytics', 'language': 'en-US'}, page_content='Support and coaching from some of the most engaging colleagues around.\\nOpportunities to develop new skills and progress your career.\\nThe freedom and flexibility to handle your role in a way that’s right for you.\\n\\n\\xa0\\nAll our employees are given a benefits package which they can tailor to suit their individual preferences. Our range of benefits include:\\n\\xa0\\n\\nHybrid Working\\nPension/Discounted Health Insurance\\nWeb Doctor\\nPurchase of Additional Annual Leave\\nFree Gym Membership\\nTravel Pass\\nMaternity & Paternity Leave\\nBike to Work Scheme\\nReferral Bonuses & Recognition Awards\\nTech MBA paid by EY'),\n",
       " Document(metadata={'source': 'https://careers.ey.com/ey/job/Dublin-2-Data-Analytics-&-AI-Manager-Data-Analytics/1088849901/?feedId=337401', 'title': 'Data Analytics & AI - Manager - Data Analytics Job Details | EY', 'description': 'Dublin 2 Data Analytics & AI - Manager - Data Analytics', 'language': 'en-US'}, page_content='EY is committed to being an inclusive employer and we are happy to consider flexible working arrangements. We strive to achieve the right balance for our people, enabling us to deliver excellent client service whilst allowing you to build your career without sacrificing your personal priorities. While our client-facing professionals can be required to travel regularly, and at times be based at client sites, our flexible working arrangements can help you to achieve a lifestyle balance.\\n\\xa0\\nCareer Progression'),\n",
       " Document(metadata={'source': 'https://careers.ey.com/ey/job/Dublin-2-Data-Analytics-&-AI-Manager-Data-Analytics/1088849901/?feedId=337401', 'title': 'Data Analytics & AI - Manager - Data Analytics Job Details | EY', 'description': 'Dublin 2 Data Analytics & AI - Manager - Data Analytics', 'language': 'en-US'}, page_content='When you join EY, you will be supported to ensure that you are enhancing your skills from day one.\\nContinuous learning, where you can develop the mindset and skills to navigate whatever comes next.\\nAs you grow and develop here, you’ll discover opportunities to help customise your career journey, so that it’s as unique as you are - success is defined by you, we will provide the tools and flexibility, so you can make a meaningful impact, your way.\\nTransformative leadership, we will give you the insights, coaching and confidence to be the leader the world needs.\\nDiverse and inclusive culture, you will be embraced for who you are and empowered to use your voice to help others find theirs.\\nWe have embraced Hybrid working at EY adding greater flexibility and autonomy to the roles of our employees.'),\n",
       " Document(metadata={'source': 'https://careers.ey.com/ey/job/Dublin-2-Data-Analytics-&-AI-Manager-Data-Analytics/1088849901/?feedId=337401', 'title': 'Data Analytics & AI - Manager - Data Analytics Job Details | EY', 'description': 'Dublin 2 Data Analytics & AI - Manager - Data Analytics', 'language': 'en-US'}, page_content='Inclusion & Diversity\\n\\xa0\\nWe hold a collective commitment to foster an environment where all differences are valued and respected, practices are equitable and everyone experiences a sense of belonging: Inclusion, diversity, and equity are part of who we are at EY. We believe that the highest-performing teams maximize the power of different perspectives and backgrounds. These teams are both diverse and inclusive and are willing to invite and learn from other perspectives. Our ability to include various viewpoints into our mindsets, behaviours and operations is fundamental to driving innovation, building strong relationships, and delivering the best solutions for our clients.'),\n",
       " Document(metadata={'source': 'https://careers.ey.com/ey/job/Dublin-2-Data-Analytics-&-AI-Manager-Data-Analytics/1088849901/?feedId=337401', 'title': 'Data Analytics & AI - Manager - Data Analytics Job Details | EY', 'description': 'Dublin 2 Data Analytics & AI - Manager - Data Analytics', 'language': 'en-US'}, page_content='We recognise the strength that comes from having a diverse workforce and building a culture where we support all our people to achieve their potential. You’ll be embraced for who you are and empowered to use your voice to help others find theirs. As an equal opportunities’ employer, we welcome applications from people of all backgrounds. Reasonable accommodations are offered at every stage of our recruitment process.\\n\\xa0\\nIf you can confidently demonstrate that you meet the criteria above, please contact us as soon as possible.\\n\\xa0\\nJoin us in building a better working world.\\xa0That’s Why, EY.\\n\\xa0\\nApply now.\\n\\xa0\\nIMPORTANT: Where Agency assistance is required, our Talent Team will engage directly with suppliers. CVs / Profiles should not be shared directly with Hiring Managers. Unsolicited CVs / Profiles supplied to EY by Recruitment Agencies will not be accepted for this role.'),\n",
       " Document(metadata={'source': 'https://careers.ey.com/ey/job/Dublin-2-Data-Analytics-&-AI-Manager-Data-Analytics/1088849901/?feedId=337401', 'title': 'Data Analytics & AI - Manager - Data Analytics Job Details | EY', 'description': 'Dublin 2 Data Analytics & AI - Manager - Data Analytics', 'language': 'en-US'}, page_content='Apply now »\\n\\n\\nApply now\\n                            \\n\\n\\n\\n\\n                                Start applying with LinkedIn\\n                            \\n\\n\\n\\n\\n\\n\\n\\n\\n\\n                            Apply Now\\n                        \\n\\n\\n\\n\\n\\n\\n\\n\\n\\n\\nStart\\n\\n\\n\\n\\n\\n\\n\\n\\n\\nPlease wait...\\n\\n\\n\\n\\n\\n\\n\\n\\n\\n\\n\\nFind similar jobs: \\n\\n\\n\\n\\n\\n\\n\\n\\n\\n\\n\\n\\nConnect with us\\nOur locations\\nMy EY\\nSite map\\nLegal and privacy\\nLabor condition applications\\nCookie Consent Manager\\n\\n\\n\\n\\n\\n\\n\\n\\n\\n\\n\\n\\n\\n\\n\\n\\n\\n\\n\\n\\n\\n\\n\\n\\n\\n\\n\\n\\n\\n\\n\\n\\n\\n\\n\\n\\n\\n\\nEY refers to the global organization, and may refer to one or more, of the member firms of Ernst & Young Global Limited, each of which is a separate legal entity. Ernst & Young Global Limited, a UK company limited by guarantee, does not provide services to clients.\\n\\n\\n\\n\\n\\n\\n\\n\\n\\n\\n×\\nCookie Consent Manager'),\n",
       " Document(metadata={'source': 'https://careers.ey.com/ey/job/Dublin-2-Data-Analytics-&-AI-Manager-Data-Analytics/1088849901/?feedId=337401', 'title': 'Data Analytics & AI - Manager - Data Analytics Job Details | EY', 'description': 'Dublin 2 Data Analytics & AI - Manager - Data Analytics', 'language': 'en-US'}, page_content=\"×\\nCookie Consent Manager\\n\\n\\nWhen you visit any website, it may store or retrieve information on your browser, mostly in the form of cookies. Because we respect your right to privacy, you can choose not to allow some types of cookies. However, blocking some types of cookies may impact your experience of the site and the services we are able to offer.\\n\\n\\n\\n\\n\\n\\nRequired Cookies\\n\\nThese cookies are required to use this website and can't be turned off.\\n\\n\\n\\n\\n\\n\\n\\n\\n\\n\\n\\n\\n\\n\\n\\n\\n\\n\\n\\n\\n\\n                                            Show More Details\\n                                        \\n\\n\\nRequired Cookies\\n\\n\\nProvider\\nDescription\\nEnabled\\n\\n\\n\\n\\nSAP as service provider\"),\n",
       " Document(metadata={'source': 'https://careers.ey.com/ey/job/Dublin-2-Data-Analytics-&-AI-Manager-Data-Analytics/1088849901/?feedId=337401', 'title': 'Data Analytics & AI - Manager - Data Analytics Job Details | EY', 'description': 'Dublin 2 Data Analytics & AI - Manager - Data Analytics', 'language': 'en-US'}, page_content='Show More Details\\n                                        \\n\\n\\nRequired Cookies\\n\\n\\nProvider\\nDescription\\nEnabled\\n\\n\\n\\n\\nSAP as service provider\\n\\nWe use the following session cookies, which are all required to enable the website to function:\"route\" is used for session stickiness\"careerSiteCompanyId\" is used to send the request to the correct data center\"JSESSIONID\" is placed on the visitor\\'s device during the session so the server can identify the visitor\"Load balancer cookie\" (actual cookie name may vary)  prevents a visitor from bouncing from one instance to another\\n\\n\\n\\n\\n\\n\\n\\n\\n\\n\\n\\n\\n\\n\\n\\n\\n\\n\\n\\n\\n\\n\\n\\n\\n\\n\\nAdvertising Cookies\\n\\nThese cookies serve ads that are relevant to your interests. You may freely choose to accept or decline these cookies at any time. Note that certain functionality that these third parties make available may be impacted if you do not accept these cookies.'),\n",
       " Document(metadata={'source': 'https://careers.ey.com/ey/job/Dublin-2-Data-Analytics-&-AI-Manager-Data-Analytics/1088849901/?feedId=337401', 'title': 'Data Analytics & AI - Manager - Data Analytics Job Details | EY', 'description': 'Dublin 2 Data Analytics & AI - Manager - Data Analytics', 'language': 'en-US'}, page_content='Show More Details\\n                                            \\n\\n\\nAdvertising Cookies\\n\\n\\nProvider\\nDescription\\nEnabled\\n\\n\\n\\n\\nAddThis\\n\\nGoogle Analytics is a web analytics service offered by Google that tracks and reports website traffic.Cookie InformationPrivacy PolicyTerms and Conditions\\n\\n\\n\\n\\n\\n\\n\\n\\n\\n\\n\\n\\n\\n\\n\\n\\nLinkedIn\\n\\nLinkedIn is an employment-oriented social networking service. We use the Apply with LinkedIn feature to allow you to apply for jobs using your LinkedIn profile. Opting out of LinkedIn cookies will disable your ability to use Apply with LinkedIn.Cookie PolicyCookie TablePrivacy PolicyTerms and Conditions\\n\\n\\n\\n\\n\\n\\n\\n\\n\\n\\n\\n\\n\\n\\n\\n\\nGoogle Analytics\\n\\nGoogle Analytics is a web analytics service offered by Google that tracks and reports website traffic.Cookie InformationPrivacy PolicyTerms and Conditions\\n\\n\\n\\n\\n\\n\\n\\n\\n\\n\\n\\n\\n\\n\\n\\n\\nGoogle Tag Manager'),\n",
       " Document(metadata={'source': 'https://careers.ey.com/ey/job/Dublin-2-Data-Analytics-&-AI-Manager-Data-Analytics/1088849901/?feedId=337401', 'title': 'Data Analytics & AI - Manager - Data Analytics Job Details | EY', 'description': 'Dublin 2 Data Analytics & AI - Manager - Data Analytics', 'language': 'en-US'}, page_content='Google Analytics is a web analytics service offered by Google that tracks and reports website traffic.Cookie InformationPrivacy PolicyTerms and Conditions\\n\\n\\n\\n\\n\\n\\n\\n\\n\\n\\n\\n\\n\\n\\n\\n\\nGoogle Tag Manager\\n\\nGoogle Tag Manager is a tag management system for conversion tracking, site analytics, remarketing, and more.Privacy PolicyTerms and Conditions\\n\\n\\n\\n\\n\\n\\n\\n\\n\\n\\n\\n\\n\\n\\n\\n\\n\\n\\n\\n\\n\\n\\n\\n\\nConfirm My Choices\\n                        \\n\\nReject All Cookies\\nAccept All Cookies')]"
      ]
     },
     "execution_count": 137,
     "metadata": {},
     "output_type": "execute_result"
    }
   ],
   "source": [
    "web_splits"
   ]
  },
  {
   "cell_type": "code",
   "execution_count": null,
   "metadata": {},
   "outputs": [],
   "source": [
    "## Prompt Template\n",
    "system_prompt = (\n",
    "    \"You are an assistant for question-answering tasks. \"\n",
    "    \"Use the following pieces of retrieved context to answer \"\n",
    "    \"the question. If you don't know the answer, say that you \"\n",
    "    \"don't know. Use three sentences maximum and keep the \"\n",
    "    \"answer concise.\"\n",
    "    \"\\n\\n\"\n",
    "    \"{context}\"\n",
    "\n",
    "    # \"{resume}\"\n",
    ")\n",
    "\n",
    "prompt = ChatPromptTemplate.from_messages(\n",
    "    [\n",
    "        (\"system\", system_prompt),\n",
    "        (\"human\", \"{input}\"),\n",
    "    ]\n",
    ")"
   ]
  },
  {
   "cell_type": "code",
   "execution_count": 21,
   "metadata": {},
   "outputs": [],
   "source": [
    "question_answer_chain=create_stuff_documents_chain(llm,prompt)\n",
    "rag_chain=create_retrieval_chain(retriever,question_answer_chain)"
   ]
  },
  {
   "cell_type": "code",
   "execution_count": 22,
   "metadata": {},
   "outputs": [
    {
     "data": {
      "text/plain": [
       "{'input': 'tell me about this job',\n",
       " 'context': [Document(metadata={'description': 'Dublin 2 Data Analytics & AI - Manager - Data Analytics', 'language': 'en-US', 'source': 'https://careers.ey.com/ey/job/Dublin-2-Data-Analytics-&-AI-Manager-Data-Analytics/1088849901/?feedId=337401', 'title': 'Data Analytics & AI - Manager - Data Analytics Job Details | EY'}, page_content='When you join EY, you will be supported to ensure that you are enhancing your skills from day one.\\nContinuous learning, where you can develop the mindset and skills to navigate whatever comes next.\\nAs you grow and develop here, you’ll discover opportunities to help customise your career journey, so that it’s as unique as you are - success is defined by you, we will provide the tools and flexibility, so you can make a meaningful impact, your way.\\nTransformative leadership, we will give you the insights, coaching and confidence to be the leader the world needs.\\nDiverse and inclusive culture, you will be embraced for who you are and empowered to use your voice to help others find theirs.\\nWe have embraced Hybrid working at EY adding greater flexibility and autonomy to the roles of our employees.'),\n",
       "  Document(metadata={'description': 'Dublin 2 Data Analytics & AI - Manager - Data Analytics', 'language': 'en-US', 'source': 'https://careers.ey.com/ey/job/Dublin-2-Data-Analytics-&-AI-Manager-Data-Analytics/1088849901/?feedId=337401', 'title': 'Data Analytics & AI - Manager - Data Analytics Job Details | EY'}, page_content='Skills and attributes for success\\n\\xa0\\n\\nA completed degree (bachelors, masters, or PhD)\\nProven experience, 5+ years as a Data Analytics professional, or similar role in a consulting environment or equivalent.\\nDemonstrated ability to supervise and develop others, effectively communicate, managing client expectations, delivering quality projects, working to timelines, growth of the team, bringing energy, enthusiasm, and the courage to lead and develop others.\\nAbility to communicate technical information to non-technical colleagues and clients.\\nAmbition to continuously develop your skills and abilities.\\nAnalytically minded and, have the ability to assimilate and apply new techniques and knowledge, to deliver insights and solve problems.\\nProfessional with ability to work in diverse, evolving, and dynamic client environments.\\nWorking knowledge of key analytics tools such as:'),\n",
       "  Document(metadata={'source': 'https://lilianweng.github.io/posts/2023-06-23-agent/'}, page_content='Resources:\\n1. Internet access for searches and information gathering.\\n2. Long Term memory management.\\n3. GPT-3.5 powered Agents for delegation of simple tasks.\\n4. File output.\\n\\nPerformance Evaluation:\\n1. Continuously review and analyze your actions to ensure you are performing to the best of your abilities.\\n2. Constructively self-criticize your big-picture behavior constantly.\\n3. Reflect on past decisions and strategies to refine your approach.\\n4. Every command has a cost, so be smart and efficient. Aim to complete tasks in the least number of steps.'),\n",
       "  Document(metadata={'description': 'Dublin 2 Data Analytics & AI - Manager - Data Analytics', 'language': 'en-US', 'source': 'https://careers.ey.com/ey/job/Dublin-2-Data-Analytics-&-AI-Manager-Data-Analytics/1088849901/?feedId=337401', 'title': 'Data Analytics & AI - Manager - Data Analytics Job Details | EY'}, page_content='Data Analytics & AI - Manager - Data Analytics Job Details | EY')],\n",
       " 'answer': 'This is a Data Analytics & AI - Manager - Data Analytics role at EY, a professional services firm. The job requires a minimum of 5+ years of experience as a Data Analytics professional, or similar role in a consulting environment. The role involves leading and developing a team, communicating technical information to non-technical colleagues and clients, and delivering high-quality projects on time. The ideal candidate should have a strong analytical mind, ability to assimilate and apply new techniques and knowledge, and a willingness to continuously develop their skills and abilities.'}"
      ]
     },
     "execution_count": 22,
     "metadata": {},
     "output_type": "execute_result"
    }
   ],
   "source": [
    "response=rag_chain.invoke({\"input\":\"tell me about this job\"})\n",
    "response"
   ]
  },
  {
   "cell_type": "markdown",
   "metadata": {},
   "source": [
    "## Read Resume"
   ]
  },
  {
   "cell_type": "code",
   "execution_count": null,
   "metadata": {},
   "outputs": [
    {
     "data": {
      "text/plain": [
       "VectorStoreRetriever(tags=['Chroma', 'HuggingFaceEmbeddings'], vectorstore=<langchain_chroma.vectorstores.Chroma object at 0x0000016DAF42BBF0>, search_kwargs={})"
      ]
     },
     "execution_count": 39,
     "metadata": {},
     "output_type": "execute_result"
    }
   ],
   "source": [
    "loader = PyPDFDirectoryLoader(\"../resume\")\n",
    "resume_docs = loader.load()\n",
    "text_splitter=RecursiveCharacterTextSplitter(chunk_size=1000,chunk_overlap=200)\n",
    "resume_splits=text_splitter.split_documents(resume_docs)\n",
    "vectorstore=Chroma.from_documents(documents=resume_splits,embedding=embeddings)\n",
    "resume_retriever=vectorstore.as_retriever()\n",
    "resume_retriever"
   ]
  },
  {
   "cell_type": "code",
   "execution_count": 40,
   "metadata": {},
   "outputs": [],
   "source": [
    "system_prompt = (\n",
    "    \"You are an assistant for question-answering tasks. \"\n",
    "    \"Use the following pieces of retrieved context to answer \"\n",
    "    \"the question. If you don't know the answer, say that you \"\n",
    "    \"don't know. Use three sentences maximum and keep the \"\n",
    "    \"answer concise.\"\n",
    "    \"\\n\\n\"\n",
    "    \"{context}\"\n",
    "\n",
    "    # \"{resume}\"\n",
    ")\n",
    "\n",
    "prompt = ChatPromptTemplate.from_messages(\n",
    "    [\n",
    "        (\"system\", system_prompt),\n",
    "        (\"human\", \"{input}\"),\n",
    "    ]\n",
    ")"
   ]
  },
  {
   "cell_type": "code",
   "execution_count": 41,
   "metadata": {},
   "outputs": [],
   "source": [
    "question_answer_chain=create_stuff_documents_chain(llm,prompt)\n",
    "rag_chain=create_retrieval_chain(retriever,question_answer_chain)"
   ]
  },
  {
   "cell_type": "code",
   "execution_count": 42,
   "metadata": {},
   "outputs": [
    {
     "data": {
      "text/plain": [
       "{'input': 'can you write cover letter for this job for given resume?',\n",
       " 'context': [Document(metadata={'description': 'Dublin 2 Data Analytics & AI - Manager - Data Analytics', 'language': 'en-US', 'source': 'https://careers.ey.com/ey/job/Dublin-2-Data-Analytics-&-AI-Manager-Data-Analytics/1088849901/?feedId=337401', 'title': 'Data Analytics & AI - Manager - Data Analytics Job Details | EY'}, page_content='We recognise the strength that comes from having a diverse workforce and building a culture where we support all our people to achieve their potential. You’ll be embraced for who you are and empowered to use your voice to help others find theirs. As an equal opportunities’ employer, we welcome applications from people of all backgrounds. Reasonable accommodations are offered at every stage of our recruitment process.\\n\\xa0\\nIf you can confidently demonstrate that you meet the criteria above, please contact us as soon as possible.\\n\\xa0\\nJoin us in building a better working world.\\xa0That’s Why, EY.\\n\\xa0\\nApply now.\\n\\xa0\\nIMPORTANT: Where Agency assistance is required, our Talent Team will engage directly with suppliers. CVs / Profiles should not be shared directly with Hiring Managers. Unsolicited CVs / Profiles supplied to EY by Recruitment Agencies will not be accepted for this role.'),\n",
       "  Document(metadata={'description': 'Dublin 2 Data Analytics & AI - Manager - Data Analytics', 'language': 'en-US', 'source': 'https://careers.ey.com/ey/job/Dublin-2-Data-Analytics-&-AI-Manager-Data-Analytics/1088849901/?feedId=337401', 'title': 'Data Analytics & AI - Manager - Data Analytics Job Details | EY'}, page_content='We recognise the strength that comes from having a diverse workforce and building a culture where we support all our people to achieve their potential. You’ll be embraced for who you are and empowered to use your voice to help others find theirs. As an equal opportunities’ employer, we welcome applications from people of all backgrounds. Reasonable accommodations are offered at every stage of our recruitment process.\\n\\xa0\\nIf you can confidently demonstrate that you meet the criteria above, please contact us as soon as possible.\\n\\xa0\\nJoin us in building a better working world.\\xa0That’s Why, EY.\\n\\xa0\\nApply now.\\n\\xa0\\nIMPORTANT: Where Agency assistance is required, our Talent Team will engage directly with suppliers. CVs / Profiles should not be shared directly with Hiring Managers. Unsolicited CVs / Profiles supplied to EY by Recruitment Agencies will not be accepted for this role.'),\n",
       "  Document(metadata={'description': 'Dublin 2 Data Analytics & AI - Manager - Data Analytics', 'language': 'en-US', 'source': 'https://careers.ey.com/ey/job/Dublin-2-Data-Analytics-&-AI-Manager-Data-Analytics/1088849901/?feedId=337401', 'title': 'Data Analytics & AI - Manager - Data Analytics Job Details | EY'}, page_content='Apply now »\\n\\n\\nApply now\\n                            \\n\\n\\n\\n\\n                                Start applying with LinkedIn\\n                            \\n\\n\\n\\n\\n\\n\\n\\n\\n\\n                            Apply Now\\n                        \\n\\n\\n\\n\\n\\n\\n\\n\\n\\n\\nStart\\n\\n\\n\\n\\n\\n\\n\\n\\n\\nPlease wait...\\n\\n\\n\\n\\n\\n\\n\\n\\n\\n\\n\\nFind similar jobs: \\n\\n\\n\\n\\n\\n\\n\\n\\n\\n\\n\\n\\nConnect with us\\nOur locations\\nMy EY\\nSite map\\nLegal and privacy\\nLabor condition applications\\nCookie Consent Manager\\n\\n\\n\\n\\n\\n\\n\\n\\n\\n\\n\\n\\n\\n\\n\\n\\n\\n\\n\\n\\n\\n\\n\\n\\n\\n\\n\\n\\n\\n\\n\\n\\n\\n\\n\\n\\n\\n\\nEY refers to the global organization, and may refer to one or more, of the member firms of Ernst & Young Global Limited, each of which is a separate legal entity. Ernst & Young Global Limited, a UK company limited by guarantee, does not provide services to clients.\\n\\n\\n\\n\\n\\n\\n\\n\\n\\n\\n×\\nCookie Consent Manager'),\n",
       "  Document(metadata={'description': 'Dublin 2 Data Analytics & AI - Manager - Data Analytics', 'language': 'en-US', 'source': 'https://careers.ey.com/ey/job/Dublin-2-Data-Analytics-&-AI-Manager-Data-Analytics/1088849901/?feedId=337401', 'title': 'Data Analytics & AI - Manager - Data Analytics Job Details | EY'}, page_content='Apply now »\\n\\n\\nApply now\\n                            \\n\\n\\n\\n\\n                                Start applying with LinkedIn\\n                            \\n\\n\\n\\n\\n\\n\\n\\n\\n\\n                            Apply Now\\n                        \\n\\n\\n\\n\\n\\n\\n\\n\\n\\n\\nStart\\n\\n\\n\\n\\n\\n\\n\\n\\n\\nPlease wait...\\n\\n\\n\\n\\n\\n\\n\\n\\n\\n\\n\\nFind similar jobs: \\n\\n\\n\\n\\n\\n\\n\\n\\n\\n\\n\\n\\nConnect with us\\nOur locations\\nMy EY\\nSite map\\nLegal and privacy\\nLabor condition applications\\nCookie Consent Manager\\n\\n\\n\\n\\n\\n\\n\\n\\n\\n\\n\\n\\n\\n\\n\\n\\n\\n\\n\\n\\n\\n\\n\\n\\n\\n\\n\\n\\n\\n\\n\\n\\n\\n\\n\\n\\n\\n\\nEY refers to the global organization, and may refer to one or more, of the member firms of Ernst & Young Global Limited, each of which is a separate legal entity. Ernst & Young Global Limited, a UK company limited by guarantee, does not provide services to clients.\\n\\n\\n\\n\\n\\n\\n\\n\\n\\n\\n×\\nCookie Consent Manager')],\n",
       " 'answer': \"I'd be happy to help you with a cover letter for the job at EY. However, I need to see the resume you have prepared for this job. Please share it with me, and I'll do my best to write a compelling cover letter that highlights your strengths and qualifications for the position.\\n\\nIf you don't have a resume prepared, please provide me with the following information, and I'll help you craft a cover letter:\\n\\n1. Your name and contact information\\n2. The job title you're applying for\\n3. A summary of your education, work experience, and skills relevant to the job\\n4. Any specific accomplishments or achievements you'd like to highlight\\n\\nOnce I have this information, I'll write a cover letter that effectively showcases your qualifications and demonstrates your enthusiasm for the role at EY.\"}"
      ]
     },
     "execution_count": 42,
     "metadata": {},
     "output_type": "execute_result"
    }
   ],
   "source": [
    "response=rag_chain.invoke({\"input\":\"can you write cover letter for this job for given resume?\"})\n",
    "response"
   ]
  },
  {
   "cell_type": "code",
   "execution_count": 43,
   "metadata": {},
   "outputs": [
    {
     "data": {
      "text/plain": [
       "[Document(metadata={'source': '..\\\\resume\\\\Resume.pdf', 'page': 0}, page_content='Tanmay Suhas Jagtap \\nGalway, Ireland | Stamp 1G | +353874852825 | tanmayjagtap78@gmail.com | LinkedIn | GitHub | Portfolio  \\n \\nSUMMARY  \\n \\nData Scientist with over 5 years of experience in machine learning  and data science . Proven track record of building \\nscalable data pipelines, deploying machine learning models, and leading high -impact projects in industries ranging from \\nfinancial services to AI -driven innovation. Skilled in collaborating with cross -functional teams to dr ive business growth \\nthrough data-driven insights. Holding a Stamp 1G work permit and eligible to take up full-time employment in Ireland. \\n \\nTECHNICAL SKILLS \\n \\nLanguages:  Python, SQL, HTML, CSS, JS, R, C# \\nAI/ML:  TensorFlow–Keras, SK-learn, Langchain , FastAPI, Firebase, Streamlit, Git, PowerBI, Spacy, GCP, OpenAI \\nAnalytics:  PostgreSQL, PowerBI, SQLite3, Pandas, Apache Spark, Excel \\n   \\nPROFESSIONAL EXPERIENCE \\n \\nAITON                             Galway, Ireland'),\n",
       " Document(metadata={'source': '..\\\\resume\\\\Resume.pdf', 'page': 0}, page_content='Analytics:  PostgreSQL, PowerBI, SQLite3, Pandas, Apache Spark, Excel \\n   \\nPROFESSIONAL EXPERIENCE \\n \\nAITON                             Galway, Ireland  \\nData Scientist-Intern                        June 2024- Present \\n• Developed a product recommendation model utilizing OpenAI embeddings based on user activity, enhancing \\npersonalized customer experiences improving monthly sales by 12%. \\n• Deployed the recommendation solution across multiple Shopify websites  using Firebase and Flas k, streamlining \\nimplementation for e-commerce clients. \\n•  Built an AI chatbot for customer support with Voiceflow, reducing human intervention by 10 hours weekly. \\n \\nMorningstar      Mumbai, India \\nAssociate Manager - Data Science                     Oct 2022 – Aug 2023 \\n• Worked on a Large Language Model (LLM)  project, using the GPT-3 embeddings to extract KPIs from over 500 \\ncompany sustainability reports, which resulted in a 37% increase in the accuracy and automation of KPI extraction.'),\n",
       " Document(metadata={'source': '..\\\\resume\\\\Resume.pdf', 'page': 0}, page_content='company sustainability reports, which resulted in a 37% increase in the accuracy and automation of KPI extraction. \\n• Developed predictive model [Random Forest, XGBoost] to predict the Environmental, social and governance (ESG) \\nratings of companies based on extracted KPIs and historical ratings. \\n• Integrated a new ML solution using Python into 3 existing solutions, using KPIs to achieve a 18% efficiency  \\nimprovement. \\n• Led 5 POCs to extract data from ESG documents, demonstrating advanced data handling. \\n• Performed A/B testing for model selection as which model is more helpful for analysts. \\n• Created Power BI dashboards and SQL reports to track performance metrics, supporting data-driven decisions. \\n \\n Research and Innovation, TCS                  Mumbai, India \\n Machine Learning Engineer                                                                                                                                       Jan 2020 – Oct 2022'),\n",
       " Document(metadata={'source': '..\\\\resume\\\\Resume.pdf', 'page': 0}, page_content='Machine Learning Engineer                                                                                                                                       Jan 2020 – Oct 2022 \\n• Leveraged AI/ML algorithms in Python to enhance product performance, achieving an up to 5x efficiency boost and \\nreducing processing time. \\n• Filed a patent for background removal in ID card scanning for KYC ( PATENT), reducing processing time by 99% from \\n48 hours to 2 minutes. \\n• Designed and maintained relational databases for storing extracted metadata from legal documents, streamlining \\ndata storage and retrieval, and making the process 5x faster. \\n• Developed a core library for information extraction from legal documents (images/text). Integrated Word2Vec with \\nNER using transfer learning, improving accuracy by 12%. Tools: Spacy, NLTK. \\n• Exposed APIs and deployed models using Flask, FastAPI and Firebase. \\n \\nAniruddha Telemetry System                     Mumbai, India'),\n",
       " Document(metadata={'source': '..\\\\resume\\\\Resume.pdf', 'page': 0}, page_content='• Exposed APIs and deployed models using Flask, FastAPI and Firebase. \\n \\nAniruddha Telemetry System                     Mumbai, India \\n   Computer Vision Engineer                                                                                                                                           April 2019 – November 2019 \\n• Developed a predictive system to detect and classify outlier capsule batches, using OpenCV and machine learning \\nalgorithms to improve sorting accuracy and efficiency. \\n• Designed computer vision system for vehicle Speed Detection using surveillance cameras. \\n \\nEDUCATION    \\n \\nUniversity of Galway                         Galway, Ireland  \\nMasters in Business Analytics                                                                                                                       Sept 2023 - June 2024 \\nVivekanand Education Society Institute of Technology                                    Mumbai, India'),\n",
       " Document(metadata={'source': '..\\\\resume\\\\Resume.pdf', 'page': 0}, page_content='Vivekanand Education Society Institute of Technology                                    Mumbai, India  \\nBachelor of Engineering in Electronics & Telecommunication                                                                                                         July 2015 - May 2018'),\n",
       " Document(metadata={'source': '..\\\\resume\\\\Resume.pdf', 'page': 1}, page_content='PROJECTS \\n \\nRAG based Data Analyst [Langchain, JS, GPT 4o, SQLite3, FastAPI] \\nImplemented a chatbot powered by ChatGPT for Interacting with multiple datasets and getting answers of business \\nquestions which help to make business decisions. \\nChat with PDF using LLMs [Langchain, Streamlit, GPT, BERT] \\nImplemented a chatbot powered by ChatGPT for interactive PDF document interaction, utilizing Huggingface models \\nfor enhanced performance. \\nFace Mask Detection Using RetinaNet and TF-2.1 [TensorFlow, OpenCV] \\nDeveloped a predictive computer vision model with 95% accuracy using RetinaNet to detect face masks, helping to \\nenforce mask-wearing protocols in real-time workplace environments during the COVID-19 pandemic. \\nCOVID-19 Open Research Dataset Challenge[Pandas, Numpy, SK-learn]  \\nIn response to the COVID-19 pandemic, the White House and a coalition of leading research groups have prepared the \\nCOVID-19 Open Research Dataset. I tried to visualize this data to verify its spray pattern.'),\n",
       " Document(metadata={'source': '..\\\\resume\\\\Resume.pdf', 'page': 1}, page_content=\"COVID-19 Open Research Dataset. I tried to visualize this data to verify its spray pattern. \\nDiamond Price Predictor[Pandas, Linear regression] \\n Created a predictive model using Linear Regression to estimate the price of diamonds based on attributes such as \\ncolor, cut, clarity, and carat weight. The model accurately predicted diamond prices, achieving an R-squared score of \\n85%, making it a reliable tool for pricing estimation in the jewelry industry. \\nSpotify Music Predictor [Pandas, Numpy, SK-learn, XGBoost] \\nDeveloped a classification model to predict users' music preferences using features from Spotify’s music library, \\nachieving a 78% prediction accuracy. \\n \\nACCOMPLISHMENTS \\n \\n1st Prize, Datathon 2024, University of Galway \\nRecognized for innovative data solutions and outstanding performance in the Datathon 2024 at the University of Galway. \\nLed a team to win the top prize for developing advanced data analytics models.\"),\n",
       " Document(metadata={'source': '..\\\\resume\\\\Resume.pdf', 'page': 1}, page_content='Led a team to win the top prize for developing advanced data analytics models. \\n \\nIP Creation Award - Award for Excellence in Patent Filing \\nHonored for excellence in innovation and intellectual property creation . Awarded for successfully filing a patent, \\nrecognizing significant contributions to novel technology development. \\n \\n1st Prize, Data Science Hackathon by GreyAtom \\nSecured first place in GreyAtom’s Data Science Hackathon by developing an insurance claim prediction model for travel \\ninsurance. Demonstrated expertise in predictive modeling and data analysis. \\n \\nOn The Spot Award (August 2021), TCS Research and Innovation  \\nAwarded by TCS Research and Innovation for exceptional performance and immediate impact in delivering research-\\nbased solutions. Recognized for contributing to key projects. \\n \\nCleared TCS Digital Capability Assessment \\nSuccessfully passed the TCS Digital Capability Assessment, demonstrating advanced technical and digital skills  in areas'),\n",
       " Document(metadata={'source': '..\\\\resume\\\\Resume.pdf', 'page': 1}, page_content=\"Cleared TCS Digital Capability Assessment \\nSuccessfully passed the TCS Digital Capability Assessment, demonstrating advanced technical and digital skills  in areas \\ncritical to the organization's innovation and growth. \\n \\nCERTIFICATIONS \\n \\nData Science Masterclass, GreyAtom School of Data Science       \\nApplied AI with Deep Learning and Signal Processing (IBM), Coursera      \\nAdvance Machine learning and signal processing, Coursera\")]"
      ]
     },
     "execution_count": 43,
     "metadata": {},
     "output_type": "execute_result"
    }
   ],
   "source": [
    "splits"
   ]
  },
  {
   "cell_type": "code",
   "execution_count": 38,
   "metadata": {},
   "outputs": [
    {
     "data": {
      "text/plain": [
       "VectorStoreRetriever(tags=['Chroma', 'HuggingFaceEmbeddings'], vectorstore=<langchain_chroma.vectorstores.Chroma object at 0x0000016DAF785D60>, search_kwargs={})"
      ]
     },
     "execution_count": 38,
     "metadata": {},
     "output_type": "execute_result"
    }
   ],
   "source": [
    "retriever"
   ]
  },
  {
   "cell_type": "code",
   "execution_count": null,
   "metadata": {},
   "outputs": [],
   "source": []
  },
  {
   "cell_type": "markdown",
   "metadata": {},
   "source": [
    "## Combine both vectorspace"
   ]
  },
  {
   "cell_type": "code",
   "execution_count": 1,
   "metadata": {},
   "outputs": [
    {
     "name": "stderr",
     "output_type": "stream",
     "text": [
      "USER_AGENT environment variable not set, consider setting it to identify your requests.\n"
     ]
    }
   ],
   "source": [
    "from langchain_chroma import Chroma\n",
    "from langchain_community.document_loaders import WebBaseLoader, PyPDFDirectoryLoader\n",
    "from langchain_core.prompts import ChatPromptTemplate\n",
    "from langchain_text_splitters import RecursiveCharacterTextSplitter\n",
    "from langchain.chains import create_retrieval_chain\n",
    "from langchain.chains.combine_documents import create_stuff_documents_chain\n",
    "from langchain.output_parsers import PydanticOutputParser\n",
    "from langchain_core.prompts import PromptTemplate\n",
    "from pydantic import BaseModel, Field\n",
    "# from langchain import Aggregator"
   ]
  },
  {
   "cell_type": "code",
   "execution_count": 3,
   "metadata": {},
   "outputs": [
    {
     "data": {
      "text/plain": [
       "ChatGroq(client=<groq.resources.chat.completions.Completions object at 0x000001D357503680>, async_client=<groq.resources.chat.completions.AsyncCompletions object at 0x000001D357504500>, model_name='Llama3-8b-8192', model_kwargs={}, groq_api_key=SecretStr('**********'))"
      ]
     },
     "execution_count": 3,
     "metadata": {},
     "output_type": "execute_result"
    }
   ],
   "source": [
    "import os\n",
    "from dotenv import load_dotenv\n",
    "load_dotenv()\n",
    "from langchain_groq import ChatGroq\n",
    "\n",
    "groq_api_key=os.getenv(\"GROQ_API_KEY\")\n",
    "\n",
    "llm=ChatGroq(groq_api_key=groq_api_key,model_name=\"Llama3-8b-8192\")\n",
    "\n",
    "llm"
   ]
  },
  {
   "cell_type": "code",
   "execution_count": 4,
   "metadata": {},
   "outputs": [
    {
     "name": "stderr",
     "output_type": "stream",
     "text": [
      "c:\\Programming Work\\CareerCoach\\cc_venv\\Lib\\site-packages\\sentence_transformers\\cross_encoder\\CrossEncoder.py:13: TqdmWarning: IProgress not found. Please update jupyter and ipywidgets. See https://ipywidgets.readthedocs.io/en/stable/user_install.html\n",
      "  from tqdm.autonotebook import tqdm, trange\n",
      "No sentence-transformers model found with name impira/layoutlm-document-qa. Creating a new one with mean pooling.\n",
      "c:\\Programming Work\\CareerCoach\\cc_venv\\Lib\\site-packages\\huggingface_hub\\file_download.py:139: UserWarning: `huggingface_hub` cache-system uses symlinks by default to efficiently store duplicated files but your machine does not support them in C:\\Users\\tanma\\.cache\\huggingface\\hub\\models--impira--layoutlm-document-qa. Caching files will still work but in a degraded version that might require more space on your disk. This warning can be disabled by setting the `HF_HUB_DISABLE_SYMLINKS_WARNING` environment variable. For more details, see https://huggingface.co/docs/huggingface_hub/how-to-cache#limitations.\n",
      "To support symlinks on Windows, you either need to activate Developer Mode or to run Python as an administrator. In order to activate developer mode, see this article: https://docs.microsoft.com/en-us/windows/apps/get-started/enable-your-device-for-development\n",
      "  warnings.warn(message)\n"
     ]
    }
   ],
   "source": [
    "os.environ['HUGGINGFACE_API_KEY']=os.getenv(\"HUGGINGFACE_API_KEY\")\n",
    "from langchain_huggingface import HuggingFaceEmbeddings\n",
    "embeddings=HuggingFaceEmbeddings(model_name=\"impira/layoutlm-document-qa\")"
   ]
  },
  {
   "cell_type": "code",
   "execution_count": 5,
   "metadata": {},
   "outputs": [],
   "source": [
    "\n",
    "\n",
    "class QuestionParser(BaseModel):\n",
    "    resume_q: str = Field(description=\"Question to retrieve relevant resume infomation\")\n",
    "    job_q: str = Field(description=\"Question to retrieve relevant job information \")\n",
    "    response: str = Field(description=\"General response on quesry if questions are not created\")\n",
    "\n",
    "    \n",
    "parser = PydanticOutputParser(pydantic_object=QuestionParser)\n"
   ]
  },
  {
   "cell_type": "code",
   "execution_count": 6,
   "metadata": {},
   "outputs": [],
   "source": [
    "primary_system_prompt = (\n",
    "    # \"You are carier coach who helps applicants to apply for the job. \"\n",
    "    # \"You have resume in your vector space with job description.\"\n",
    "    \"There are two more bots in pipeline one is with user resume information and another one with job information\"\n",
    "    \"Your job is to create questions for them which will help to answer user question and retrieve relevant information\"\n",
    "    \"Dont generate questions just give response if you feel you can answer given question by yourself.\"\n",
    "    \"Answer the user query strictly using this.\\n{que_parser}\"\n",
    ")\n",
    "\n",
    "prompt = ChatPromptTemplate.from_messages(\n",
    "    [\n",
    "        (\"system\", primary_system_prompt),\n",
    "        (\"human\", \"{input}\")\n",
    "    ]\n",
    ")"
   ]
  },
  {
   "cell_type": "code",
   "execution_count": 7,
   "metadata": {},
   "outputs": [],
   "source": [
    "input_dict = {\"input\":\"can you write a cover letter for me?\", \"que_parser\":parser.get_format_instructions()}\n"
   ]
  },
  {
   "cell_type": "code",
   "execution_count": null,
   "metadata": {},
   "outputs": [],
   "source": [
    "chain = prompt|llm|parser\n",
    "response = chain.invoke(input_dict)"
   ]
  },
  {
   "cell_type": "code",
   "execution_count": 9,
   "metadata": {},
   "outputs": [],
   "source": [
    "res = response.dict()"
   ]
  },
  {
   "cell_type": "code",
   "execution_count": 10,
   "metadata": {},
   "outputs": [
    {
     "data": {
      "text/plain": [
       "{'resume_q': \"Could you provide more information about the position you're applying for?\",\n",
       " 'job_q': 'What specific skills or qualifications do you think you would bring to the role?',\n",
       " 'response': \"I'd be happy to help you with that! However, to provide a more tailored cover letter, could you please provide me with more details about the position and your qualifications? That way, I can help you craft a unique and effective cover letter.\"}"
      ]
     },
     "execution_count": 10,
     "metadata": {},
     "output_type": "execute_result"
    }
   ],
   "source": [
    "res"
   ]
  },
  {
   "cell_type": "code",
   "execution_count": null,
   "metadata": {},
   "outputs": [],
   "source": [
    "loader = WebBaseLoader(\n",
    "    web_paths=(\"https://careers.ey.com/ey/job/Dublin-2-Data-Analytics-&-AI-Manager-Data-Analytics/1088849901/?feedId=337401\",)\n",
    "    # ,\n",
    "    # bs_kwargs=dict(\n",
    "    #     parse_only=bs4.SoupStrainer(\n",
    "    #         class_=(\"post-content\", \"post-title\", \"post-header\")\n",
    "    #     )\n",
    "    # ),\n",
    ")\n",
    "\n",
    "\n",
    "\n",
    "web_docs=loader.load()\n",
    "text_splitter=RecursiveCharacterTextSplitter(chunk_size=3000,chunk_overlap=400)\n",
    "web_splits=text_splitter.split_documents(web_docs) \n",
    "\n",
    "web_vectorstore=Chroma.from_documents(documents=web_splits,embedding=embeddings, collection_name=\"job_collection\")\n",
    "web_retriever=web_vectorstore.as_retriever()\n",
    "\n"
   ]
  },
  {
   "cell_type": "code",
   "execution_count": null,
   "metadata": {},
   "outputs": [],
   "source": []
  },
  {
   "cell_type": "code",
   "execution_count": 12,
   "metadata": {},
   "outputs": [
    {
     "data": {
      "text/plain": [
       "[Document(metadata={'source': 'https://careers.ey.com/ey/job/Dublin-2-Data-Analytics-&-AI-Manager-Data-Analytics/1088849901/?feedId=337401', 'title': 'Data Analytics & AI - Manager - Data Analytics Job Details | EY', 'description': 'Dublin 2 Data Analytics & AI - Manager - Data Analytics', 'language': 'en-US'}, page_content='Data Analytics & AI - Manager - Data Analytics Job Details | EY\\n\\n\\n\\n\\n\\n\\n\\n\\n\\n\\n\\n\\n\\n\\n\\n\\n\\n\\n\\n\\n\\n\\n\\n\\n\\n\\n\\n\\n\\n\\nCookie information\\nWelcome to the EY careers job search site. This website is based on the SuccessFactors software provided by SAP. On this page, functional and optional cookies are used to improve your experience and design our careers site more user-friendly and in line with your needs. In this context, cookies from providers in third countries may also be used and data may be transmitted to providers such as social media services outside the EU. For this we require your consent. By clicking \"Accept All Cookies\", you agree to these. This also includes your consent to the transmission of certain personal data to third countries, including the USA, in accordance with Art. 49 (1) (a) GDPR. You can select your settings by clicking “Modify Cookie Preferences” to confirm your choices from the optional cookie tracking and selecting the required cookies required to remain on the site. You can change your selection at any time by clicking the link at the bottom of the page.\\n\\n                Modify Cookie Preferences\\n\\n\\n                    Reject All Cookies\\n\\n                Accept All Cookies\\n\\n\\n\\n\\n\\n\\nPress Tab to Move to Skip to Content Link\\nSkip to main content\\n\\n\\n\\n\\n\\n\\n\\n\\n\\n\\n\\n\\n\\n\\n\\n\\n\\n\\n\\n\\nLanguage \\n\\n\\nDeutsch (Deutschland)\\n\\n\\nEnglish (United Kingdom)\\n\\n\\nEnglish (United States)\\n\\n\\nEspañol (México)\\n\\n\\nFrançais (Canada)\\n\\n\\nFrançais (France)\\n\\n\\nעִבְרִית (יִשְׂרָאֵל)\\n\\n\\n日本語 (日本)\\n\\n\\n한국어 (대한민국)\\n\\n\\nPortuguês (Brasil)\\n\\n\\n简体中文\\n\\n\\n繁體中文\\n\\n\\n\\n\\n\\nView profile\\n\\n\\n\\n\\n\\n\\n\\n\\n\\n\\n\\n\\n\\n\\n\\n\\n\\n\\n\\n\\n\\n\\n\\n\\n\\n\\n\\n\\n\\n\\n\\n\\n\\nCareers at EY\\nWhat you can do here\\nWhat it\\'s like to work here\\nHow to join us\\n\\n\\n                Job search \\n\\n\\nExperienced jobs\\nStudent jobs\\n\\n\\n\\n\\n\\n\\n\\n\\n\\n\\n\\n\\n\\n\\n\\n\\n\\n\\n\\n\\n\\n\\n\\n\\n\\n\\n\\nLanguage \\n\\n\\nDeutsch (Deutschland)\\n\\n\\nEnglish (United Kingdom)\\n\\n\\nEnglish (United States)\\n\\n\\nEspañol (México)\\n\\n\\nFrançais (Canada)\\n\\n\\nFrançais (France)\\n\\n\\nעִבְרִית (יִשְׂרָאֵל)\\n\\n\\n日本語 (日本)\\n\\n\\n한국어 (대한민국)\\n\\n\\nPortuguês (Brasil)\\n\\n\\n简体中文\\n\\n\\n繁體中文\\n\\n\\n\\n\\n\\nView profile\\n\\n\\n\\n\\n\\n\\n\\n\\n\\n\\n\\n\\n\\n\\n\\n\\n\\n\\n\\n\\n\\n\\n\\n\\n\\n\\n\\n\\n\\n\\n\\n\\n\\n\\n\\nCareers at EY\\nWhat you can do here\\nWhat it\\'s like to work here\\nHow to join us\\n\\n\\n                Job search \\n\\n\\nExperienced jobs\\nStudent jobs\\n\\n\\n\\n\\n\\n\\n\\n\\n\\n\\n\\n\\n\\n\\n\\n\\n\\n\\n\\n\\n\\n\\n\\n\\n\\n\\n\\n\\n\\n\\n\\n\\nLanguage \\n\\n\\nDeutsch (Deutschland)\\n\\n\\nEnglish (United Kingdom)\\n\\n\\nEnglish (United States)\\n\\n\\nEspañol (México)\\n\\n\\nFrançais (Canada)\\n\\n\\nFrançais (France)\\n\\n\\nעִבְרִית (יִשְׂרָאֵל)\\n\\n\\n日本語 (日本)\\n\\n\\n한국어 (대한민국)\\n\\n\\nPortuguês (Brasil)\\n\\n\\n简体中文\\n\\n\\n繁體中文\\n\\n\\n\\n\\n\\nView profile\\n\\n\\n\\n\\n\\n\\n\\n\\n\\n\\n\\n\\n\\n\\n\\n\\n\\n\\n\\n\\nCareers at EY\\nWhat you can do here\\nWhat it\\'s like to work here\\nHow to join us\\n\\n\\n                Job search \\n\\n\\nExperienced jobs\\nStudent jobs\\n\\n\\n\\n\\n\\n\\n\\n\\n\\n\\n\\n\\n\\n\\n\\n\\n\\n\\n\\n\\n\\n\\n\\n\\n\\n\\n\\nSearch by keyword and/or location\\n\\n\\n\\n\\nSearch by location\\n\\n\\n\\n\\n\\n\\nMore options\\n\\n\\n\\n\\n\\nLoading...\\n\\n\\n\\n\\n\\n\\n\\n                                            Country/Region\\n                                        \\n\\n\\nAll\\n\\n\\n\\n\\n\\n                                            Business Area\\n                                        \\n\\n\\nAll'),\n",
       " Document(metadata={'source': 'https://careers.ey.com/ey/job/Dublin-2-Data-Analytics-&-AI-Manager-Data-Analytics/1088849901/?feedId=337401', 'title': 'Data Analytics & AI - Manager - Data Analytics Job Details | EY', 'description': 'Dublin 2 Data Analytics & AI - Manager - Data Analytics', 'language': 'en-US'}, page_content='Experienced jobs\\nStudent jobs\\n\\n\\n\\n\\n\\n\\n\\n\\n\\n\\n\\n\\n\\n\\n\\n\\n\\n\\n\\n\\n\\n\\n\\n\\n\\n\\n\\nSearch by keyword and/or location\\n\\n\\n\\n\\nSearch by location\\n\\n\\n\\n\\n\\n\\nMore options\\n\\n\\n\\n\\n\\nLoading...\\n\\n\\n\\n\\n\\n\\n\\n                                            Country/Region\\n                                        \\n\\n\\nAll\\n\\n\\n\\n\\n\\n                                            Business Area\\n                                        \\n\\n\\nAll\\n\\n\\n\\n\\n\\n\\n\\n\\n\\n                                \\xa0\\n                            \\n\\n\\n\\n\\n\\nClear\\n\\n\\n\\n\\n\\n\\n\\n\\n\\n\\n\\n\\n\\n\\n\\n\\nSelect how often (in days) to receive an alert:\\n\\n\\n\\n Create Alert\\n\\n\\n\\n\\n\\n\\n\\n×\\n\\n\\n\\nSelect how often (in days) to receive an alert:\\n\\n\\n\\n\\n\\n\\n\\n\\n\\n\\n\\n\\n\\nApply now »\\n\\n\\nApply now\\n                            \\n\\n\\n\\n\\n                                Start applying with LinkedIn\\n                            \\n\\n\\n\\n\\n\\n\\n\\n\\n\\n                            Apply Now\\n                        \\n\\n\\n\\n\\n\\n\\n\\n\\n\\n\\nStart\\n\\n\\n\\n\\n\\n\\n\\n\\n\\nPlease wait...\\n\\n\\n\\n\\n\\n\\n\\n\\n\\n\\n\\n\\n\\n\\n\\n\\n\\n\\n\\n\\n\\n\\nData Analytics & AI - Manager - Data Analytics\\n    \\n\\n\\n\\n\\n\\n\\n\\n\\n\\nLocation:\\xa0\\n        \\nDublin 2\\n    \\n\\n\\n\\n\\n\\n\\n\\n\\nOther locations:\\xa0\\n        \\nPrimary Location Only\\n    \\n\\n\\n\\n\\n\\n\\n\\n\\nSalary:\\nCompetitive\\n\\n\\n\\n\\n\\n\\n\\n\\n\\nDate:\\xa0\\n        \\nOct 17, 2024\\n    \\n\\n\\n\\n\\n\\n\\nJob description\\n\\n\\n\\n\\n\\n\\n\\nRequisition ID:\\xa0\\n        \\n1517341'),\n",
       " Document(metadata={'source': 'https://careers.ey.com/ey/job/Dublin-2-Data-Analytics-&-AI-Manager-Data-Analytics/1088849901/?feedId=337401', 'title': 'Data Analytics & AI - Manager - Data Analytics Job Details | EY', 'description': 'Dublin 2 Data Analytics & AI - Manager - Data Analytics', 'language': 'en-US'}, page_content='Manager – Data Analytics\\nGeneral Information\\nLocation: Dublin\\nBusiness Area: EY Data, Analytics & AI Ireland\\nContract Type: Permanent, Full-Time\\n\\xa0\\nEY exists to build a better working world, helping to create long-term value for clients, people and society and build trust in the capital markets. This role can be located in our offices across the Republic of Ireland.\\n\\xa0\\nAt EY, you’ll have the chance to build a career as unique as you are, with the global scale, support, inclusive culture, and technology to become the best version of you, we are counting on your unique voice and perspective to help EY become even better, too.\\xa0Working across assurance, consulting, law, strategy, tax and transactions, EY teams ask better questions to find new answers for the complex issues facing our world today.\\n\\xa0\\nWe believe that the highest-performing teams maximize the power of different perspectives and backgrounds. These teams are both diverse and inclusive and are willing to invite and learn from other perspectives. Our ability to include various viewpoints into our mindsets, behaviours and operations is fundamental to driving innovation, building strong relationships, and delivering the best solutions for our clients.\\n\\xa0\\nThe opportunity\\n\\xa0\\nOur data and analytics team focuses on helping our clients unlock value from their information assets by embedding innovative data analytics solutions in existing business areas.\\n\\xa0\\nData Analytics is one of the most exciting fields in today’s digital world.\\xa0It offers challenging work, career development and great job satisfaction.\\xa0EY’s mission is to build a better working world by asking better questions and finding better answers – this is what data analytics is all about.\\xa0What better way to help us achieve our mission than by working with our data science, analytics, engineering, and architecture teams as we continue this journey.\\xa0\\n\\xa0\\nIn response to strong market demand, we are seeking additional individuals to enhance our existing team. We are transforming our business by embedding analytics in everything we do.\\xa0We are helping our clients transform their businesses by doing the same, across industry sectors and lines of business. We are growing and so are our people.\\xa0We are hiring experienced professionals in a variety of roles, this is a fantastic opportunity to contribute to the Data Analytics team who are not only changing how we deliver services to our clients but are also committed to creating a diverse environment where EY people are valued, where they feel they belong and can contribute their best in every encounter.\\n\\xa0\\nYour key responsibilities'),\n",
       " Document(metadata={'source': 'https://careers.ey.com/ey/job/Dublin-2-Data-Analytics-&-AI-Manager-Data-Analytics/1088849901/?feedId=337401', 'title': 'Data Analytics & AI - Manager - Data Analytics Job Details | EY', 'description': 'Dublin 2 Data Analytics & AI - Manager - Data Analytics', 'language': 'en-US'}, page_content='Your key responsibilities\\xa0\\u202f\\xa0\\n\\xa0\\nThe nature of this role means no two projects will be the same. That means you’ll need to think on your feet and challenge existing practices to develop solutions for complex problems. You’ll also be collaborating with colleagues across multiple service lines, so you will be expected to build relationships and identify opportunities for our clients to benefit from our expertise in other areas. Occasional travel may be necessary as you will be meeting with key clients, some of whom are the most respected in their fields.'),\n",
       " Document(metadata={'source': 'https://careers.ey.com/ey/job/Dublin-2-Data-Analytics-&-AI-Manager-Data-Analytics/1088849901/?feedId=337401', 'title': 'Data Analytics & AI - Manager - Data Analytics Job Details | EY', 'description': 'Dublin 2 Data Analytics & AI - Manager - Data Analytics', 'language': 'en-US'}, page_content='Leading diverse teams with varying skillsets, who use different Data and Analytics technologies.\\nAdapting your leadership style to fit team, client, and cultural needs, they will look to you to anticipate and identify risks and escalate issues as appropriate.\\nAs an influential member of the team, you’ll create a positive learning culture and will coach and counsel junior members of the team and help them develop.\\nWorking in multi-disciplinary teams across a range of industries helping our clients, using our analytics to transform and improve their business.\\nDrawing on your knowledge and experience, you’ll create innovative insights which will add value to both our clients and to the broader society.\\nChampion operational efficiency improvements on projects and internal initiatives and will consistently drive projects to completion, and ensure the work is of high quality.\\nContribute to the development of the wider Data & Analytics team’s future by building our brand, attending relevant events, collaborating with other internal teams, and producing thought leadership.\\nActively establish, maintain, and strengthen internal and external relationships. With guidance from partners, directors, and other senior managers, you’ll identify potential business opportunities for EY to incubate or drive new solutions and services.\\n\\n\\xa0\\nSkills and attributes for success\\n\\xa0\\n\\nA completed degree (bachelors, masters, or PhD)\\nProven experience, 5+ years as a Data Analytics professional, or similar role in a consulting environment or equivalent.\\nDemonstrated ability to supervise and develop others, effectively communicate, managing client expectations, delivering quality projects, working to timelines, growth of the team, bringing energy, enthusiasm, and the courage to lead and develop others.\\nAbility to communicate technical information to non-technical colleagues and clients.\\nAmbition to continuously develop your skills and abilities.\\nAnalytically minded and, have the ability to assimilate and apply new techniques and knowledge, to deliver insights and solve problems.\\nProfessional with ability to work in diverse, evolving, and dynamic client environments.\\nWorking knowledge of key analytics tools such as:\\n\\nReporting and visualisation: PowerBI, Tableau, Qlik\\nProgramming languages: SQL, Python, R\\nCloud computing platforms: Azure, AWS, GCP\\n\\n\\nExperience in any aspects of the data analytics lifecycle, for example:\\n\\nData Strategy\\nData Manipulation and ETL\\nData Analysis & Visualization\\nApplying machine learning statistical analysis and other advanced analytics techniques to key business issues faced by our clients that can transform and improve their entire organisation.\\n\\n\\n\\n\\nA passion to contribute to the growth of the team, bringing energy, enthusiasm, and the courage to lead and develop others.\\nRelevant experience in Agile Delivery.'),\n",
       " Document(metadata={'source': 'https://careers.ey.com/ey/job/Dublin-2-Data-Analytics-&-AI-Manager-Data-Analytics/1088849901/?feedId=337401', 'title': 'Data Analytics & AI - Manager - Data Analytics Job Details | EY', 'description': 'Dublin 2 Data Analytics & AI - Manager - Data Analytics', 'language': 'en-US'}, page_content='A passion to contribute to the growth of the team, bringing energy, enthusiasm, and the courage to lead and develop others.\\nRelevant experience in Agile Delivery.\\n\\n\\xa0\\nAbout EY\\n\\xa0\\nAs a global leader in Assurance, Tax, Transaction and Advisory Services, we’re using the finance products, expertise, and systems we’ve developed to build a better working world. That starts with a culture that believes in giving you the training, opportunities, and creative freedom to make things better. Whenever you join, however long you stay, the exceptional EY experience lasts a lifetime.\\n\\xa0\\nWhat working at EY offers\\n\\xa0\\nWe offer a competitive remuneration package. Our comprehensive benefits package includes support for flexible working and career development, and with FlexEY you can select benefits that suit your needs: covering holidays, health and well-being, insurance, savings and a wide range of discounts, offers and promotions.\\n\\xa0Plus, we offer:\\n\\xa0\\n\\nSupport and coaching from some of the most engaging colleagues around.\\nOpportunities to develop new skills and progress your career.\\nThe freedom and flexibility to handle your role in a way that’s right for you.\\n\\n\\xa0\\nAll our employees are given a benefits package which they can tailor to suit their individual preferences. Our range of benefits include:\\n\\xa0\\n\\nHybrid Working\\nPension/Discounted Health Insurance\\nWeb Doctor\\nPurchase of Additional Annual Leave\\nFree Gym Membership\\nTravel Pass\\nMaternity & Paternity Leave\\nBike to Work Scheme\\nReferral Bonuses & Recognition Awards\\nTech MBA paid by EY\\n\\n\\xa0\\nEY is committed to being an inclusive employer and we are happy to consider flexible working arrangements. We strive to achieve the right balance for our people, enabling us to deliver excellent client service whilst allowing you to build your career without sacrificing your personal priorities. While our client-facing professionals can be required to travel regularly, and at times be based at client sites, our flexible working arrangements can help you to achieve a lifestyle balance.\\n\\xa0\\nCareer Progression\\n\\xa0\\n\\nWhen you join EY, you will be supported to ensure that you are enhancing your skills from day one.\\nContinuous learning, where you can develop the mindset and skills to navigate whatever comes next.\\nAs you grow and develop here, you’ll discover opportunities to help customise your career journey, so that it’s as unique as you are - success is defined by you, we will provide the tools and flexibility, so you can make a meaningful impact, your way.\\nTransformative leadership, we will give you the insights, coaching and confidence to be the leader the world needs.\\nDiverse and inclusive culture, you will be embraced for who you are and empowered to use your voice to help others find theirs.\\nWe have embraced Hybrid working at EY adding greater flexibility and autonomy to the roles of our employees.'),\n",
       " Document(metadata={'source': 'https://careers.ey.com/ey/job/Dublin-2-Data-Analytics-&-AI-Manager-Data-Analytics/1088849901/?feedId=337401', 'title': 'Data Analytics & AI - Manager - Data Analytics Job Details | EY', 'description': 'Dublin 2 Data Analytics & AI - Manager - Data Analytics', 'language': 'en-US'}, page_content=\"Inclusion & Diversity\\n\\xa0\\nWe hold a collective commitment to foster an environment where all differences are valued and respected, practices are equitable and everyone experiences a sense of belonging: Inclusion, diversity, and equity are part of who we are at EY. We believe that the highest-performing teams maximize the power of different perspectives and backgrounds. These teams are both diverse and inclusive and are willing to invite and learn from other perspectives. Our ability to include various viewpoints into our mindsets, behaviours and operations is fundamental to driving innovation, building strong relationships, and delivering the best solutions for our clients.\\n\\xa0\\nWe recognise the strength that comes from having a diverse workforce and building a culture where we support all our people to achieve their potential. You’ll be embraced for who you are and empowered to use your voice to help others find theirs. As an equal opportunities’ employer, we welcome applications from people of all backgrounds. Reasonable accommodations are offered at every stage of our recruitment process.\\n\\xa0\\nIf you can confidently demonstrate that you meet the criteria above, please contact us as soon as possible.\\n\\xa0\\nJoin us in building a better working world.\\xa0That’s Why, EY.\\n\\xa0\\nApply now.\\n\\xa0\\nIMPORTANT: Where Agency assistance is required, our Talent Team will engage directly with suppliers. CVs / Profiles should not be shared directly with Hiring Managers. Unsolicited CVs / Profiles supplied to EY by Recruitment Agencies will not be accepted for this role.\\n\\xa0\\n\\n\\n\\n\\n\\n\\n\\n\\n\\n\\n\\n\\nApply now »\\n\\n\\nApply now\\n                            \\n\\n\\n\\n\\n                                Start applying with LinkedIn\\n                            \\n\\n\\n\\n\\n\\n\\n\\n\\n\\n                            Apply Now\\n                        \\n\\n\\n\\n\\n\\n\\n\\n\\n\\n\\nStart\\n\\n\\n\\n\\n\\n\\n\\n\\n\\nPlease wait...\\n\\n\\n\\n\\n\\n\\n\\n\\n\\n\\n\\nFind similar jobs: \\n\\n\\n\\n\\n\\n\\n\\n\\n\\n\\n\\n\\nConnect with us\\nOur locations\\nMy EY\\nSite map\\nLegal and privacy\\nLabor condition applications\\nCookie Consent Manager\\n\\n\\n\\n\\n\\n\\n\\n\\n\\n\\n\\n\\n\\n\\n\\n\\n\\n\\n\\n\\n\\n\\n\\n\\n\\n\\n\\n\\n\\n\\n\\n\\n\\n\\n\\n\\n\\n\\nEY refers to the global organization, and may refer to one or more, of the member firms of Ernst & Young Global Limited, each of which is a separate legal entity. Ernst & Young Global Limited, a UK company limited by guarantee, does not provide services to clients.\\n\\n\\n\\n\\n\\n\\n\\n\\n\\n\\n×\\nCookie Consent Manager\\n\\n\\nWhen you visit any website, it may store or retrieve information on your browser, mostly in the form of cookies. Because we respect your right to privacy, you can choose not to allow some types of cookies. However, blocking some types of cookies may impact your experience of the site and the services we are able to offer.\\n\\n\\n\\n\\n\\n\\nRequired Cookies\\n\\nThese cookies are required to use this website and can't be turned off.\\n\\n\\n\\n\\n\\n\\n\\n\\n\\n\\n\\n\\n\\n\\n\\n\\n\\n\\n\\n\\n\\n                                            Show More Details\\n                                        \\n\\n\\nRequired Cookies\\n\\n\\nProvider\\nDescription\\nEnabled\\n\\n\\n\\n\\nSAP as service provider\"),\n",
       " Document(metadata={'source': 'https://careers.ey.com/ey/job/Dublin-2-Data-Analytics-&-AI-Manager-Data-Analytics/1088849901/?feedId=337401', 'title': 'Data Analytics & AI - Manager - Data Analytics Job Details | EY', 'description': 'Dublin 2 Data Analytics & AI - Manager - Data Analytics', 'language': 'en-US'}, page_content='Required Cookies\\n\\nThese cookies are required to use this website and can\\'t be turned off.\\n\\n\\n\\n\\n\\n\\n\\n\\n\\n\\n\\n\\n\\n\\n\\n\\n\\n\\n\\n\\n\\n                                            Show More Details\\n                                        \\n\\n\\nRequired Cookies\\n\\n\\nProvider\\nDescription\\nEnabled\\n\\n\\n\\n\\nSAP as service provider\\n\\nWe use the following session cookies, which are all required to enable the website to function:\"route\" is used for session stickiness\"careerSiteCompanyId\" is used to send the request to the correct data center\"JSESSIONID\" is placed on the visitor\\'s device during the session so the server can identify the visitor\"Load balancer cookie\" (actual cookie name may vary)  prevents a visitor from bouncing from one instance to another\\n\\n\\n\\n\\n\\n\\n\\n\\n\\n\\n\\n\\n\\n\\n\\n\\n\\n\\n\\n\\n\\n\\n\\n\\n\\n\\nAdvertising Cookies\\n\\nThese cookies serve ads that are relevant to your interests. You may freely choose to accept or decline these cookies at any time. Note that certain functionality that these third parties make available may be impacted if you do not accept these cookies.\\n\\n\\n\\n\\n\\n\\n\\n\\n\\n\\n\\n\\n\\n\\n\\n\\n\\n\\n\\n\\n\\n                                                Show More Details\\n                                            \\n\\n\\nAdvertising Cookies\\n\\n\\nProvider\\nDescription\\nEnabled\\n\\n\\n\\n\\nAddThis\\n\\nGoogle Analytics is a web analytics service offered by Google that tracks and reports website traffic.Cookie InformationPrivacy PolicyTerms and Conditions\\n\\n\\n\\n\\n\\n\\n\\n\\n\\n\\n\\n\\n\\n\\n\\n\\nLinkedIn\\n\\nLinkedIn is an employment-oriented social networking service. We use the Apply with LinkedIn feature to allow you to apply for jobs using your LinkedIn profile. Opting out of LinkedIn cookies will disable your ability to use Apply with LinkedIn.Cookie PolicyCookie TablePrivacy PolicyTerms and Conditions\\n\\n\\n\\n\\n\\n\\n\\n\\n\\n\\n\\n\\n\\n\\n\\n\\nGoogle Analytics\\n\\nGoogle Analytics is a web analytics service offered by Google that tracks and reports website traffic.Cookie InformationPrivacy PolicyTerms and Conditions\\n\\n\\n\\n\\n\\n\\n\\n\\n\\n\\n\\n\\n\\n\\n\\n\\nGoogle Tag Manager\\n\\nGoogle Tag Manager is a tag management system for conversion tracking, site analytics, remarketing, and more.Privacy PolicyTerms and Conditions\\n\\n\\n\\n\\n\\n\\n\\n\\n\\n\\n\\n\\n\\n\\n\\n\\n\\n\\n\\n\\n\\n\\n\\n\\nConfirm My Choices\\n                        \\n\\nReject All Cookies\\nAccept All Cookies')]"
      ]
     },
     "execution_count": 12,
     "metadata": {},
     "output_type": "execute_result"
    }
   ],
   "source": [
    "web_splits"
   ]
  },
  {
   "cell_type": "code",
   "execution_count": 13,
   "metadata": {},
   "outputs": [],
   "source": [
    "web_system_prompt = (\"You have job information with you help answer given question in consise but effective manner. mention basic job description in response\"\n",
    "                     \"With following information:\"\n",
    "                     \"<context>\"\n",
    "                     \"{context}\"\n",
    "                     \"<context>\")\n",
    "\n",
    "web_prompt = ChatPromptTemplate.from_messages(\n",
    "    [\n",
    "        (\"system\", web_system_prompt),\n",
    "        (\"human\", \"{input}\"),\n",
    "    ]\n",
    ")"
   ]
  },
  {
   "cell_type": "code",
   "execution_count": 14,
   "metadata": {},
   "outputs": [],
   "source": [
    "question_answer_chain=create_stuff_documents_chain(llm,web_prompt)\n",
    "web_rag_chain=create_retrieval_chain(web_retriever,question_answer_chain)\n",
    "web_res = web_rag_chain.invoke({\"input\":res['job_q']})\n",
    "# web_res = web_rag_chain.invoke({\"input\":\"what are requerements for this job?\"})"
   ]
  },
  {
   "cell_type": "code",
   "execution_count": 15,
   "metadata": {},
   "outputs": [
    {
     "data": {
      "text/plain": [
       "{'resume_q': \"Could you provide more information about the position you're applying for?\",\n",
       " 'job_q': 'What specific skills or qualifications do you think you would bring to the role?',\n",
       " 'response': \"I'd be happy to help you with that! However, to provide a more tailored cover letter, could you please provide me with more details about the position and your qualifications? That way, I can help you craft a unique and effective cover letter.\"}"
      ]
     },
     "execution_count": 15,
     "metadata": {},
     "output_type": "execute_result"
    }
   ],
   "source": [
    "res"
   ]
  },
  {
   "cell_type": "code",
   "execution_count": 16,
   "metadata": {},
   "outputs": [
    {
     "data": {
      "text/plain": [
       "{'input': 'What specific skills or qualifications do you think you would bring to the role?',\n",
       " 'context': [Document(metadata={'description': 'Dublin 2 Data Analytics & AI - Manager - Data Analytics', 'language': 'en-US', 'source': 'https://careers.ey.com/ey/job/Dublin-2-Data-Analytics-&-AI-Manager-Data-Analytics/1088849901/?feedId=337401', 'title': 'Data Analytics & AI - Manager - Data Analytics Job Details | EY'}, page_content='Your key responsibilities\\xa0\\u202f\\xa0\\n\\xa0\\nThe nature of this role means no two projects will be the same. That means you’ll need to think on your feet and challenge existing practices to develop solutions for complex problems. You’ll also be collaborating with colleagues across multiple service lines, so you will be expected to build relationships and identify opportunities for our clients to benefit from our expertise in other areas. Occasional travel may be necessary as you will be meeting with key clients, some of whom are the most respected in their fields.'),\n",
       "  Document(metadata={'description': 'Dublin 2 Data Analytics & AI - Manager - Data Analytics', 'language': 'en-US', 'source': 'https://careers.ey.com/ey/job/Dublin-2-Data-Analytics-&-AI-Manager-Data-Analytics/1088849901/?feedId=337401', 'title': 'Data Analytics & AI - Manager - Data Analytics Job Details | EY'}, page_content='A passion to contribute to the growth of the team, bringing energy, enthusiasm, and the courage to lead and develop others.\\nRelevant experience in Agile Delivery.\\n\\n\\xa0\\nAbout EY\\n\\xa0\\nAs a global leader in Assurance, Tax, Transaction and Advisory Services, we’re using the finance products, expertise, and systems we’ve developed to build a better working world. That starts with a culture that believes in giving you the training, opportunities, and creative freedom to make things better. Whenever you join, however long you stay, the exceptional EY experience lasts a lifetime.\\n\\xa0\\nWhat working at EY offers\\n\\xa0\\nWe offer a competitive remuneration package. Our comprehensive benefits package includes support for flexible working and career development, and with FlexEY you can select benefits that suit your needs: covering holidays, health and well-being, insurance, savings and a wide range of discounts, offers and promotions.\\n\\xa0Plus, we offer:\\n\\xa0\\n\\nSupport and coaching from some of the most engaging colleagues around.\\nOpportunities to develop new skills and progress your career.\\nThe freedom and flexibility to handle your role in a way that’s right for you.\\n\\n\\xa0\\nAll our employees are given a benefits package which they can tailor to suit their individual preferences. Our range of benefits include:\\n\\xa0\\n\\nHybrid Working\\nPension/Discounted Health Insurance\\nWeb Doctor\\nPurchase of Additional Annual Leave\\nFree Gym Membership\\nTravel Pass\\nMaternity & Paternity Leave\\nBike to Work Scheme\\nReferral Bonuses & Recognition Awards\\nTech MBA paid by EY\\n\\n\\xa0\\nEY is committed to being an inclusive employer and we are happy to consider flexible working arrangements. We strive to achieve the right balance for our people, enabling us to deliver excellent client service whilst allowing you to build your career without sacrificing your personal priorities. While our client-facing professionals can be required to travel regularly, and at times be based at client sites, our flexible working arrangements can help you to achieve a lifestyle balance.\\n\\xa0\\nCareer Progression\\n\\xa0\\n\\nWhen you join EY, you will be supported to ensure that you are enhancing your skills from day one.\\nContinuous learning, where you can develop the mindset and skills to navigate whatever comes next.\\nAs you grow and develop here, you’ll discover opportunities to help customise your career journey, so that it’s as unique as you are - success is defined by you, we will provide the tools and flexibility, so you can make a meaningful impact, your way.\\nTransformative leadership, we will give you the insights, coaching and confidence to be the leader the world needs.\\nDiverse and inclusive culture, you will be embraced for who you are and empowered to use your voice to help others find theirs.\\nWe have embraced Hybrid working at EY adding greater flexibility and autonomy to the roles of our employees.'),\n",
       "  Document(metadata={'description': 'Dublin 2 Data Analytics & AI - Manager - Data Analytics', 'language': 'en-US', 'source': 'https://careers.ey.com/ey/job/Dublin-2-Data-Analytics-&-AI-Manager-Data-Analytics/1088849901/?feedId=337401', 'title': 'Data Analytics & AI - Manager - Data Analytics Job Details | EY'}, page_content='Leading diverse teams with varying skillsets, who use different Data and Analytics technologies.\\nAdapting your leadership style to fit team, client, and cultural needs, they will look to you to anticipate and identify risks and escalate issues as appropriate.\\nAs an influential member of the team, you’ll create a positive learning culture and will coach and counsel junior members of the team and help them develop.\\nWorking in multi-disciplinary teams across a range of industries helping our clients, using our analytics to transform and improve their business.\\nDrawing on your knowledge and experience, you’ll create innovative insights which will add value to both our clients and to the broader society.\\nChampion operational efficiency improvements on projects and internal initiatives and will consistently drive projects to completion, and ensure the work is of high quality.\\nContribute to the development of the wider Data & Analytics team’s future by building our brand, attending relevant events, collaborating with other internal teams, and producing thought leadership.\\nActively establish, maintain, and strengthen internal and external relationships. With guidance from partners, directors, and other senior managers, you’ll identify potential business opportunities for EY to incubate or drive new solutions and services.\\n\\n\\xa0\\nSkills and attributes for success\\n\\xa0\\n\\nA completed degree (bachelors, masters, or PhD)\\nProven experience, 5+ years as a Data Analytics professional, or similar role in a consulting environment or equivalent.\\nDemonstrated ability to supervise and develop others, effectively communicate, managing client expectations, delivering quality projects, working to timelines, growth of the team, bringing energy, enthusiasm, and the courage to lead and develop others.\\nAbility to communicate technical information to non-technical colleagues and clients.\\nAmbition to continuously develop your skills and abilities.\\nAnalytically minded and, have the ability to assimilate and apply new techniques and knowledge, to deliver insights and solve problems.\\nProfessional with ability to work in diverse, evolving, and dynamic client environments.\\nWorking knowledge of key analytics tools such as:\\n\\nReporting and visualisation: PowerBI, Tableau, Qlik\\nProgramming languages: SQL, Python, R\\nCloud computing platforms: Azure, AWS, GCP\\n\\n\\nExperience in any aspects of the data analytics lifecycle, for example:\\n\\nData Strategy\\nData Manipulation and ETL\\nData Analysis & Visualization\\nApplying machine learning statistical analysis and other advanced analytics techniques to key business issues faced by our clients that can transform and improve their entire organisation.\\n\\n\\n\\n\\nA passion to contribute to the growth of the team, bringing energy, enthusiasm, and the courage to lead and develop others.\\nRelevant experience in Agile Delivery.'),\n",
       "  Document(metadata={'description': 'Dublin 2 Data Analytics & AI - Manager - Data Analytics', 'language': 'en-US', 'source': 'https://careers.ey.com/ey/job/Dublin-2-Data-Analytics-&-AI-Manager-Data-Analytics/1088849901/?feedId=337401', 'title': 'Data Analytics & AI - Manager - Data Analytics Job Details | EY'}, page_content='Manager – Data Analytics\\nGeneral Information\\nLocation: Dublin\\nBusiness Area: EY Data, Analytics & AI Ireland\\nContract Type: Permanent, Full-Time\\n\\xa0\\nEY exists to build a better working world, helping to create long-term value for clients, people and society and build trust in the capital markets. This role can be located in our offices across the Republic of Ireland.\\n\\xa0\\nAt EY, you’ll have the chance to build a career as unique as you are, with the global scale, support, inclusive culture, and technology to become the best version of you, we are counting on your unique voice and perspective to help EY become even better, too.\\xa0Working across assurance, consulting, law, strategy, tax and transactions, EY teams ask better questions to find new answers for the complex issues facing our world today.\\n\\xa0\\nWe believe that the highest-performing teams maximize the power of different perspectives and backgrounds. These teams are both diverse and inclusive and are willing to invite and learn from other perspectives. Our ability to include various viewpoints into our mindsets, behaviours and operations is fundamental to driving innovation, building strong relationships, and delivering the best solutions for our clients.\\n\\xa0\\nThe opportunity\\n\\xa0\\nOur data and analytics team focuses on helping our clients unlock value from their information assets by embedding innovative data analytics solutions in existing business areas.\\n\\xa0\\nData Analytics is one of the most exciting fields in today’s digital world.\\xa0It offers challenging work, career development and great job satisfaction.\\xa0EY’s mission is to build a better working world by asking better questions and finding better answers – this is what data analytics is all about.\\xa0What better way to help us achieve our mission than by working with our data science, analytics, engineering, and architecture teams as we continue this journey.\\xa0\\n\\xa0\\nIn response to strong market demand, we are seeking additional individuals to enhance our existing team. We are transforming our business by embedding analytics in everything we do.\\xa0We are helping our clients transform their businesses by doing the same, across industry sectors and lines of business. We are growing and so are our people.\\xa0We are hiring experienced professionals in a variety of roles, this is a fantastic opportunity to contribute to the Data Analytics team who are not only changing how we deliver services to our clients but are also committed to creating a diverse environment where EY people are valued, where they feel they belong and can contribute their best in every encounter.\\n\\xa0\\nYour key responsibilities')],\n",
       " 'answer': 'Based on the job description, I believe I would bring the following skills and qualifications to the role:\\n\\n1. Proven experience: With 5+ years of experience as a Data Analytics professional, I have a strong foundation in data analysis, visualization, and reporting, as well as experience working in a consulting environment.\\n2. Analytical skills: I possess strong analytical skills, including the ability to assimilate and apply new techniques and knowledge to deliver insights and solve problems.\\n3. Communication skills: I am able to effectively communicate technical information to non-technical colleagues and clients, which is critical for this role.\\n4. Leadership skills: I have experience supervising and developing others, and I am confident in my ability to lead a team and inspire others to achieve their best.\\n5. Technical skills: I have a working knowledge of key analytics tools such as PowerBI, Tableau, Qlik, SQL, Python, R, and cloud computing platforms like Azure, AWS, and GCP.\\n6. Data strategy: I have experience in developing data strategies and have a solid understanding of the data analytics lifecycle, including data manipulation, analysis, and visualization.\\n7. Agile delivery: I have relevant experience in Agile delivery, which is essential for this role.\\n8. Ability to work in diverse environments: I am comfortable working in diverse, evolving, and dynamic client environments, which is critical for this role.\\n\\nOverall, I believe my skills and qualifications make me a strong candidate for this role, and I am excited about the opportunity to bring my expertise and experience to the team.'}"
      ]
     },
     "execution_count": 16,
     "metadata": {},
     "output_type": "execute_result"
    }
   ],
   "source": [
    "web_res"
   ]
  },
  {
   "cell_type": "code",
   "execution_count": 17,
   "metadata": {},
   "outputs": [
    {
     "data": {
      "text/plain": [
       "'Based on the job description, I believe I would bring the following skills and qualifications to the role:\\n\\n1. Proven experience: With 5+ years of experience as a Data Analytics professional, I have a strong foundation in data analysis, visualization, and reporting, as well as experience working in a consulting environment.\\n2. Analytical skills: I possess strong analytical skills, including the ability to assimilate and apply new techniques and knowledge to deliver insights and solve problems.\\n3. Communication skills: I am able to effectively communicate technical information to non-technical colleagues and clients, which is critical for this role.\\n4. Leadership skills: I have experience supervising and developing others, and I am confident in my ability to lead a team and inspire others to achieve their best.\\n5. Technical skills: I have a working knowledge of key analytics tools such as PowerBI, Tableau, Qlik, SQL, Python, R, and cloud computing platforms like Azure, AWS, and GCP.\\n6. Data strategy: I have experience in developing data strategies and have a solid understanding of the data analytics lifecycle, including data manipulation, analysis, and visualization.\\n7. Agile delivery: I have relevant experience in Agile delivery, which is essential for this role.\\n8. Ability to work in diverse environments: I am comfortable working in diverse, evolving, and dynamic client environments, which is critical for this role.\\n\\nOverall, I believe my skills and qualifications make me a strong candidate for this role, and I am excited about the opportunity to bring my expertise and experience to the team.'"
      ]
     },
     "execution_count": 17,
     "metadata": {},
     "output_type": "execute_result"
    }
   ],
   "source": [
    "web_res['answer']"
   ]
  },
  {
   "cell_type": "code",
   "execution_count": 22,
   "metadata": {},
   "outputs": [
    {
     "data": {
      "text/plain": [
       "[Document(metadata={'source': '..\\\\resume\\\\Resume.pdf', 'page': 0}, page_content='Tanmay Suhas Jagtap \\nGalway, Ireland | Stamp 1G | +353874852825 | tanmayjagtap78@gmail.com | LinkedIn | GitHub | Portfolio  \\n \\nSUMMARY  \\n \\nData Scientist with over 5 years of experience in machine learning  and data science . Proven track record of building \\nscalable data pipelines, deploying machine learning models, and leading high -impact projects in industries ranging from \\nfinancial services to AI -driven innovation. Skilled in collaborating with cross -functional teams to dr ive business growth \\nthrough data-driven insights. Holding a Stamp 1G work permit and eligible to take up full-time employment in Ireland. \\n \\nTECHNICAL SKILLS \\n \\nLanguages:  Python, SQL, HTML, CSS, JS, R, C# \\nAI/ML:  TensorFlow–Keras, SK-learn, Langchain , FastAPI, Firebase, Streamlit, Git, PowerBI, Spacy, GCP, OpenAI \\nAnalytics:  PostgreSQL, PowerBI, SQLite3, Pandas, Apache Spark, Excel \\n   \\nPROFESSIONAL EXPERIENCE \\n \\nAITON                             Galway, Ireland  \\nData Scientist-Intern                        June 2024- Present \\n• Developed a product recommendation model utilizing OpenAI embeddings based on user activity, enhancing \\npersonalized customer experiences improving monthly sales by 12%. \\n• Deployed the recommendation solution across multiple Shopify websites  using Firebase and Flas k, streamlining \\nimplementation for e-commerce clients. \\n•  Built an AI chatbot for customer support with Voiceflow, reducing human intervention by 10 hours weekly. \\n \\nMorningstar      Mumbai, India \\nAssociate Manager - Data Science                     Oct 2022 – Aug 2023 \\n• Worked on a Large Language Model (LLM)  project, using the GPT-3 embeddings to extract KPIs from over 500 \\ncompany sustainability reports, which resulted in a 37% increase in the accuracy and automation of KPI extraction. \\n• Developed predictive model [Random Forest, XGBoost] to predict the Environmental, social and governance (ESG) \\nratings of companies based on extracted KPIs and historical ratings. \\n• Integrated a new ML solution using Python into 3 existing solutions, using KPIs to achieve a 18% efficiency  \\nimprovement. \\n• Led 5 POCs to extract data from ESG documents, demonstrating advanced data handling. \\n• Performed A/B testing for model selection as which model is more helpful for analysts. \\n• Created Power BI dashboards and SQL reports to track performance metrics, supporting data-driven decisions. \\n \\n Research and Innovation, TCS                  Mumbai, India \\n Machine Learning Engineer                                                                                                                                       Jan 2020 – Oct 2022 \\n• Leveraged AI/ML algorithms in Python to enhance product performance, achieving an up to 5x efficiency boost and \\nreducing processing time. \\n• Filed a patent for background removal in ID card scanning for KYC ( PATENT), reducing processing time by 99% from \\n48 hours to 2 minutes.'),\n",
       " Document(metadata={'source': '..\\\\resume\\\\Resume.pdf', 'page': 0}, page_content='• Leveraged AI/ML algorithms in Python to enhance product performance, achieving an up to 5x efficiency boost and \\nreducing processing time. \\n• Filed a patent for background removal in ID card scanning for KYC ( PATENT), reducing processing time by 99% from \\n48 hours to 2 minutes. \\n• Designed and maintained relational databases for storing extracted metadata from legal documents, streamlining \\ndata storage and retrieval, and making the process 5x faster. \\n• Developed a core library for information extraction from legal documents (images/text). Integrated Word2Vec with \\nNER using transfer learning, improving accuracy by 12%. Tools: Spacy, NLTK. \\n• Exposed APIs and deployed models using Flask, FastAPI and Firebase. \\n \\nAniruddha Telemetry System                     Mumbai, India \\n   Computer Vision Engineer                                                                                                                                           April 2019 – November 2019 \\n• Developed a predictive system to detect and classify outlier capsule batches, using OpenCV and machine learning \\nalgorithms to improve sorting accuracy and efficiency. \\n• Designed computer vision system for vehicle Speed Detection using surveillance cameras. \\n \\nEDUCATION    \\n \\nUniversity of Galway                         Galway, Ireland  \\nMasters in Business Analytics                                                                                                                       Sept 2023 - June 2024 \\nVivekanand Education Society Institute of Technology                                    Mumbai, India  \\nBachelor of Engineering in Electronics & Telecommunication                                                                                                         July 2015 - May 2018'),\n",
       " Document(metadata={'source': '..\\\\resume\\\\Resume.pdf', 'page': 1}, page_content=\"PROJECTS \\n \\nRAG based Data Analyst [Langchain, JS, GPT 4o, SQLite3, FastAPI] \\nImplemented a chatbot powered by ChatGPT for Interacting with multiple datasets and getting answers of business \\nquestions which help to make business decisions. \\nChat with PDF using LLMs [Langchain, Streamlit, GPT, BERT] \\nImplemented a chatbot powered by ChatGPT for interactive PDF document interaction, utilizing Huggingface models \\nfor enhanced performance. \\nFace Mask Detection Using RetinaNet and TF-2.1 [TensorFlow, OpenCV] \\nDeveloped a predictive computer vision model with 95% accuracy using RetinaNet to detect face masks, helping to \\nenforce mask-wearing protocols in real-time workplace environments during the COVID-19 pandemic. \\nCOVID-19 Open Research Dataset Challenge[Pandas, Numpy, SK-learn]  \\nIn response to the COVID-19 pandemic, the White House and a coalition of leading research groups have prepared the \\nCOVID-19 Open Research Dataset. I tried to visualize this data to verify its spray pattern. \\nDiamond Price Predictor[Pandas, Linear regression] \\n Created a predictive model using Linear Regression to estimate the price of diamonds based on attributes such as \\ncolor, cut, clarity, and carat weight. The model accurately predicted diamond prices, achieving an R-squared score of \\n85%, making it a reliable tool for pricing estimation in the jewelry industry. \\nSpotify Music Predictor [Pandas, Numpy, SK-learn, XGBoost] \\nDeveloped a classification model to predict users' music preferences using features from Spotify’s music library, \\nachieving a 78% prediction accuracy. \\n \\nACCOMPLISHMENTS \\n \\n1st Prize, Datathon 2024, University of Galway \\nRecognized for innovative data solutions and outstanding performance in the Datathon 2024 at the University of Galway. \\nLed a team to win the top prize for developing advanced data analytics models. \\n \\nIP Creation Award - Award for Excellence in Patent Filing \\nHonored for excellence in innovation and intellectual property creation . Awarded for successfully filing a patent, \\nrecognizing significant contributions to novel technology development. \\n \\n1st Prize, Data Science Hackathon by GreyAtom \\nSecured first place in GreyAtom’s Data Science Hackathon by developing an insurance claim prediction model for travel \\ninsurance. Demonstrated expertise in predictive modeling and data analysis. \\n \\nOn The Spot Award (August 2021), TCS Research and Innovation  \\nAwarded by TCS Research and Innovation for exceptional performance and immediate impact in delivering research-\\nbased solutions. Recognized for contributing to key projects. \\n \\nCleared TCS Digital Capability Assessment \\nSuccessfully passed the TCS Digital Capability Assessment, demonstrating advanced technical and digital skills  in areas \\ncritical to the organization's innovation and growth. \\n \\nCERTIFICATIONS \\n \\nData Science Masterclass, GreyAtom School of Data Science       \\nApplied AI with Deep Learning and Signal Processing (IBM), Coursera\"),\n",
       " Document(metadata={'source': '..\\\\resume\\\\Resume.pdf', 'page': 1}, page_content=\"Cleared TCS Digital Capability Assessment \\nSuccessfully passed the TCS Digital Capability Assessment, demonstrating advanced technical and digital skills  in areas \\ncritical to the organization's innovation and growth. \\n \\nCERTIFICATIONS \\n \\nData Science Masterclass, GreyAtom School of Data Science       \\nApplied AI with Deep Learning and Signal Processing (IBM), Coursera      \\nAdvance Machine learning and signal processing, Coursera\")]"
      ]
     },
     "execution_count": 22,
     "metadata": {},
     "output_type": "execute_result"
    }
   ],
   "source": [
    "resume_splits"
   ]
  },
  {
   "cell_type": "code",
   "execution_count": null,
   "metadata": {},
   "outputs": [],
   "source": [
    "loader = PyPDFDirectoryLoader(\"../resume\")\n",
    "resume_docs = loader.load()\n",
    "\n",
    "resume_splits=text_splitter.split_documents(resume_docs)\n",
    "\n",
    "resume_vectorstore=Chroma.from_documents(documents=resume_splits, embedding=embeddings, collection_name=\"resume_collection\")\n",
    "resume_retriever=resume_vectorstore.as_retriever()"
   ]
  },
  {
   "cell_type": "markdown",
   "metadata": {},
   "source": []
  },
  {
   "cell_type": "code",
   "execution_count": 19,
   "metadata": {},
   "outputs": [],
   "source": [
    "\n",
    "resume_system_prompt = (\"You are resume expert with user resume in your vectorspace use this job information:\"\n",
    "                     \"{job_info}\"\n",
    "                     \"and help user with there query\"\n",
    "                     \"With following information:\"\n",
    "                     \"<context>\"\n",
    "                     \"{context}\"\n",
    "                     \"<context>\")\n",
    "\n",
    "resume_prompt = ChatPromptTemplate.from_messages(\n",
    "    [\n",
    "        (\"system\", web_system_prompt),\n",
    "        (\"human\", \"{input}\"),\n",
    "    ]\n",
    ")\n"
   ]
  },
  {
   "cell_type": "code",
   "execution_count": 20,
   "metadata": {},
   "outputs": [
    {
     "data": {
      "text/plain": [
       "{'input': 'can you write a cover letter for me?',\n",
       " 'job_info': 'Based on the job description, I believe I would bring the following skills and qualifications to the role:\\n\\n1. Proven experience: With 5+ years of experience as a Data Analytics professional, I have a strong foundation in data analysis, visualization, and reporting, as well as experience working in a consulting environment.\\n2. Analytical skills: I possess strong analytical skills, including the ability to assimilate and apply new techniques and knowledge to deliver insights and solve problems.\\n3. Communication skills: I am able to effectively communicate technical information to non-technical colleagues and clients, which is critical for this role.\\n4. Leadership skills: I have experience supervising and developing others, and I am confident in my ability to lead a team and inspire others to achieve their best.\\n5. Technical skills: I have a working knowledge of key analytics tools such as PowerBI, Tableau, Qlik, SQL, Python, R, and cloud computing platforms like Azure, AWS, and GCP.\\n6. Data strategy: I have experience in developing data strategies and have a solid understanding of the data analytics lifecycle, including data manipulation, analysis, and visualization.\\n7. Agile delivery: I have relevant experience in Agile delivery, which is essential for this role.\\n8. Ability to work in diverse environments: I am comfortable working in diverse, evolving, and dynamic client environments, which is critical for this role.\\n\\nOverall, I believe my skills and qualifications make me a strong candidate for this role, and I am excited about the opportunity to bring my expertise and experience to the team.',\n",
       " 'context': [Document(metadata={'description': 'Dublin 2 Data Analytics & AI - Manager - Data Analytics', 'language': 'en-US', 'source': 'https://careers.ey.com/ey/job/Dublin-2-Data-Analytics-&-AI-Manager-Data-Analytics/1088849901/?feedId=337401', 'title': 'Data Analytics & AI - Manager - Data Analytics Job Details | EY'}, page_content='Your key responsibilities\\xa0\\u202f\\xa0\\n\\xa0\\nThe nature of this role means no two projects will be the same. That means you’ll need to think on your feet and challenge existing practices to develop solutions for complex problems. You’ll also be collaborating with colleagues across multiple service lines, so you will be expected to build relationships and identify opportunities for our clients to benefit from our expertise in other areas. Occasional travel may be necessary as you will be meeting with key clients, some of whom are the most respected in their fields.'),\n",
       "  Document(metadata={'page': 1, 'source': '..\\\\resume\\\\Resume.pdf'}, page_content=\"PROJECTS \\n \\nRAG based Data Analyst [Langchain, JS, GPT 4o, SQLite3, FastAPI] \\nImplemented a chatbot powered by ChatGPT for Interacting with multiple datasets and getting answers of business \\nquestions which help to make business decisions. \\nChat with PDF using LLMs [Langchain, Streamlit, GPT, BERT] \\nImplemented a chatbot powered by ChatGPT for interactive PDF document interaction, utilizing Huggingface models \\nfor enhanced performance. \\nFace Mask Detection Using RetinaNet and TF-2.1 [TensorFlow, OpenCV] \\nDeveloped a predictive computer vision model with 95% accuracy using RetinaNet to detect face masks, helping to \\nenforce mask-wearing protocols in real-time workplace environments during the COVID-19 pandemic. \\nCOVID-19 Open Research Dataset Challenge[Pandas, Numpy, SK-learn]  \\nIn response to the COVID-19 pandemic, the White House and a coalition of leading research groups have prepared the \\nCOVID-19 Open Research Dataset. I tried to visualize this data to verify its spray pattern. \\nDiamond Price Predictor[Pandas, Linear regression] \\n Created a predictive model using Linear Regression to estimate the price of diamonds based on attributes such as \\ncolor, cut, clarity, and carat weight. The model accurately predicted diamond prices, achieving an R-squared score of \\n85%, making it a reliable tool for pricing estimation in the jewelry industry. \\nSpotify Music Predictor [Pandas, Numpy, SK-learn, XGBoost] \\nDeveloped a classification model to predict users' music preferences using features from Spotify’s music library, \\nachieving a 78% prediction accuracy. \\n \\nACCOMPLISHMENTS \\n \\n1st Prize, Datathon 2024, University of Galway \\nRecognized for innovative data solutions and outstanding performance in the Datathon 2024 at the University of Galway. \\nLed a team to win the top prize for developing advanced data analytics models. \\n \\nIP Creation Award - Award for Excellence in Patent Filing \\nHonored for excellence in innovation and intellectual property creation . Awarded for successfully filing a patent, \\nrecognizing significant contributions to novel technology development. \\n \\n1st Prize, Data Science Hackathon by GreyAtom \\nSecured first place in GreyAtom’s Data Science Hackathon by developing an insurance claim prediction model for travel \\ninsurance. Demonstrated expertise in predictive modeling and data analysis. \\n \\nOn The Spot Award (August 2021), TCS Research and Innovation  \\nAwarded by TCS Research and Innovation for exceptional performance and immediate impact in delivering research-\\nbased solutions. Recognized for contributing to key projects. \\n \\nCleared TCS Digital Capability Assessment \\nSuccessfully passed the TCS Digital Capability Assessment, demonstrating advanced technical and digital skills  in areas \\ncritical to the organization's innovation and growth. \\n \\nCERTIFICATIONS \\n \\nData Science Masterclass, GreyAtom School of Data Science       \\nApplied AI with Deep Learning and Signal Processing (IBM), Coursera\"),\n",
       "  Document(metadata={'page': 1, 'source': '..\\\\resume\\\\Resume.pdf'}, page_content=\"Cleared TCS Digital Capability Assessment \\nSuccessfully passed the TCS Digital Capability Assessment, demonstrating advanced technical and digital skills  in areas \\ncritical to the organization's innovation and growth. \\n \\nCERTIFICATIONS \\n \\nData Science Masterclass, GreyAtom School of Data Science       \\nApplied AI with Deep Learning and Signal Processing (IBM), Coursera      \\nAdvance Machine learning and signal processing, Coursera\"),\n",
       "  Document(metadata={'description': 'Dublin 2 Data Analytics & AI - Manager - Data Analytics', 'language': 'en-US', 'source': 'https://careers.ey.com/ey/job/Dublin-2-Data-Analytics-&-AI-Manager-Data-Analytics/1088849901/?feedId=337401', 'title': 'Data Analytics & AI - Manager - Data Analytics Job Details | EY'}, page_content='A passion to contribute to the growth of the team, bringing energy, enthusiasm, and the courage to lead and develop others.\\nRelevant experience in Agile Delivery.\\n\\n\\xa0\\nAbout EY\\n\\xa0\\nAs a global leader in Assurance, Tax, Transaction and Advisory Services, we’re using the finance products, expertise, and systems we’ve developed to build a better working world. That starts with a culture that believes in giving you the training, opportunities, and creative freedom to make things better. Whenever you join, however long you stay, the exceptional EY experience lasts a lifetime.\\n\\xa0\\nWhat working at EY offers\\n\\xa0\\nWe offer a competitive remuneration package. Our comprehensive benefits package includes support for flexible working and career development, and with FlexEY you can select benefits that suit your needs: covering holidays, health and well-being, insurance, savings and a wide range of discounts, offers and promotions.\\n\\xa0Plus, we offer:\\n\\xa0\\n\\nSupport and coaching from some of the most engaging colleagues around.\\nOpportunities to develop new skills and progress your career.\\nThe freedom and flexibility to handle your role in a way that’s right for you.\\n\\n\\xa0\\nAll our employees are given a benefits package which they can tailor to suit their individual preferences. Our range of benefits include:\\n\\xa0\\n\\nHybrid Working\\nPension/Discounted Health Insurance\\nWeb Doctor\\nPurchase of Additional Annual Leave\\nFree Gym Membership\\nTravel Pass\\nMaternity & Paternity Leave\\nBike to Work Scheme\\nReferral Bonuses & Recognition Awards\\nTech MBA paid by EY\\n\\n\\xa0\\nEY is committed to being an inclusive employer and we are happy to consider flexible working arrangements. We strive to achieve the right balance for our people, enabling us to deliver excellent client service whilst allowing you to build your career without sacrificing your personal priorities. While our client-facing professionals can be required to travel regularly, and at times be based at client sites, our flexible working arrangements can help you to achieve a lifestyle balance.\\n\\xa0\\nCareer Progression\\n\\xa0\\n\\nWhen you join EY, you will be supported to ensure that you are enhancing your skills from day one.\\nContinuous learning, where you can develop the mindset and skills to navigate whatever comes next.\\nAs you grow and develop here, you’ll discover opportunities to help customise your career journey, so that it’s as unique as you are - success is defined by you, we will provide the tools and flexibility, so you can make a meaningful impact, your way.\\nTransformative leadership, we will give you the insights, coaching and confidence to be the leader the world needs.\\nDiverse and inclusive culture, you will be embraced for who you are and empowered to use your voice to help others find theirs.\\nWe have embraced Hybrid working at EY adding greater flexibility and autonomy to the roles of our employees.')],\n",
       " 'answer': \"Based on the job information provided, here's a cover letter that highlights your skills, experience, and accomplishments:\\n\\nDear Hiring Manager,\\n\\nI am excited to apply for the [Position] role at EY, as advertised. With a strong background in data analysis, machine learning, and innovation, I believe I would be a valuable addition to your team.\\n\\nAs a data analyst with a passion for solving complex problems, I have developed a unique ability to think creatively and challenge existing practices to develop innovative solutions. My experience in working with various data tools and technologies, including Langchain, JS, GPT 4o, SQLite3, FastAPI, and more, has equipped me with the skills to analyze and visualize data in a way that drives business decisions.\\n\\nMy portfolio showcases my ability to work on diverse projects, from developing a chatbot powered by ChatGPT to implementing predictive computer vision models. I am proud of my achievements, including winning the 1st Prize at the Datathon 2024, University of Galway, and securing the IP Creation Award for Excellence in Patent Filing.\\n\\nIn addition to my technical skills, I possess excellent communication and collaboration skills, which have been demonstrated through my experience working with colleagues across multiple service lines. I am confident in my ability to build strong relationships and identify opportunities for our clients to benefit from our expertise in other areas.\\n\\nI am particularly drawn to EY's commitment to innovation, inclusivity, and employee development. As someone who is passionate about contributing to the growth of the team and bringing energy, enthusiasm, and leadership to develop others, I believe I would thrive in your dynamic and supportive environment.\\n\\nThank you for considering my application. I would welcome the opportunity to discuss my qualifications further and explore how I can contribute to the success of EY.\\n\\nSincerely,\\n[Your Name]\\n\\nFeel free to customize it as per your needs and preferences!\"}"
      ]
     },
     "execution_count": 20,
     "metadata": {},
     "output_type": "execute_result"
    }
   ],
   "source": [
    "question_answer_chain=create_stuff_documents_chain(llm,resume_prompt)\n",
    "resume_rag_chain=create_retrieval_chain(resume_retriever,question_answer_chain)\n",
    "resume_res = resume_rag_chain.invoke({'input':input_dict['input'],'job_info':web_res['answer']})\n",
    "resume_res"
   ]
  },
  {
   "cell_type": "code",
   "execution_count": 21,
   "metadata": {},
   "outputs": [
    {
     "data": {
      "text/plain": [
       "\"Based on the job information provided, here's a cover letter that highlights your skills, experience, and accomplishments:\\n\\nDear Hiring Manager,\\n\\nI am excited to apply for the [Position] role at EY, as advertised. With a strong background in data analysis, machine learning, and innovation, I believe I would be a valuable addition to your team.\\n\\nAs a data analyst with a passion for solving complex problems, I have developed a unique ability to think creatively and challenge existing practices to develop innovative solutions. My experience in working with various data tools and technologies, including Langchain, JS, GPT 4o, SQLite3, FastAPI, and more, has equipped me with the skills to analyze and visualize data in a way that drives business decisions.\\n\\nMy portfolio showcases my ability to work on diverse projects, from developing a chatbot powered by ChatGPT to implementing predictive computer vision models. I am proud of my achievements, including winning the 1st Prize at the Datathon 2024, University of Galway, and securing the IP Creation Award for Excellence in Patent Filing.\\n\\nIn addition to my technical skills, I possess excellent communication and collaboration skills, which have been demonstrated through my experience working with colleagues across multiple service lines. I am confident in my ability to build strong relationships and identify opportunities for our clients to benefit from our expertise in other areas.\\n\\nI am particularly drawn to EY's commitment to innovation, inclusivity, and employee development. As someone who is passionate about contributing to the growth of the team and bringing energy, enthusiasm, and leadership to develop others, I believe I would thrive in your dynamic and supportive environment.\\n\\nThank you for considering my application. I would welcome the opportunity to discuss my qualifications further and explore how I can contribute to the success of EY.\\n\\nSincerely,\\n[Your Name]\\n\\nFeel free to customize it as per your needs and preferences!\""
      ]
     },
     "execution_count": 21,
     "metadata": {},
     "output_type": "execute_result"
    }
   ],
   "source": [
    "resume_res['answer']"
   ]
  },
  {
   "cell_type": "markdown",
   "metadata": {},
   "source": [
    "\"Based on the job information provided, here's a cover letter that highlights your skills, experience, and accomplishments:\n",
    "\\n\\nDear Hiring Manager,\n",
    "\n",
    "\\n\\nI am excited to apply for the [Position] role at EY, as advertised. With a strong background in data analysis, machine learning, and innovation, I believe I would be a valuable addition to your team.\\n\\nAs a data analyst with a passion for solving complex problems, I have developed a unique ability to think creatively and challenge existing practices to develop innovative solutions. My experience in working with various data tools and technologies, including Langchain, JS, GPT 4o, SQLite3, FastAPI, and more, has equipped me with the skills to analyze and visualize data in a way that drives business decisions.\n",
    "\\n\\nMy portfolio showcases my ability to work on diverse projects, from developing a chatbot powered by ChatGPT to implementing predictive computer vision models. I am proud of my achievements, including winning the 1st Prize at the Datathon 2024, University of Galway, and securing the IP Creation Award for Excellence in Patent Filing.\\n\\n\n",
    "In addition to my technical skills, I possess excellent communication and collaboration skills, which have been demonstrated through my experience working with colleagues across multiple service lines. I am confident in my ability to build strong relationships and identify opportunities for our clients to benefit from our expertise in other areas.\\n\\n\n",
    "I am particularly drawn to EY's commitment to innovation, inclusivity, and employee development. As someone who is passionate about contributing to the growth of the team and bringing energy, enthusiasm, and leadership to develop others, I believe I would thrive in your dynamic and supportive environment.\\n\\n\n",
    "Thank you for considering my application. I would welcome the opportunity to discuss my qualifications further and explore how I can contribute to the success of EY.\\n\\n\n",
    "Sincerely,\\n\n",
    "[Your Name]\\n\\n\n",
    "\n",
    "Feel free to customize it as per your needs and preferences!\""
   ]
  },
  {
   "cell_type": "code",
   "execution_count": null,
   "metadata": {},
   "outputs": [],
   "source": []
  },
  {
   "cell_type": "code",
   "execution_count": null,
   "metadata": {},
   "outputs": [],
   "source": []
  },
  {
   "cell_type": "code",
   "execution_count": null,
   "metadata": {},
   "outputs": [
    {
     "name": "stdout",
     "output_type": "stream",
     "text": [
      "c\n",
      "b\n",
      "b\n",
      "d\n"
     ]
    },
    {
     "data": {
      "text/plain": [
       "'c'"
      ]
     },
     "execution_count": 14,
     "metadata": {},
     "output_type": "execute_result"
    }
   ],
   "source": [
    "s = 'cbbd'\n",
    "\n",
    "ans = ''\n",
    "subsrt = []\n",
    "p2 = len(s)-1\n",
    "\n",
    "for i in range(len(s)):\n",
    "    ans = ''\n",
    "    p2 = len(s)-1\n",
    "    p1 =i\n",
    "    print('startwith:',s[p1])\n",
    "    while p1<=p2:\n",
    "        if s[p1]==s[p2]:\n",
    "            \n",
    "            ans+=s[p1]\n",
    "            p1+=1\n",
    "            p2-=1\n",
    "        else:\n",
    "            p2-=1\n",
    "            p1=i\n",
    "\n",
    "    subsrt.append(ans)\n",
    "\n",
    "max(subsrt, key=len)"
   ]
  },
  {
   "cell_type": "code",
   "execution_count": 15,
   "metadata": {},
   "outputs": [
    {
     "data": {
      "text/plain": [
       "['c', 'b', 'b', 'd']"
      ]
     },
     "execution_count": 15,
     "metadata": {},
     "output_type": "execute_result"
    }
   ],
   "source": [
    "subsrt"
   ]
  },
  {
   "cell_type": "code",
   "execution_count": 5,
   "metadata": {},
   "outputs": [
    {
     "data": {
      "text/html": [
       "<div>\n",
       "<style scoped>\n",
       "    .dataframe tbody tr th:only-of-type {\n",
       "        vertical-align: middle;\n",
       "    }\n",
       "\n",
       "    .dataframe tbody tr th {\n",
       "        vertical-align: top;\n",
       "    }\n",
       "\n",
       "    .dataframe thead th {\n",
       "        text-align: right;\n",
       "    }\n",
       "</style>\n",
       "<table border=\"1\" class=\"dataframe\">\n",
       "  <thead>\n",
       "    <tr style=\"text-align: right;\">\n",
       "      <th></th>\n",
       "      <th>id_x</th>\n",
       "      <th>position_name_x</th>\n",
       "      <th>start_date_x</th>\n",
       "      <th>end_date_x</th>\n",
       "      <th>user_id_x</th>\n",
       "      <th>id_y</th>\n",
       "      <th>position_name_y</th>\n",
       "      <th>start_date_y</th>\n",
       "      <th>end_date_y</th>\n",
       "      <th>user_id_y</th>\n",
       "    </tr>\n",
       "  </thead>\n",
       "  <tbody>\n",
       "    <tr>\n",
       "      <th>0</th>\n",
       "      <td>1</td>\n",
       "      <td>Data Analyst</td>\n",
       "      <td>2023-01-01</td>\n",
       "      <td>2023-01-31</td>\n",
       "      <td>1</td>\n",
       "      <td>2</td>\n",
       "      <td>Data Scientist</td>\n",
       "      <td>2023-01-31</td>\n",
       "      <td>2023-03-31</td>\n",
       "      <td>1</td>\n",
       "    </tr>\n",
       "    <tr>\n",
       "      <th>1</th>\n",
       "      <td>4</td>\n",
       "      <td>Data Analyst</td>\n",
       "      <td>2023-03-01</td>\n",
       "      <td>2023-03-31</td>\n",
       "      <td>3</td>\n",
       "      <td>5</td>\n",
       "      <td>Data Scientist</td>\n",
       "      <td>2023-03-31</td>\n",
       "      <td>2023-05-31</td>\n",
       "      <td>3</td>\n",
       "    </tr>\n",
       "  </tbody>\n",
       "</table>\n",
       "</div>"
      ],
      "text/plain": [
       "   id_x position_name_x start_date_x  end_date_x  user_id_x  id_y  \\\n",
       "0     1    Data Analyst   2023-01-01  2023-01-31          1     2   \n",
       "1     4    Data Analyst   2023-03-01  2023-03-31          3     5   \n",
       "\n",
       "  position_name_y start_date_y  end_date_y  user_id_y  \n",
       "0  Data Scientist   2023-01-31  2023-03-31          1  \n",
       "1  Data Scientist   2023-03-31  2023-05-31          3  "
      ]
     },
     "execution_count": 5,
     "metadata": {},
     "output_type": "execute_result"
    }
   ],
   "source": [
    "import pandas as pd\n",
    "data = {\n",
    "    'id': [1, 2, 3, 4, 5, 6, 7, 8],\n",
    "    'position_name': ['Data Analyst', 'Data Scientist', 'Data Engineer', 'Data Analyst', 'Data Scientist', 'Data Analyst', 'Data Scientist', 'Data Analyst'],\n",
    "    'start_date': ['2023-01-01', '2023-01-31', '2023-01-01', '2023-03-01', '2023-03-31', '2023-05-01', '2023-06-01', '2023-07-01'],\n",
    "    'end_date': ['2023-01-31', '2023-03-31', '2023-01-31', '2023-03-31', '2023-05-31', '2023-06-30', '2023-07-31', '2023-08-31'],\n",
    "    'user_id': [1, 1, 2, 3, 3, 4, 4, 5],\n",
    "}\n",
    "\n",
    "# Create DataFrame\n",
    "user_experiences = pd.DataFrame(data)\n",
    "\n",
    "df_analyst = user_experiences[user_experiences['position_name']=='Data Analyst']\n",
    "df_scientist = user_experiences[user_experiences['position_name']=='Data Scientist']\n",
    "df = pd.merge(df_analyst,df_scientist,how='inner',left_on='end_date',right_on='start_date')\n",
    "df[df['user_id_x']==df['user_id_y']]"
   ]
  },
  {
   "cell_type": "code",
   "execution_count": 3,
   "metadata": {},
   "outputs": [
    {
     "data": {
      "text/html": [
       "<div>\n",
       "<style scoped>\n",
       "    .dataframe tbody tr th:only-of-type {\n",
       "        vertical-align: middle;\n",
       "    }\n",
       "\n",
       "    .dataframe tbody tr th {\n",
       "        vertical-align: top;\n",
       "    }\n",
       "\n",
       "    .dataframe thead th {\n",
       "        text-align: right;\n",
       "    }\n",
       "</style>\n",
       "<table border=\"1\" class=\"dataframe\">\n",
       "  <thead>\n",
       "    <tr style=\"text-align: right;\">\n",
       "      <th></th>\n",
       "      <th>id</th>\n",
       "      <th>position_name</th>\n",
       "      <th>start_date</th>\n",
       "      <th>end_date</th>\n",
       "      <th>user_id</th>\n",
       "    </tr>\n",
       "  </thead>\n",
       "  <tbody>\n",
       "    <tr>\n",
       "      <th>0</th>\n",
       "      <td>1</td>\n",
       "      <td>Data Analyst</td>\n",
       "      <td>2023-01-01</td>\n",
       "      <td>2023-01-31</td>\n",
       "      <td>1</td>\n",
       "    </tr>\n",
       "    <tr>\n",
       "      <th>1</th>\n",
       "      <td>2</td>\n",
       "      <td>Data Scientist</td>\n",
       "      <td>2023-02-01</td>\n",
       "      <td>2023-03-31</td>\n",
       "      <td>1</td>\n",
       "    </tr>\n",
       "    <tr>\n",
       "      <th>2</th>\n",
       "      <td>3</td>\n",
       "      <td>Data Engineer</td>\n",
       "      <td>2023-01-01</td>\n",
       "      <td>2023-01-31</td>\n",
       "      <td>2</td>\n",
       "    </tr>\n",
       "    <tr>\n",
       "      <th>3</th>\n",
       "      <td>4</td>\n",
       "      <td>Data Analyst</td>\n",
       "      <td>2023-03-01</td>\n",
       "      <td>2023-03-31</td>\n",
       "      <td>3</td>\n",
       "    </tr>\n",
       "    <tr>\n",
       "      <th>4</th>\n",
       "      <td>5</td>\n",
       "      <td>Data Scientist</td>\n",
       "      <td>2023-04-01</td>\n",
       "      <td>2023-05-31</td>\n",
       "      <td>3</td>\n",
       "    </tr>\n",
       "    <tr>\n",
       "      <th>5</th>\n",
       "      <td>6</td>\n",
       "      <td>Data Analyst</td>\n",
       "      <td>2023-05-01</td>\n",
       "      <td>2023-06-30</td>\n",
       "      <td>4</td>\n",
       "    </tr>\n",
       "    <tr>\n",
       "      <th>6</th>\n",
       "      <td>7</td>\n",
       "      <td>Data Scientist</td>\n",
       "      <td>2023-06-01</td>\n",
       "      <td>2023-07-31</td>\n",
       "      <td>4</td>\n",
       "    </tr>\n",
       "    <tr>\n",
       "      <th>7</th>\n",
       "      <td>8</td>\n",
       "      <td>Data Analyst</td>\n",
       "      <td>2023-07-01</td>\n",
       "      <td>2023-08-31</td>\n",
       "      <td>5</td>\n",
       "    </tr>\n",
       "  </tbody>\n",
       "</table>\n",
       "</div>"
      ],
      "text/plain": [
       "   id   position_name  start_date    end_date  user_id\n",
       "0   1    Data Analyst  2023-01-01  2023-01-31        1\n",
       "1   2  Data Scientist  2023-02-01  2023-03-31        1\n",
       "2   3   Data Engineer  2023-01-01  2023-01-31        2\n",
       "3   4    Data Analyst  2023-03-01  2023-03-31        3\n",
       "4   5  Data Scientist  2023-04-01  2023-05-31        3\n",
       "5   6    Data Analyst  2023-05-01  2023-06-30        4\n",
       "6   7  Data Scientist  2023-06-01  2023-07-31        4\n",
       "7   8    Data Analyst  2023-07-01  2023-08-31        5"
      ]
     },
     "execution_count": 3,
     "metadata": {},
     "output_type": "execute_result"
    }
   ],
   "source": [
    "user_experiences"
   ]
  },
  {
   "cell_type": "code",
   "execution_count": 8,
   "metadata": {},
   "outputs": [],
   "source": [
    "def intersection(a, b):\n",
    "  a1 = set(a)\n",
    "  b1 = set(b)\n",
    "  ans = a1.intersection(b1)\n",
    "  return list(ans)"
   ]
  },
  {
   "cell_type": "code",
   "execution_count": 9,
   "metadata": {},
   "outputs": [
    {
     "data": {
      "text/plain": [
       "[3, 4]"
      ]
     },
     "execution_count": 9,
     "metadata": {},
     "output_type": "execute_result"
    }
   ],
   "source": [
    "intersection([1,2,3,4,5,6],[3,4,8,9])"
   ]
  },
  {
   "cell_type": "code",
   "execution_count": 11,
   "metadata": {},
   "outputs": [],
   "source": [
    "products={}"
   ]
  },
  {
   "cell_type": "code",
   "execution_count": 29,
   "metadata": {},
   "outputs": [
    {
     "name": "stdout",
     "output_type": "stream",
     "text": [
      "['/collections/solar-kits/products/eg4-12kpv-hybrid-solar-inverter-eg4-wallmount-indoor-battery-bundle-14-3kwh-85-8kwh-capacity', '/collections/solar-kits/products/eg4-18kpv-hybrid-inverter-eg4-ll-s-48v-100ah-lithium-battery-bundle-30-72kwh', '/collections/solar-kits/products/eg4-6000xp-eg4-powerpro-wallmount-battery-bundle-14-3-85-8kwh-capacity', '/collections/solar-kits/products/eg4-ll-s-lithium-battery-bundle-30-72kwh-6-server-rack-batteries-with-pre-assembled-enclosed-battery-rack', '/collections/solar-kits/products/eg4-powerpro-ess-system-bundle-14-3-85-8kwh-capacity-eg4-18kpv-eg4-powerpro-wallmount-battery', '/collections/solar-kits/products/eg4-48v-indoor-280ah-wall-mount-battery-eg4-18kpv-18-000w-pv-input-inverter-system-bundle', '/collections/solar-kits/products/eg4-48v-indoor-280ah-wall-mount-battery-eg4-6000xp-off-grid-inverter-system-bundle']\n"
     ]
    }
   ],
   "source": [
    "import requests\n",
    "from bs4 import BeautifulSoup\n",
    "\n",
    "url = \"https://directsolarpower.com/collections/solar-kits\"\n",
    "response = requests.get(url)\n",
    "soup = BeautifulSoup(response.text, \"html.parser\")\n",
    "product_links = [a['href'] for a in soup.find_all('a', class_='productitem--image-link', href=True)]\n",
    "\n",
    "# Print the extracted product URLs\n",
    "print(product_links)"
   ]
  },
  {
   "cell_type": "code",
   "execution_count": 30,
   "metadata": {},
   "outputs": [],
   "source": [
    "products['solar-kits'] = product_links"
   ]
  },
  {
   "cell_type": "code",
   "execution_count": null,
   "metadata": {},
   "outputs": [
    {
     "data": {
      "text/plain": [
       "{'solar-panels': ['/collections/solar-panels/products/hyperion-400w-bifacial-solar-panel-black-up-to-500w-with-bifacial-gain',\n",
       "  '/collections/solar-panels/products/hyperion-395w-bifacial-solar-panel-black-up-to-495w-with-bifacial-gain',\n",
       "  '/collections/solar-panels/products/aptos-400w-bifacial-solar-panels-black-up-to-500w-with-bifacial-gain-dna-108-bf10',\n",
       "  '/collections/solar-panels/products/aptos-440-watt-bifacial-solar-panels-black-dna-120-bf10-440w',\n",
       "  '/collections/solar-panels/products/boviet-450w-bifacial-solar-panel-silver-up-to-540w-with-bifacial-gain-bvm6612m-450s-h-hc-bf-dg',\n",
       "  '/collections/solar-panels/products/adani-solar-530w-half-cut-mono-crystalline-bifacial-solar-panels-silver-asb-m10-144-530-up-to-645w-with-bifacial-gain',\n",
       "  '/collections/solar-panels/products/canadian-solar-400w-mono-crystalline-solar-panel-black-cs6r-400ms-hl',\n",
       "  '/collections/solar-panels/products/hyperion-395w-bifacial-solar-panel-black-up-to-495w-with-bifacial-gain-copy',\n",
       "  '/collections/solar-panels/products/rec-370w-mono-split-cell-solar-panel-twin-peak-2s-72-series-silver-rec370tp2sm72',\n",
       "  '/collections/solar-panels/products/solarever-450w-bifacial-solar-panel-black-up-to-562w-in-bifacial-gain-se-182-105-450m-96-bd',\n",
       "  '/collections/solar-panels/products/bluesun-16-56kw-pallet-of-460w-half-cell-bifacial-solar-panels-silver-up-to-575w-with-bifacial-gain-full-pallet-36-panels-16-56kw',\n",
       "  '/collections/solar-panels/products/bluesun-460w-half-cell-bifacial-solar-panel-silver-up-to-575w-with-bifacial-gain',\n",
       "  '/collections/solar-panels/products/hyperion-400w-bifacial-solar-panel-black-up-to-500w-with-bifacial-gain-copy',\n",
       "  '/collections/solar-panels/products/boviet-13-5kw-pallet-of-450w-bifacial-solar-panel-silver-up-to-540w-with-bifacial-gain-bvm6612m-450s-h-hc-bf-dg',\n",
       "  '/collections/solar-panels/products/aptos-12-4kw-pallet-of-400w-bifacial-solar-panels-black-dna-108-bf10-400w',\n",
       "  '/collections/solar-panels/products/aptos-13-6kw-pallet-of-440w-bifacial-solar-panels-black-dna-120-bf10-440w',\n",
       "  '/collections/solar-panels/products/adani-solar-530w-16-43kw-pallet-half-cut-mono-crystalline-bifacial-silver-asb-m10-144-530-up-to-645w-with-bifacial-gain',\n",
       "  '/collections/solar-panels/products/rec-12-2-kw-pallet-of-370w-mono-split-cell-solar-panels-silver-rec370tp2sm72-full-pallet-33-panels',\n",
       "  '/collections/solar-panels/products/phono-14-4kw-pallet-of-400w-mono-crystalline-solar-panel-black-ps400m6-18-vhb-full-pallet-36-panels',\n",
       "  '/collections/solar-panels/products/phono-400w-mono-crystalline-solar-panel-black-ps400m6-18-vhb',\n",
       "  '/collections/solar-panels/products/canadian-solar-11-85kw-pallet-of-395w-mono-crystalline-solar-panels-108-cell-black-cs6r395-full-pallet-30-panels',\n",
       "  '/collections/solar-panels/products/canadian-solar-395-watt-solar-panels-cs6r-395ms-hl',\n",
       "  '/collections/solar-panels/products/mango-power-e-3-53kwh-120v-2-x-200w-solar-panels-package',\n",
       "  '/collections/solar-panels/products/mango-power-solar-panel-solar-move-200w-36v'],\n",
       " 'off-grid-inverters': ['/collections/off-grid-inverters/products/eg4-12kpv-hybrid-inverter-48v-12000w-input-8000w-output-120-240v-split-phase-rsd-all-in-one-hybrid-solar-inverter',\n",
       "  '/collections/off-grid-inverters/products/eg4-18kpv-hybrid-inverter-all-in-one-solar-inverter-48v-120-240v-split-phase-eg4-18kpv-12lv',\n",
       "  '/collections/off-grid-inverters/products/eg4-3kw-off-grid-inverter-3000ehv-48-3000w-output-5000w-pv-input-500-voc-input',\n",
       "  '/collections/off-grid-inverters/products/eg4-6000xp-off-grid-inverter-split-phase-8000w-pv-input-6000w-output',\n",
       "  '/collections/off-grid-inverters/products/eg4-flexboss21-all-in-one-hybrid-inverter-21kw-pv-input-48v-split-phase',\n",
       "  '/collections/off-grid-inverters/products/growatt-60kw-three-phase-grid-tie-inverter-mac60ktl3-x-mv',\n",
       "  '/collections/off-grid-inverters/products/rich-solar-3000-watt-3-kw-48-v-off-grid-hybrid-solar-inverter',\n",
       "  '/collections/off-grid-inverters/products/ruixu-lithi2-16-lithium-battery-51-2v-314ah-16kwh-lifepo4-wallmount-energy-storage-9500-cycles-ul1973-ul9540-pending-10-year-warranty-copy',\n",
       "  '/collections/off-grid-inverters/products/rich-solar-nova-6500s-6500-watt-6-5kw-48-volt-off-grid-solar-inverter',\n",
       "  '/collections/off-grid-inverters/products/sol-ark-12k-all-in-one-hybrid-solar-inverter-10-year-warranty-included',\n",
       "  '/collections/off-grid-inverters/products/sol-ark-15k-all-in-one-hybrid-solar-inverter-10-year-warranty-included',\n",
       "  '/collections/off-grid-inverters/products/sol-ark-5k-1p-all-in-one-hybrid-solar-inverter',\n",
       "  '/collections/off-grid-inverters/products/sol-ark-8k-all-in-one-hybrid-solar-inverter-10-year-warranty-included'],\n",
       " 'hybrid-inverters': ['/collections/hybrid-inverters/products/eg4-12kpv-hybrid-inverter-48v-12000w-input-8000w-output-120-240v-split-phase-rsd-all-in-one-hybrid-solar-inverter',\n",
       "  '/collections/hybrid-inverters/products/eg4-18kpv-hybrid-inverter-all-in-one-solar-inverter-48v-120-240v-split-phase-eg4-18kpv-12lv',\n",
       "  '/collections/hybrid-inverters/products/eg4-6000xp-off-grid-inverter-split-phase-8000w-pv-input-6000w-output',\n",
       "  '/collections/hybrid-inverters/products/eg4-flexboss21-all-in-one-hybrid-inverter-21kw-pv-input-48v-split-phase',\n",
       "  '/collections/hybrid-inverters/products/rich-solar-3000-watt-3-kw-48-v-off-grid-hybrid-solar-inverter',\n",
       "  '/collections/hybrid-inverters/products/ruixu-lithi2-16-lithium-battery-51-2v-314ah-16kwh-lifepo4-wallmount-energy-storage-9500-cycles-ul1973-ul9540-pending-10-year-warranty-copy',\n",
       "  '/collections/hybrid-inverters/products/ruixu-12k-split-phase-inverter-rx-12k-ul1741',\n",
       "  '/collections/hybrid-inverters/products/sol-ark-12k-all-in-one-hybrid-solar-inverter-10-year-warranty-included',\n",
       "  '/collections/hybrid-inverters/products/sol-ark-15k-all-in-one-hybrid-solar-inverter-10-year-warranty-included',\n",
       "  '/collections/hybrid-inverters/products/sol-ark-5k-1p-all-in-one-hybrid-solar-inverter',\n",
       "  '/collections/hybrid-inverters/products/sol-ark-8k-all-in-one-hybrid-solar-inverter-10-year-warranty-included'],\n",
       " 'microinverters': ['/collections/microinverters/products/aptos-mac-400-1-1-trunk-version-microinverter',\n",
       "  '/collections/microinverters/products/aptos-mac-800r-dual-unit-2-1-trunk-version-microinverter'],\n",
       " 'server-rack-battery': ['/collections/server-rack-battery/products/eg4-ll-lithium-battery-v2-12v-400ah-server-rack-battery',\n",
       "  '/collections/server-rack-battery/products/eg4-ll-lithium-battery-v2-24v-200ah-server-rack-battery',\n",
       "  '/collections/server-rack-battery/products/eg4-wall-mount-indoor-lithium-battery-280ah-51-2v-indoor-heated-ul1973-ul9540a-copy',\n",
       "  '/collections/server-rack-battery/products/ruixu-battery-rx-lfp48100-server-rack-battery',\n",
       "  '/collections/server-rack-battery/products/ruixu-rx-lfp48100-50-kwh-lithium-server-rack-battery-kit',\n",
       "  '/collections/server-rack-battery/products/ruixu-rx-lfp48100-19-rack-mounted-3u-module-battery-ul-1973-certified-copy',\n",
       "  '/collections/server-rack-battery/products/ruixu-rx-lfp48100-self-heating-lithium-server-rack-battery-kit-15-kwh-20-kwh-25-kwh-30-kwh',\n",
       "  '/collections/server-rack-battery/products/ruixu-battery-rx-lfp48100-h-server-rack-battery'],\n",
       " 'portable-battery': ['/collections/portable-battery/products/homepower-one',\n",
       "  '/collections/portable-battery/products/hp1-pro-lifepo4-power-stations',\n",
       "  '/collections/portable-battery/products/homepower2',\n",
       "  '/collections/portable-battery/products/hp2-pro-lifepo4-power-stations',\n",
       "  '/collections/portable-battery/products/ecoflow-delta-2-max-portable-power-station',\n",
       "  '/collections/portable-battery/products/ecoflow-delta-2-portable-power-station',\n",
       "  '/collections/portable-battery/products/ecoflow-delta-max-portable-power-station',\n",
       "  '/collections/portable-battery/products/ecoflow-delta-mini-portable-power-station',\n",
       "  '/collections/portable-battery/products/ecoflow-delta-portable-power-station',\n",
       "  '/collections/portable-battery/products/ecoflow-delta-pro-portable-power-station'],\n",
       " 'battery-chargers': ['/collections/battery-chargers/products/eg4-battery-charger-36v-30a',\n",
       "  '/collections/battery-chargers/products/eg4-battery-charger-24v-10a-copy',\n",
       "  '/collections/battery-chargers/products/eg4-battery-charger-36v-10a'],\n",
       " 'solar-charge-controller': ['/collections/solar-charge-controller/products/eg4-solar-charge-controller-mppt-500vdc-100a-mppt100-48hv'],\n",
       " 'battery-cases-racks': ['/collections/battery-cases-racks/products/96in-1-0-awg-battery-to-inverter-cables-black-and-red',\n",
       "  '/collections/battery-cases-racks/products/eg4-3-slot-battery-rack-with-pre-assembled-enclosed-rack-with-door-wheels-busbar-covers-copy',\n",
       "  '/collections/battery-cases-racks/products/eg4-6-slot-battery-rack-grey-logo',\n",
       "  '/collections/battery-cases-racks/products/eg4-brightmount-solar-panel-ground-mount-rack-kit',\n",
       "  '/collections/battery-cases-racks/products/ruixu-10-slot-battery-cabinet-wheels-busbar-included-pre-assembled',\n",
       "  '/collections/battery-cases-racks/products/ruixu-6-slot-battery-cabinet-wheels-busbar-included-pre-assembled',\n",
       "  '/collections/battery-cases-racks/products/ruixu-battery-optional-installation-method-bracket-rack-flexibility-stackable',\n",
       "  '/collections/battery-cases-racks/products/ruixu-bracket-rack-for-rx-lfp48100'],\n",
       " 'solar-kits': ['/collections/solar-kits/products/eg4-12kpv-hybrid-solar-inverter-eg4-wallmount-indoor-battery-bundle-14-3kwh-85-8kwh-capacity',\n",
       "  '/collections/solar-kits/products/eg4-18kpv-hybrid-inverter-eg4-ll-s-48v-100ah-lithium-battery-bundle-30-72kwh',\n",
       "  '/collections/solar-kits/products/eg4-6000xp-eg4-powerpro-wallmount-battery-bundle-14-3-85-8kwh-capacity',\n",
       "  '/collections/solar-kits/products/eg4-ll-s-lithium-battery-bundle-30-72kwh-6-server-rack-batteries-with-pre-assembled-enclosed-battery-rack',\n",
       "  '/collections/solar-kits/products/eg4-powerpro-ess-system-bundle-14-3-85-8kwh-capacity-eg4-18kpv-eg4-powerpro-wallmount-battery',\n",
       "  '/collections/solar-kits/products/eg4-48v-indoor-280ah-wall-mount-battery-eg4-18kpv-18-000w-pv-input-inverter-system-bundle',\n",
       "  '/collections/solar-kits/products/eg4-48v-indoor-280ah-wall-mount-battery-eg4-6000xp-off-grid-inverter-system-bundle']}"
      ]
     },
     "execution_count": 31,
     "metadata": {},
     "output_type": "execute_result"
    }
   ],
   "source": [
    "products"
   ]
  },
  {
   "cell_type": "code",
   "execution_count": 40,
   "metadata": {},
   "outputs": [],
   "source": [
    "url = \"https://directsolarpower.com\"\n",
    "\n",
    "new_prod_dict = {}\n",
    "for key in products.keys():\n",
    "    new_prod_dict[key] = {}\n",
    "    products_list = products[key]\n",
    "    for product in products_list:\n",
    "        response = requests.get(url+product)\n",
    "        soup = BeautifulSoup(response.text, 'html.parser')\n",
    "        pdf_links = [a['href'] for a in soup.find_all('a', href=True) if '.pdf' in a['href']]\n",
    "        new_prod_dict[key][product.split('/')[-1]] = pdf_links\n",
    "        # print(f'{key}:{product}')\n",
    "\n",
    "# print(new_prod_dict)"
   ]
  },
  {
   "cell_type": "code",
   "execution_count": null,
   "metadata": {},
   "outputs": [],
   "source": [
    "import json\n",
    "with open('products.json', 'r') as fp:\n",
    "    json.dump(new_prod_dict, fp)"
   ]
  },
  {
   "cell_type": "code",
   "execution_count": null,
   "metadata": {},
   "outputs": [],
   "source": []
  },
  {
   "cell_type": "code",
   "execution_count": null,
   "metadata": {},
   "outputs": [],
   "source": [
    "import pandas as pd\n",
    "\n",
    "df = pd.DataFrame(product_links, columns=[\"Product URL\"])\n",
    "df.to_csv(\"product_links.csv\", index=False)"
   ]
  },
  {
   "cell_type": "code",
   "execution_count": 2,
   "metadata": {},
   "outputs": [],
   "source": [
    "import json\n",
    "with open('products.json') as json_file:\n",
    "    data = json.load(json_file)"
   ]
  },
  {
   "cell_type": "code",
   "execution_count": 8,
   "metadata": {},
   "outputs": [
    {
     "data": {
      "text/plain": [
       "149"
      ]
     },
     "execution_count": 8,
     "metadata": {},
     "output_type": "execute_result"
    }
   ],
   "source": [
    "i=0\n",
    "for cat in data.keys():\n",
    "    for prod in data[cat].keys():\n",
    "        l = data[cat][prod]\n",
    "        i+=len(l)\n",
    "\n",
    "i"
   ]
  },
  {
   "cell_type": "code",
   "execution_count": 2,
   "metadata": {},
   "outputs": [
    {
     "name": "stdout",
     "output_type": "stream",
     "text": [
      "[{'timestamp': 1000, 'content': 'Hello'}, {'timestamp': 1100, 'content': 'Hi there'}, {'timestamp': 2100, 'content': 'How are you'}, {'timestamp': 3000, 'content': 'Goodbye'}]\n"
     ]
    }
   ],
   "source": [
    "ver_list = [{'timestamp': 1000, 'content': 'Hello'},\n",
    " {'timestamp': 2100, 'content': 'How are you'},\n",
    "  {'timestamp': 1100, 'content': 'Hi there'}, \n",
    "  {'timestamp': 3000, 'content': 'Goodbye'}]\n",
    "\n",
    "def myFunc(e):\n",
    "  return e['timestamp']\n",
    "\n",
    "def sort_versions(ver_list):\n",
    "    ver_list.sort(key=myFunc)\n",
    "    return ver_list\n",
    "\n",
    "print(sort_versions(ver_list))"
   ]
  },
  {
   "cell_type": "code",
   "execution_count": null,
   "metadata": {},
   "outputs": [],
   "source": []
  }
 ],
 "metadata": {
  "kernelspec": {
   "display_name": "cc_venv",
   "language": "python",
   "name": "python3"
  },
  "language_info": {
   "codemirror_mode": {
    "name": "ipython",
    "version": 3
   },
   "file_extension": ".py",
   "mimetype": "text/x-python",
   "name": "python",
   "nbconvert_exporter": "python",
   "pygments_lexer": "ipython3",
   "version": "3.12.4"
  }
 },
 "nbformat": 4,
 "nbformat_minor": 2
}
